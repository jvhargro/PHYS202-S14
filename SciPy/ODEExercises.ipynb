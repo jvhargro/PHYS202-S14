{
 "metadata": {
  "name": "",
  "signature": "sha256:2686dc7bc03d5f0ef59a00fcfc3c178dd3e8067c1f2a86c04b32ea6d99f2fdcc"
 },
 "nbformat": 3,
 "nbformat_minor": 0,
 "worksheets": [
  {
   "cells": [
    {
     "cell_type": "heading",
     "level": 1,
     "metadata": {},
     "source": [
      "ODE Exercises"
     ]
    },
    {
     "cell_type": "heading",
     "level": 3,
     "metadata": {},
     "source": [
      "Question 1"
     ]
    },
    {
     "cell_type": "markdown",
     "metadata": {},
     "source": [
      "\n",
      "\n",
      "For this question refer to the solutions for the simple pendulum we got using scipy's odeint from the beginning of the ODE Tour.\n",
      "\n",
      "(a) Use the numerical solution to see what happens to the period of the pendulum as you change the initial angle of release. Plot \u03b8 vs. t for 5 different initial angles, \u03b80 , spanning 0 to \u03c0. (i.e. 0, \u03c0/4 , \u03c0/2 , 3\u03c0/4 , and \u03c0 ). Put them all on the same plot. What happens to the period of the pendulum as the initial angle increases from \u03c0/4 to 3\u03c0/4? What happens to the trajectory when the initial angle is 0 or \u03c0 ?\n"
     ]
    },
    {
     "cell_type": "code",
     "collapsed": false,
     "input": [],
     "language": "python",
     "metadata": {},
     "outputs": []
    },
    {
     "cell_type": "markdown",
     "metadata": {},
     "source": [
      "(b) Make plots of \u03b8 vs. t, \u03c9 vs. t, and \u03c9 vs. \u03b8 (the so-called \"phase plot\") for \u03b80 = 0.95\u03c0. Look carefully at their behavior. What is going on in these figures?"
     ]
    },
    {
     "cell_type": "code",
     "collapsed": false,
     "input": [],
     "language": "python",
     "metadata": {},
     "outputs": []
    },
    {
     "cell_type": "markdown",
     "metadata": {},
     "source": [
      "\n",
      "\n",
      "(c) For the \u03b80 = 0.95\u03c0 case, check that energy is conserved by plotting E/m vs. t (where E/m=g\u2113cos(\u03b8)+12\u21132\u03c92 ).\n",
      "\n",
      "Is the energy a constant? If not, then the computational errors are producing a non-physical loss (or gain) of energy. Review the documentation for odeint and change the error tolerance value to a tighter number.\n"
     ]
    },
    {
     "cell_type": "code",
     "collapsed": false,
     "input": [],
     "language": "python",
     "metadata": {},
     "outputs": []
    },
    {
     "cell_type": "markdown",
     "metadata": {},
     "source": [
      "\n",
      "\n",
      "(d) Now look at what happens if we start the pendulum straight up, \u03b8=\u03c0. Go for at least 50 s. Be sure to describe what happens numerically according to the \u03b8 vs. t, \u03c9 vs. t and E/m vs. t plots. What do you think should happen? What happens if you change the error tolerance on odeint? How does this compare to a nearly vertical pendulum: \u03b80=\u03c0\u22120.000001 ?\n"
     ]
    },
    {
     "cell_type": "code",
     "collapsed": false,
     "input": [],
     "language": "python",
     "metadata": {},
     "outputs": []
    },
    {
     "cell_type": "heading",
     "level": 3,
     "metadata": {},
     "source": [
      "Question 2"
     ]
    },
    {
     "cell_type": "markdown",
     "metadata": {},
     "source": [
      "\n",
      "\n",
      "(a) Use Euler's method (not odeint) to solve the following first-order differential equation with given initial condition y(0) = 0.\n",
      "\n",
      "dydx=x+2y\n",
      "\n",
      "Find the value of y when x = 1, y(1), using two different step sizes: 0.25 then 0.02.\n"
     ]
    },
    {
     "cell_type": "code",
     "collapsed": false,
     "input": [],
     "language": "python",
     "metadata": {},
     "outputs": []
    },
    {
     "cell_type": "markdown",
     "metadata": {},
     "source": [
      "\n",
      "\n",
      "(b) Plot the results from part (a) for the two different step sizes with the exact solution\n",
      "\n",
      "y=0.25e2x\u22120.5x\u22120.25\n",
      "\n",
      "on one plot. Include a legend. Which step size gives a more accurate result?\n"
     ]
    },
    {
     "cell_type": "code",
     "collapsed": false,
     "input": [],
     "language": "python",
     "metadata": {},
     "outputs": []
    },
    {
     "cell_type": "markdown",
     "metadata": {},
     "source": [
      "\n",
      "\n",
      "(c) Now solve the same problem using Euler-Cromer and the Midpoint method for the same pair of step sizes and plot the results along with the exact solution. Then also plot the difference between the approximate numerical solutions and the exact solution. Which combination of method and step-size gives the best result?\n"
     ]
    },
    {
     "cell_type": "code",
     "collapsed": false,
     "input": [],
     "language": "python",
     "metadata": {},
     "outputs": []
    },
    {
     "cell_type": "heading",
     "level": 3,
     "metadata": {},
     "source": [
      "Question 3"
     ]
    },
    {
     "cell_type": "markdown",
     "metadata": {},
     "source": [
      "\n",
      "\n",
      "We can use numerical solvers and widgets to explore the dynamics of a projectile that is subject to a drag force proportional to the square of its velocity - \"quadratic drag\".\n",
      "\n",
      "The force on the projectile is given by\n",
      "\n",
      "\u2211F\u20d7 =ma\u20d7 =mg\u20d7 \u2212cv2v^=mg\u20d7 \u2212cvv\u20d7 =mg\u20d7 \u2212cv2x+v2y\u2212\u2212\u2212\u2212\u2212\u2212\u221av\u20d7 \n",
      "\n",
      "Where the second term is the drag force, in the direction opposite that of the velocity vector. Re-writing these in terms of the first-order differential equations for vx and vy gives\n",
      "\n",
      "mdvxdt=\u2212cv2x+v2y\u2212\u2212\u2212\u2212\u2212\u2212\u221avx\n",
      "\n",
      "mdvydt=mg\u2212cv2x+v2y\u2212\u2212\u2212\u2212\u2212\u2212\u221avy\n",
      "\n",
      "taking the positive y direction to be down. Notice that these are coupled equations. There are both vx and vy terms in each one. The drag coefficient c depends on the shape and density of the projectile. We can re-write this system of equations in terms of the terminal velocity - the point at which the gravitational force balances the drag force. This happens when mg=cv2. Let's denote the terminal velocity as vter=mg/c\u2212\u2212\u2212\u2212\u221a and re-write our equations in terms of vter.\n",
      "\n",
      "dvxdt=\u2212gmvxv2terv2x+v2y\u2212\u2212\u2212\u2212\u2212\u2212\u221a\n",
      "\n",
      "dvydt=\u2212gm(1+vyv2terv2x+v2y\u2212\u2212\u2212\u2212\u2212\u2212\u221a)\n",
      "\n",
      "(a) Create a derivative function to solve this system of equations and use odeint to solve it for a projectile fired at an angle of 50 degrees from the horizontal at an initial speed of 30 m/s. Track the projectile's motion over the time interval of 0 to 200 seconds and let (x0,y0) = (0,0). You'll have to calculate (vx0,vy0) from the information provided. Let vter=44 m/s. Plot the trajectory of the projectile (y vs. x) to see how far it can travel in the x direction before landing.\n"
     ]
    },
    {
     "cell_type": "code",
     "collapsed": false,
     "input": [],
     "language": "python",
     "metadata": {},
     "outputs": []
    },
    {
     "cell_type": "markdown",
     "metadata": {},
     "source": [
      "(b) Now create an interact object that uses sliders for the initial speed, terminal velocity, launch angle, and time. Have it plot two curves - one representing the solution with quadratic drag and the other in the absence of drag:\n",
      "\n",
      "x(t)=x0+vx0t\n",
      "y(t)=y0+vy0t\u221212gt2"
     ]
    },
    {
     "cell_type": "code",
     "collapsed": false,
     "input": [],
     "language": "python",
     "metadata": {},
     "outputs": []
    },
    {
     "cell_type": "markdown",
     "metadata": {},
     "source": [
      "\n",
      "\n",
      "(c) Use your interact object to find 3 pairs of initial angle and speed needed for the following projectiles to reach a target 80 m away. How do the values change if there is no air resistance? Put your results in a table for easier reading.\n",
      "Projectile \tTerminal velocity (m/s) \tInitial height (m)\n",
      "Golfball \t44 \t0\n",
      "Baseball \t43 \t1.5\n",
      "Pumpkin \t107 \t1.5 "
     ]
    },
    {
     "cell_type": "code",
     "collapsed": false,
     "input": [],
     "language": "python",
     "metadata": {},
     "outputs": []
    }
   ],
   "metadata": {}
  }
 ]
}