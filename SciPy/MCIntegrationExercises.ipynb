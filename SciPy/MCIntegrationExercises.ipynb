{
 "metadata": {
  "name": "",
  "signature": "sha256:c617ed0f2c3a3fe47be86340d339921950c1dd0433745c063ebee308e54ad686"
 },
 "nbformat": 3,
 "nbformat_minor": 0,
 "worksheets": [
  {
   "cells": [
    {
     "cell_type": "heading",
     "level": 1,
     "metadata": {},
     "source": [
      "Monte Carlo Integration Exercises"
     ]
    },
    {
     "cell_type": "code",
     "collapsed": false,
     "input": [
      "%pylab inline\n",
      "import numpy as np\n",
      "import matplotlib.pyplot as plt"
     ],
     "language": "python",
     "metadata": {},
     "outputs": [
      {
       "output_type": "stream",
       "stream": "stdout",
       "text": [
        "Populating the interactive namespace from numpy and matplotlib\n"
       ]
      }
     ],
     "prompt_number": 1
    },
    {
     "cell_type": "heading",
     "level": 3,
     "metadata": {},
     "source": [
      "Question 1"
     ]
    },
    {
     "cell_type": "markdown",
     "metadata": {},
     "source": [
      "Let\u2019s compute the electric potential from a plane of charge as shown in the figure using Monte Carlo integration."
     ]
    },
    {
     "cell_type": "markdown",
     "metadata": {},
     "source": [
      "The integral comes from summing all the potentials from the chunks of \u201cpoint\u201d charges. Just as we summed two charges for a dipole, now we\u2019ll sum many charges. The important part is to understand how dQ, modeled as a point charge, is related to \u03c3dA, where \u03c3 is the surface charge density = charge/area (\u03c3=Q/A ) Review your notes from PHYS 133 if you need a refresher.\n",
      "We want to use our previously defined pointPotential() function from Electrostatics.py, so we have to import it."
     ]
    },
    {
     "cell_type": "code",
     "collapsed": false,
     "input": [
      "from Electrostatics import *"
     ],
     "language": "python",
     "metadata": {},
     "outputs": [],
     "prompt_number": 2
    },
    {
     "cell_type": "markdown",
     "metadata": {},
     "source": [
      "(a) Use the sample mean method to compute the potential at point P(2,3) due to the disk of charge for different numbers of samples N=(101,102,103,104,105,106). Report the value and its statistical uncertainty for each sample size. How does the result depend on N?"
     ]
    },
    {
     "cell_type": "code",
     "collapsed": false,
     "input": [
      "xyfunc = lambda x,y: pointPotential(x,y, 1e-6, 2.,3.)\n",
      "\n",
      "xmin = -1.\n",
      "xmax = 1.\n",
      "ymin = 0.\n",
      "ymax = 2.\n",
      "\n",
      "N = [10.,10.**2.,10.**3.,10.**4.,10.**5.,10.**6.]\n",
      "\n",
      "for i in range(len(N)):\n",
      "    samplesx = xmin + (xmax-xmin)*np.random.random_sample(N[i])\n",
      "    samplesy = ymin + (ymax-ymin)*np.random.random_sample(N[i])\n",
      "    print (xmax-xmin)*(ymax-ymin)*xyfunc(samplesx,samplesy).mean()"
     ],
     "language": "python",
     "metadata": {},
     "outputs": [
      {
       "output_type": "stream",
       "stream": "stdout",
       "text": [
        "11546.7506321\n",
        "12277.1176514\n",
        "13150.1822633\n",
        "13008.6142496\n",
        "13031.6897032\n",
        "13024.7844147"
       ]
      },
      {
       "output_type": "stream",
       "stream": "stdout",
       "text": [
        "\n"
       ]
      }
     ],
     "prompt_number": 3
    },
    {
     "cell_type": "markdown",
     "metadata": {},
     "source": [
      "(b) Now use the same method to compute the electric potential, V, at point P(2,3), from a disk centered on the origin with radius, R=1.2 m, and charge density, \u03c3 = 2 nC/m2 ."
     ]
    },
    {
     "cell_type": "code",
     "collapsed": false,
     "input": [
      "rthetafunc = lambda r,theta: pointPotential(r,theta, 1e-6, 2.,3.)\n",
      "\n",
      "rmin = 0.\n",
      "rmax = 1.2\n",
      "thetamin = 0.\n",
      "thetamax = 2.*np.pi\n",
      "\n",
      "N = [10,10**2,10**3,10**4,10**5,10**6]\n",
      "\n",
      "for i in range(len(N)):\n",
      "    samplesr = rmin + (rmax-rmin)*np.random.random_sample(N[i])\n",
      "    samplestheta = thetamin + (thetamax-thetamin)*np.random.random_sample(N[i])\n",
      "    print (rmax-rmin)*(thetamax-thetamin)*rthetafunc(samplesr,samplestheta).mean()"
     ],
     "language": "python",
     "metadata": {},
     "outputs": [
      {
       "output_type": "stream",
       "stream": "stdout",
       "text": [
        "31118.4877146\n",
        "33942.2808872\n",
        "33573.1163755\n",
        "34164.607261\n",
        "34108.5725923\n",
        "34112.1667114"
       ]
      },
      {
       "output_type": "stream",
       "stream": "stdout",
       "text": [
        "\n"
       ]
      }
     ],
     "prompt_number": 4
    },
    {
     "cell_type": "heading",
     "level": 3,
     "metadata": {},
     "source": [
      "Question 2"
     ]
    },
    {
     "cell_type": "markdown",
     "metadata": {},
     "source": [
      "Use the sample mean method to compute the volume of a sphere with radius 1 using spherical coordinates:\n",
      "V=\u222b10\u222b\u03c00\u222b2\u03c00r2sin(\u03b8)drd\u03b8d\u03d5\n",
      "for N=(101,102,103,104,105,106). Report the value and statistical uncertainty for each sample size. How does the result depend on N?"
     ]
    },
    {
     "cell_type": "code",
     "collapsed": false,
     "input": [
      "funcxyz = lambda x,y,z: x**2*np.sin(y)\n",
      "xmin = 0.\n",
      "xmax = 1.\n",
      "ymin = 0.\n",
      "ymax = np.pi\n",
      "zmin = 0\n",
      "zmax = 2.*np.pi\n",
      "\n",
      "N = [10.,10.**2.,10.**3.,10.**4.,10.**5.,10.**6.]\n",
      "\n",
      "for i in range(len(N)):\n",
      "    samplesx = xmin + (xmax-xmin)*np.random.random_sample(N[i])\n",
      "    samplesy = ymin + (ymax-ymin)*np.random.random_sample(N[i])\n",
      "    samplesz = zmin + (zmax-zmin)*np.random.random_sample(N[i])\n",
      "    print (zmax-zmin)*(xmax-xmin)*(ymax-ymin)*funcxyz(samplesx,samplesy,samplesz).mean()"
     ],
     "language": "python",
     "metadata": {},
     "outputs": [
      {
       "output_type": "stream",
       "stream": "stdout",
       "text": [
        "2.41763907733\n",
        "4.52553931713\n",
        "4.04811201331\n",
        "4.21742514841\n",
        "4.15646069343\n",
        "4.19329917497"
       ]
      },
      {
       "output_type": "stream",
       "stream": "stdout",
       "text": [
        "\n"
       ]
      }
     ],
     "prompt_number": 5
    },
    {
     "cell_type": "heading",
     "level": 3,
     "metadata": {},
     "source": [
      "Question 3"
     ]
    },
    {
     "cell_type": "markdown",
     "metadata": {},
     "source": [
      "(a) Use the hit or miss Monte Carlo method to estimate the integral of f(x)=41\u2212x2\u203e\u203e\u203e\u203e\u203e\u203e\u203e\u221a in the interval 0\u2264x\u22641 as a function of N, the number of samples. Let N range from 101 to 106 and use at least 100 different values for N.\n",
      "(np.logspace might be useful here to get evenly spaced values for N.)"
     ]
    },
    {
     "cell_type": "code",
     "collapsed": false,
     "input": [
      "N = np.logspace(1.,6.,100.)\n",
      "\n",
      "\n",
      "def hitOrMiss(N):\n",
      "    \n",
      "    xmin= 0.\n",
      "    xmax= 1.\n",
      "\n",
      "    #Set up the function\n",
      "    fx = lambda x: 4*np.sqrt(1-x**2)\n",
      "    x = np.arange(0.,15.,0.001)\n",
      "\n",
      "    #find the maximum value of f within the boundary to set ymax\n",
      "    subx = x[logical_and((x > xmin),(x < xmax))]\n",
      "    ymax = fx(subx).max()*1.05\n",
      "    ymin = 0.\n",
      "\n",
      "    samples_x = xmin + (xmax-xmin)*np.random.random_sample(N);\n",
      "    samples_y = ymin + (ymax-ymin)*np.random.random_sample(N);\n",
      "    \n",
      "    newmask = (samples_y < fx(samples_x))\n",
      "    I = (xmax-xmin)*(ymax-ymin)*newmask.sum()/newmask.size\n",
      "    return I\n",
      "count = 0\n",
      "for n in N:\n",
      "    count+=1\n",
      "    print \"run\", count, \"with\", n, \"samples =\", hitOrMiss(n)\n",
      " "
     ],
     "language": "python",
     "metadata": {},
     "outputs": [
      {
       "output_type": "stream",
       "stream": "stdout",
       "text": [
        "run 1 with 10.0 samples = 4.1999979\n",
        "run 2 with 11.2332403298 samples = 4.1999979\n",
        "run 3 with 12.6185688307 samples = 4.1999979\n",
        "run 4 with 14.1747416293 samples = 2.9999985\n",
        "run 5 with 15.9228279334 samples = 3.35999832\n",
        "run 6 with 17.8864952906 samples = 3.2117631\n",
        "run 7 with 20.0923300257 samples = 2.93999853\n",
        "run 8 with 22.5701971963 samples = 3.05454392727\n",
        "run 9 with 25.3536449397 samples = 2.687998656\n",
        "run 10 with 28.4803586844 samples = 3.149998425\n",
        "run 11 with 31.992671378 samples = 3.38709508064\n",
        "run 12 with 35.938136638 samples = 2.51999874\n",
        "run 13 with 40.370172586 samples = 3.569998215\n",
        "run 14 with 45.3487850813 samples = 2.98666517333\n",
        "run 15 with 50.9413801482 samples = 3.35999832\n",
        "run 16 with 57.2236765935 samples = 3.09473529474\n",
        "run 17 with 64.2807311728 samples = 3.47812326094\n",
        "run 18 with 72.2080901839 samples = 3.09166512083\n",
        "run 19 with 81.113083079 samples = 3.26666503333\n",
        "run 20 with 91.1162756115 samples = 3.27692143846\n",
        "run 21 with 102.35310219 samples = 3.00588085\n",
        "run 22 with 114.97569954 samples = 3.13157738158\n",
        "run 23 with 129.154966501 samples = 3.12557983256\n",
        "run 24 with 145.08287785 samples = 3.12827429793\n",
        "run 25 with 162.975083462 samples = 3.11110955556\n",
        "run 26 with 183.07382803 samples = 3.07540829836\n",
        "run 27 with 205.651230835 samples = 3.2985349361\n",
        "run 28 with 231.012970008 samples = 3.05454392727\n",
        "run 29 with 259.50242114 samples = 3.16216058108\n",
        "run 30 with 291.505306283 samples = 3.3051529866\n",
        "run 31 with 327.454916288 samples = 3.22385159908\n",
        "run 32 with 367.837977183 samples = 3.21580220681\n",
        "run 33 with 413.201240012 samples = 3.21355771525\n",
        "run 34 with 464.158883361 samples = 3.16810186422\n",
        "run 35 with 521.4008288 samples = 3.23262794223\n",
        "run 36 with 585.702081806 samples = 3.14461381231\n",
        "run 37 with 657.933224658 samples = 3.18356005205\n",
        "run 38 with 739.072203353 samples = 3.18267770501\n",
        "run 39 with 830.217568132 samples = 3.18795021325\n",
        "run 40 with 932.603346883 samples = 3.23562069979\n",
        "run 41 with 1047.61575279 samples = 3.1249268043\n",
        "run 42 with 1176.81195243 samples = 3.13571271786\n",
        "run 43 with 1321.94114847 samples = 3.07448748622\n",
        "run 44 with 1484.96826225 samples = 3.10754561604\n",
        "run 45 with 1668.1005372 samples = 3.17266028417\n",
        "run 46 with 1873.81742286 samples = 3.08104490902\n",
        "run 47 with 2104.90414451 samples = 3.12604406435\n",
        "run 48 with 2364.48941265 samples = 3.11979539442\n",
        "run 49 with 2656.08778295 samples = 3.12469723283\n",
        "run 50 with 2983.64724028 samples = 3.15809429759\n",
        "run 51 with 3351.60265094 samples = 3.18853913984\n",
        "run 52 with 3764.93580679 samples = 3.13660842107\n",
        "run 53 with 4229.24287439 samples = 3.1631575577\n",
        "run 54 with 4750.8101621 samples = 3.1637036813\n",
        "run 55 with 5336.69923121 samples = 3.15157263711\n",
        "run 56 with 5994.84250319 samples = 3.17277118639\n",
        "run 57 with 6734.15065775 samples = 3.16902128451\n",
        "run 58 with 7564.63327555 samples = 3.16832205412\n",
        "run 59 with 8497.53435909 samples = 3.12936174001\n",
        "run 60 with 9545.48456662 samples = 3.16902932172\n",
        "run 61 with 10722.6722201 samples = 3.15567833262\n",
        "run 62 with 12045.0354026 samples = 3.14590129131\n",
        "run 63 with 13530.4777458 samples = 3.15139532009\n",
        "run 64 with 15199.1108295 samples = 3.14910034005\n",
        "run 65 with 17073.5264747 samples = 3.14981392325\n",
        "run 66 with 19179.1026167 samples = 3.12410292723\n",
        "run 67 with 21544.3469003 samples = 3.14239538387\n",
        "run 68 with 24201.2826479 samples = 3.1594133205\n",
        "run 69 with 27185.8824273 samples = 3.14401167059\n",
        "run 70 with 30538.5550883 samples = 3.1279242989\n",
        "run 71 with 34304.6928631 samples = 3.14448886619\n",
        "run 72 with 38535.2859371 samples = 3.15324093019\n",
        "run 73 with 43287.6128108 samples = "
       ]
      },
      {
       "output_type": "stream",
       "stream": "stdout",
       "text": [
        "3.13425583117\n",
        "run 74 with 48626.0158007 samples = 3.15004161175\n",
        "run 75 with 54622.7721768 samples = 3.13012182844\n",
        "run 76 with 61359.0727341 samples = 3.14327325357\n",
        "run 77 with 68926.1210435 samples = 3.14746962726\n",
        "run 78 with 77426.3682681 samples = 3.14362460027\n",
        "run 79 with 86974.9002618 samples = 3.14480722103\n",
        "run 80 with 97700.9957299 samples = 3.13555421523\n",
        "run 81 with 109749.876549 samples = 3.13745572018\n",
        "run 82 with 123284.673944 samples = 3.14257167423\n",
        "run 83 with 138488.637139 samples = "
       ]
      },
      {
       "output_type": "stream",
       "stream": "stdout",
       "text": [
        "3.14156737382\n",
        "run 84 with 155567.614393 samples = 3.14394412345\n",
        "run 85 with 174752.840001 samples = 3.13202095734\n",
        "run 86 with 196304.065004 samples = 3.14004957514\n",
        "run 87 with 220513.07399 samples = 3.13988950224\n",
        "run 88 with 247707.635599 samples = "
       ]
      },
      {
       "output_type": "stream",
       "stream": "stdout",
       "text": [
        "3.14041432438\n",
        "run 89 with 278255.940221 samples = 3.13816090778\n",
        "run 90 with 312571.584969 samples = 3.1380361888\n",
        "run 91 with 351119.173422 samples = "
       ]
      },
      {
       "output_type": "stream",
       "stream": "stdout",
       "text": [
        "3.14586863061\n",
        "run 92 with 394420.605944 samples = 3.14289584755\n",
        "run 93 with 443062.145758 samples = "
       ]
      },
      {
       "output_type": "stream",
       "stream": "stdout",
       "text": [
        "3.14176549558\n",
        "run 94 with 497702.356433 samples = 3.13928539324\n",
        "run 95 with 559081.018251 samples = "
       ]
      },
      {
       "output_type": "stream",
       "stream": "stdout",
       "text": [
        "3.13849142193\n",
        "run 96 with 628029.144183 samples = 3.14227593515\n",
        "run 97 with 705480.231072 samples = "
       ]
      },
      {
       "output_type": "stream",
       "stream": "stdout",
       "text": [
        "3.14072304267\n",
        "run 98 with 792482.898354 samples = "
       ]
      },
      {
       "output_type": "stream",
       "stream": "stdout",
       "text": [
        "3.14033953537\n",
        "run 99 with 890215.085445 samples = "
       ]
      },
      {
       "output_type": "stream",
       "stream": "stdout",
       "text": [
        "3.14472728527\n",
        "run 100 with 1000000.0 samples = "
       ]
      },
      {
       "output_type": "stream",
       "stream": "stdout",
       "text": [
        "3.14051482974\n"
       ]
      }
     ],
     "prompt_number": 10
    },
    {
     "cell_type": "markdown",
     "metadata": {},
     "source": [
      "(b) Calculate the percent error for the N values from part (a) using the exact result \u03c0. Make a log-log plot of the error as a function of N.\n",
      "What is the approximate functional dependence of the error on N for large N, for example N\u2265104?"
     ]
    },
    {
     "cell_type": "code",
     "collapsed": false,
     "input": [
      "Iexact = np.pi\n",
      "def error(N): \n",
      "    error = abs((Iexact-hitOrMiss(N))/Iexact *100)\n",
      "    return error\n",
      "\n",
      "errorlist = []\n",
      "for n in N:\n",
      "    errorlist.append(error(n))\n",
      "plt.loglog(N,errorlist)\n"
     ],
     "language": "python",
     "metadata": {},
     "outputs": [
      {
       "metadata": {},
       "output_type": "pyout",
       "prompt_number": 21,
       "text": [
        "[<matplotlib.lines.Line2D at 0x106530710>]"
       ]
      },
      {
       "metadata": {},
       "output_type": "display_data",
       "png": "[encoded data removed]",
       "text": [
        "<matplotlib.figure.Figure at 0x108c5e410>"
       ]
      }
     ],
     "prompt_number": 21
    },
    {
     "cell_type": "markdown",
     "metadata": {},
     "source": [
      "(c) Estimate the same integral using the sample mean method and compute the statistical uncertainty and error as a function of the number of samples N for N\u2265104. Use at least 100 different values for N.\n",
      "Make a log-log plot of both the statistical uncertainty and the error as a function of N.\n",
      "How many samples are needed to determine the result to two decimal places? What is the approximate functional dependence of the error on N for large N?"
     ]
    },
    {
     "cell_type": "code",
     "collapsed": false,
     "input": [
      "fx = lambda x: 4*np.sqrt(1-x**2)\n",
      "x = np.arange(0.,15.,0.001)\n",
      "xmin = 0.\n",
      "xmax = 1.\n",
      "\n",
      "\n",
      "N = np.logspace(1.,6.,100.)\n",
      "\n",
      "\n",
      "for i in range(len(N)):\n",
      "    samplesx = xmin + (xmax-xmin)*np.random.random_sample(N[i])\n",
      "    \n",
      "    print (xmax-xmin)*fx(samplesx).mean()"
     ],
     "language": "python",
     "metadata": {},
     "outputs": [
      {
       "output_type": "stream",
       "stream": "stdout",
       "text": [
        "3.27647493496\n",
        "3.21020329189\n",
        "2.58278132495\n",
        "2.83184434584\n",
        "3.28827006255\n",
        "3.24676929177\n",
        "3.13681740437\n",
        "3.59404196759\n",
        "3.2184209384\n",
        "3.08641309992\n",
        "3.10040862215\n",
        "3.11814537134\n",
        "3.12003766047\n",
        "3.15117066611\n",
        "2.88800258245\n",
        "3.15906497836\n",
        "3.00893658387\n",
        "2.87312154934\n",
        "3.0661699145\n",
        "3.13613101778\n",
        "3.14895092797\n",
        "3.27469551617\n",
        "3.1091687305\n",
        "3.11544767461\n",
        "3.11548560746\n",
        "3.1773356473\n",
        "3.12413296469\n",
        "3.21337037679\n",
        "3.10659585341\n",
        "3.03729597108\n",
        "3.10778200368\n",
        "3.11077925695\n",
        "3.12639610942\n",
        "3.16696178813\n",
        "3.186441326\n",
        "3.15537129295\n",
        "3.10733778071\n",
        "3.15824060365\n",
        "3.14110441137\n",
        "3.12731577112\n",
        "3.12525674404\n",
        "3.16295377902\n",
        "3.13657536635\n",
        "3.14255459399\n",
        "3.13789483505\n",
        "3.14719298077\n",
        "3.14945556294\n",
        "3.12553303383\n",
        "3.14298602175\n",
        "3.14181803163\n",
        "3.16203817327\n",
        "3.15395438818\n",
        "3.10220834165\n",
        "3.12776489903\n",
        "3.1735341826\n",
        "3.12513743791\n",
        "3.15011285701\n",
        "3.15215565012\n",
        "3.15470109075\n",
        "3.12785013089\n",
        "3.13868679799\n",
        "3.13055481615\n",
        "3.14289850053\n",
        "3.13515744479\n",
        "3.13846968633\n",
        "3.12849775664\n",
        "3.13982882644\n",
        "3.14483083956\n",
        "3.14273788422\n",
        "3.14084491087\n",
        "3.13635143632\n",
        "3.14571010174\n",
        "3.14236488887\n",
        "3.14856748475\n",
        "3.13928176783\n",
        "3.14028919134\n",
        "3.14484229706\n",
        "3.1374316886\n",
        "3.13863932695\n",
        "3.13967126394\n",
        "3.14016231754"
       ]
      },
      {
       "output_type": "stream",
       "stream": "stdout",
       "text": [
        "\n",
        "3.14245585538\n",
        "3.13707767501\n",
        "3.14507055194\n",
        "3.13930994544\n",
        "3.13950680373\n",
        "3.14013720995\n",
        "3.14077574168"
       ]
      },
      {
       "output_type": "stream",
       "stream": "stdout",
       "text": [
        "\n",
        "3.14151772232\n",
        "3.14242916084\n",
        "3.13878580678\n",
        "3.14284796338"
       ]
      },
      {
       "output_type": "stream",
       "stream": "stdout",
       "text": [
        "\n",
        "3.1434067918\n",
        "3.142030109\n",
        "3.13993298621"
       ]
      },
      {
       "output_type": "stream",
       "stream": "stdout",
       "text": [
        "\n",
        "3.14056344555\n",
        "3.14208304674"
       ]
      },
      {
       "output_type": "stream",
       "stream": "stdout",
       "text": [
        "\n",
        "3.14268132799\n",
        "3.14168855658"
       ]
      },
      {
       "output_type": "stream",
       "stream": "stdout",
       "text": [
        "\n",
        "3.14202566088\n"
       ]
      }
     ],
     "prompt_number": 27
    },
    {
     "cell_type": "code",
     "collapsed": false,
     "input": [
      "Iexact = np.pi\n",
      "def error(N): \n",
      "    N1 = np.logspace(1.,6.,100.)\n",
      "    for i in range(len(N1)):\n",
      "        samplesx = xmin + (xmax-xmin)*np.random.random_sample(N1[i])\n",
      "        I = (xmax-xmin)*fx(samplesx).mean()\n",
      "        error = abs((Iexact-I)/Iexact *100)\n",
      "    return error\n",
      "errorlist = []\n",
      "for i in range(len(N)):\n",
      "    errorlist.append(error(N[i]))\n",
      "plt.loglog(N,errorlist, label=\"error\")\n",
      "plt.legend(loc=\"best\")"
     ],
     "language": "python",
     "metadata": {},
     "outputs": [
      {
       "metadata": {},
       "output_type": "pyout",
       "prompt_number": 32,
       "text": [
        "<matplotlib.legend.Legend at 0x1064e49d0>"
       ]
      },
      {
       "metadata": {},
       "output_type": "display_data",
       "png": "[encoded data removed]",
       "text": [
        "<matplotlib.figure.Figure at 0x1064e47d0>"
       ]
      }
     ],
     "prompt_number": 32
    },
    {
     "cell_type": "code",
     "collapsed": false,
     "input": [
      "Iunc = (xmax-xmin)*np.sqrt( ((fx(samplesx)**2).mean()-(fx(samplesx).mean())**2)/N )"
     ],
     "language": "python",
     "metadata": {},
     "outputs": [],
     "prompt_number": 33
    },
    {
     "cell_type": "code",
     "collapsed": false,
     "input": [
      "plt.loglog(N,Iunc, label=\"uncertainty\")\n",
      "plt.legend(loc='best')"
     ],
     "language": "python",
     "metadata": {},
     "outputs": [
      {
       "metadata": {},
       "output_type": "pyout",
       "prompt_number": 35,
       "text": [
        "<matplotlib.legend.Legend at 0x1070994d0>"
       ]
      },
      {
       "metadata": {},
       "output_type": "display_data",
       "png": "[encoded data removed]",
       "text": [
        "<matplotlib.figure.Figure at 0x107097d50>"
       ]
      }
     ],
     "prompt_number": 35
    },
    {
     "cell_type": "code",
     "collapsed": false,
     "input": [],
     "language": "python",
     "metadata": {},
     "outputs": []
    }
   ],
   "metadata": {}
  }
 ]
}