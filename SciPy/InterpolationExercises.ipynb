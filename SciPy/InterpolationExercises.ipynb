{
 "metadata": {
  "name": "",
  "signature": "sha256:eba0ab32a33224681fa23dab94291095e06788ed9dc40db2b71a499cd6b30688"
 },
 "nbformat": 3,
 "nbformat_minor": 0,
 "worksheets": [
  {
   "cells": [
    {
     "cell_type": "heading",
     "level": 1,
     "metadata": {},
     "source": [
      "Interpolation Exercises"
     ]
    },
    {
     "cell_type": "code",
     "collapsed": false,
     "input": [
      "%pylab inline\n",
      "import numpy as np\n",
      "import matplotlib.pyplot as plt\n",
      "from scipy.interpolate import interp1d\n",
      "from mpl_toolkits.mplot3d import Axes3D\n",
      "from scipy.interpolate import interp2d"
     ],
     "language": "python",
     "metadata": {},
     "outputs": [
      {
       "output_type": "stream",
       "stream": "stdout",
       "text": [
        "Populating the interactive namespace from numpy and matplotlib\n"
       ]
      }
     ],
     "prompt_number": 1
    },
    {
     "cell_type": "markdown",
     "metadata": {},
     "source": [
      "1. It is common to test functions where you know the answer they should give. Let's test the dipolePotential() function that we previously saved in Electrostatics.py to see that the function is zero along the bisector between the charges.\n",
      "First, set up a grid and evaluate the function."
     ]
    },
    {
     "cell_type": "code",
     "collapsed": false,
     "input": [
      "from Electrostatics import *\n",
      "x,y = np.meshgrid(np.arange(-5,5.01,0.5),np.arange(-5,5.01,0.5))\n",
      "Vdipole = dipolePotential(x,y,1e-9,2.)\n",
      "plt.contour(x,y,Vdipole,cmap=cm.coolwarm)\n",
      "plt.show()"
     ],
     "language": "python",
     "metadata": {},
     "outputs": [
      {
       "metadata": {},
       "output_type": "display_data",
       "png": "[encoded data removed]",
       "text": [
        "<matplotlib.figure.Figure at 0x1072eb650>"
       ]
      }
     ],
     "prompt_number": 3
    },
    {
     "cell_type": "markdown",
     "metadata": {},
     "source": [
      "(a) Use a boolean mask to locate the positions where x=0."
     ]
    },
    {
     "cell_type": "code",
     "collapsed": false,
     "input": [
      "mask = (x == 0)\n",
      "plt.contour(x[mask],y[mask],Vdipole,cmap=cm.coolwarm)\n",
      "plt.show()"
     ],
     "language": "python",
     "metadata": {},
     "outputs": [
      {
       "metadata": {},
       "output_type": "display_data",
       "png": "[encoded data removed]",
       "text": [
        "<matplotlib.figure.Figure at 0x1072ced90>"
       ]
      }
     ],
     "prompt_number": 4
    },
    {
     "cell_type": "markdown",
     "metadata": {},
     "source": [
      "(b) Check that Vdipole for these locations is zero. i.e. print the value of Vdipole for these locations using your mask from part (a)."
     ]
    },
    {
     "cell_type": "code",
     "collapsed": false,
     "input": [
      "Vdipole1 = Vdipole[mask]\n",
      "print Vdipole1"
     ],
     "language": "python",
     "metadata": {},
     "outputs": [
      {
       "output_type": "stream",
       "stream": "stdout",
       "text": [
        "[ 0.  0.  0.  0.  0.  0.  0.  0.  0.  0.  0.  0.  0.  0.  0.  0.  0.  0.\n",
        "  0.  0.  0.]\n"
       ]
      }
     ],
     "prompt_number": 5
    },
    {
     "cell_type": "markdown",
     "metadata": {},
     "source": [
      "(c) Now repeat parts (a) and (b) but this time set up the mask to locate the positions in the array where y=0. This represents a line through the center of the plot from left to right at y=0. Do the values for Vdipole make sense?"
     ]
    },
    {
     "cell_type": "code",
     "collapsed": false,
     "input": [
      "mask = (y == 0)\n",
      "plt.contour(x[mask],y[mask],Vdipole,cmap=cm.coolwarm)\n",
      "plt.show()"
     ],
     "language": "python",
     "metadata": {},
     "outputs": [
      {
       "metadata": {},
       "output_type": "display_data",
       "png": "[encoded data removed]",
       "text": [
        "<matplotlib.figure.Figure at 0x1072f1450>"
       ]
      }
     ],
     "prompt_number": 6
    },
    {
     "cell_type": "code",
     "collapsed": false,
     "input": [
      "Vdipole1 = Vdipole[mask]\n",
      "print Vdipole1"
     ],
     "language": "python",
     "metadata": {},
     "outputs": [
      {
       "output_type": "stream",
       "stream": "stdout",
       "text": [
        "[  0.74896265   0.93377161   1.19834024   1.59778698   2.24688795\n",
        "   3.42382925   5.99170119  14.38008286          inf  11.98340238   0.\n",
        " -11.98340238         -inf -14.38008286  -5.99170119  -3.42382925\n",
        "  -2.24688795  -1.59778698  -1.19834024  -0.93377161  -0.74896265]\n"
       ]
      }
     ],
     "prompt_number": 7
    },
    {
     "cell_type": "markdown",
     "metadata": {},
     "source": [
      "This makes sense because the Potential changes along the x axis as you move through the 2 charges"
     ]
    },
    {
     "cell_type": "markdown",
     "metadata": {},
     "source": [
      "\n",
      "2) Thermistors are electrical devices that measure temperature. They are made out of a material whose resistance changes very predictably with temperature. In the lab we measure the resistance of the thermistor and then compute the temperature from the engineering data that the manufacturer sends with the devices. The table below is data for a set of thermistors used in PHYS 340. The temperature values are in \u2218C and the resistances in mega-Ohms, M\u03a9.\n",
      "Temp   Res   Temp   Res   Temp   Res   Temp   Res   Temp   Res\n",
      "--------------------------------------------------------------- \n",
      " 10   3.239   16   2.610   22   2.169   28   1.857   34   1.634\n",
      " 11   3.118   17   2.526   23   2.110   29   1.815   35   1.603\n",
      " 12   3.004   18   2.446   24   2.053   30   1.774   36   1.574\n",
      " 13   2.897   19   2.371   25   2.000   31   1.736   37   1.547\n",
      " 14   2.795   20   2.300   26   1.950   32   1.700   38   1.521\n",
      " 15   2.700   21   2.233   27   1.902   33   1.666   39   1.496\n",
      " \n",
      " \n",
      "(a) Let's turn this look-up table into a continuous function. Write a reusable function Temp(Resistance) that takes any value of Resistance and returns the interpolated temperature. Be sure to include a docstring in your function."
     ]
    },
    {
     "cell_type": "code",
     "collapsed": false,
     "input": [
      "x = [3.239,3.118,3.004,2.897,2.795,2.700,2.610,2.526,2.446,2.371,2.300,2.233,2.169,\n",
      "     2.110,2.053,2.000,1.950,1.902,1.857,1.815,1.774,1.736,1.700,1.666,1.634,1.603,\n",
      "     1.574,1.547,1.521,1.496]\n",
      "y = np.arange(10,40,1)\n",
      "\n",
      "x = x[::-1]\n",
      "y = y[::-1]\n",
      "\n",
      "def Temp(Resistance):\n",
      "    \"\"\"\n",
      "    Returns a Temperature for given resistance in the\n",
      "    temperature range of 10 to 39\n",
      "    \"\"\"\n",
      "    temp1 = interp1d(x,y)(Resistance)\n",
      "    return temp1    "
     ],
     "language": "python",
     "metadata": {},
     "outputs": [],
     "prompt_number": 5
    },
    {
     "cell_type": "markdown",
     "metadata": {},
     "source": [
      "(b) Show that the function returns expected values, including some from the table for a few specific input resistances."
     ]
    },
    {
     "cell_type": "code",
     "collapsed": false,
     "input": [
      "print Temp(1.521)\n",
      "print Temp(3.031)\n",
      "print Temp(2.004)\n",
      "print Temp(1.950)\n",
      "print Temp(1.75)"
     ],
     "language": "python",
     "metadata": {},
     "outputs": [
      {
       "output_type": "stream",
       "stream": "stdout",
       "text": [
        "38.0\n",
        "11.7631578947\n",
        "24.9245283019\n",
        "26.0\n",
        "30.6315789474\n"
       ]
      }
     ],
     "prompt_number": 6
    },
    {
     "cell_type": "markdown",
     "metadata": {},
     "source": [
      "(c) Plot Temp(Resistance) vs. Resistance for a reasonable range of Resistance with reasonably fine sampling. Include as an annotation on the plot the value of the temperature for a resistance of 1.75 M\u03a9. (It's up to you to decide what \"reasonable\" means in both cases.)"
     ]
    },
    {
     "cell_type": "code",
     "collapsed": false,
     "input": [
      "Resistance = np.arange(1.496,3.239, .05)\n",
      "plt.plot(Temp(Resistance),Resistance)\n",
      "res1 = 1.75\n",
      "temp1 = Temp(1.75)\n",
      "plt.annotate('Temp = 30.6 $\\degree$C \\n Resistance = 1.75 M$\\Omega$', xy=(30.6315789474, 1.75) , xycoords='data',\n",
      "             xytext=(130, -10), textcoords='offset points', fontsize=12,\n",
      "             arrowprops=dict(arrowstyle='->', connectionstyle=\"arc3,rad=.2\"))\n",
      "plt.plot(temp1,res1, 'd', color='r', markersize=9)\n",
      "plt.show()\n"
     ],
     "language": "python",
     "metadata": {},
     "outputs": [
      {
       "metadata": {},
       "output_type": "display_data",
       "png": "[encoded data removed]",
       "text": [
        "<matplotlib.figure.Figure at 0x101e7a550>"
       ]
      }
     ],
     "prompt_number": 7
    },
    {
     "cell_type": "code",
     "collapsed": false,
     "input": [],
     "language": "python",
     "metadata": {},
     "outputs": [],
     "prompt_number": 7
    }
   ],
   "metadata": {}
  }
 ]
}