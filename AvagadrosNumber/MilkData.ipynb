{
 "metadata": {
  "name": "",
  "signature": "sha256:b663a6ef052ed6ebae0d89099bd595ac49de98d05a6e17f07262dd1dfba49535"
 },
 "nbformat": 3,
 "nbformat_minor": 0,
 "worksheets": [
  {
   "cells": [
    {
     "cell_type": "heading",
     "level": 1,
     "metadata": {},
     "source": [
      "Test frames"
     ]
    },
    {
     "cell_type": "code",
     "collapsed": false,
     "input": [
      "from Blobfinder2 import *\n",
      "from PIL import Image\n",
      "import numpy as np"
     ],
     "language": "python",
     "metadata": {},
     "outputs": [],
     "prompt_number": 29
    },
    {
     "cell_type": "code",
     "collapsed": false,
     "input": [
      "def Tracker(P, tau, deltap):\n",
      "   \n",
      "    distances = []\n",
      "\n",
      "\n",
      "    for i in range(2):       #first 9 frames\n",
      "        im1 = Image.open('milktest/Movie_01_T000' + str(i+3) + '.jpeg')\n",
      "        im2 = Image.open('milktest/Movie_01_T000' + str(i+4) + '.jpeg')\n",
      "        lst1 = BlobFinder(im1, tau) #finds blobs in frame \n",
      "        Bead1 = getBeads(P, lst1) #returns a list of beads over P pixels for frame\n",
      "        lst2 = BlobFinder(im2, tau) #finds blobs in next frame\n",
      "        Bead2 = getBeads(P, lst2) #returns list of beads over P pixels for frame\n",
      "        for blob in range(len(Bead1)):\n",
      "            if blob < len(Bead2):     #takes the same bead index for eact list of blobs from blob finder\n",
      "                distance = Bead1[blob].distanceTo(Bead2[blob]) #and finds the distance\n",
      "                if distance <= deltap:\n",
      "                    if distance != 0:  #gets rid of defects that don't move\n",
      "                        distances.append(distance)  #if that distance is over deltap, appends it to a list\n",
      "    \n",
      "    #for i in range(10,99): #same for frames 10-99\n",
      "     #   im1 = Image.open('run3/frame000'+str(i)+'.jpg')\n",
      "      #  im2 = Image.open('run3/frame000'+str(i+1)+'.jpg')\n",
      "        #lst1 = BlobFinder(im1, tau)\n",
      "        #Bead1 = getBeads(P, lst1)\n",
      "        #lst2 = BlobFinder(im2, tau)\n",
      "        #Bead2 = getBeads(P, lst2)\n",
      "        #for blob in range(len(Bead1)):\n",
      "         #   if blob < len(Bead2):\n",
      "          #      distance = Bead1[blob].distanceTo(Bead2[blob])\n",
      "             #   if distance <= deltap:\n",
      "              #      distances.append(distance)\n",
      "    \n",
      "   # for i in range(100,199): #same for frames 100-200\n",
      "    #    im1 = Image.open('run3/frame00'+str(i)+'.jpg')\n",
      "     #   im2 = Image.open('run3/frame00'+str(i+1)+'.jpg')\n",
      "      #  lst1 = BlobFinder(im1, tau)\n",
      "       # Bead1 = getBeads(P, lst1)\n",
      "        #lst2 = BlobFinder(im2, tau)\n",
      "        #Bead2 = getBeads(P, lst2)\n",
      "        #for blob in range(len(Bead1)):\n",
      "         #   if blob < len(Bead2):\n",
      "          #      distance = Bead1[blob].distanceTo(Bead2[blob])\n",
      "           #     if distance <= deltap:\n",
      "                #    distances.append(distance)\n",
      "                \n",
      "    np.savetxt('RadialDistancesmilk.txt', distances, fmt='%.4f', header = 'Radial Distance traveled by Beads')\n",
      "    return 'RadialDistancesmilk.txt'  #writes distances to file"
     ],
     "language": "python",
     "metadata": {},
     "outputs": [],
     "prompt_number": 3
    },
    {
     "cell_type": "code",
     "collapsed": false,
     "input": [
      "distances = Tracker(20, 600, 20)\n",
      "!cat 'RadialDistancesmilk.txt'"
     ],
     "language": "python",
     "metadata": {},
     "outputs": [
      {
       "output_type": "stream",
       "stream": "stdout",
       "text": [
        "# Radial Distance traveled by Beads\r\n",
        "1.4142\r\n",
        "1.0000\r\n",
        "18.6815\r\n",
        "1.0000\r\n",
        "8.0623\r\n",
        "8.2462\r\n",
        "1.0000\r\n",
        "2.0000\r\n",
        "1.4142\r\n",
        "2.0000\r\n",
        "1.0000\r\n",
        "1.0000\r\n",
        "1.0000\r\n",
        "1.0000\r\n",
        "1.0000\r\n",
        "1.0000\r\n",
        "1.0000\r\n",
        "2.0000\r\n",
        "7.2111\r\n",
        "1.0000\r\n",
        "12.6491\r\n",
        "12.0416\r\n",
        "18.6011\r\n",
        "4.4721\r\n",
        "14.0357\r\n",
        "2.0000\r\n",
        "16.4012\r\n",
        "18.4391\r\n",
        "1.0000\r\n",
        "1.0000\r\n",
        "1.0000\r\n",
        "1.0000\r\n",
        "1.0000\r\n",
        "2.0000\r\n",
        "1.4142\r\n",
        "1.0000\r\n",
        "11.1803\r\n",
        "1.0000\r\n",
        "1.0000\r\n",
        "2.2361\r\n",
        "1.0000\r\n",
        "1.0000\r\n",
        "8.0623\r\n",
        "8.2462\r\n",
        "1.4142\r\n",
        "1.0000\r\n",
        "1.4142\r\n",
        "19.8494\r\n",
        "19.6977\r\n",
        "12.0416\r\n",
        "15.8114\r\n",
        "20.0000\r\n"
       ]
      }
     ],
     "prompt_number": 27
    },
    {
     "cell_type": "code",
     "collapsed": false,
     "input": [
      "def EstimateAvagadrosNumber(fileofradialdistances):\n",
      "    r = 0\n",
      "    conversion = 0.175e-6\n",
      "    deltt = .25  #time frame in miliseconds\n",
      "    for distance in np.loadtxt(fileofradialdistances):\n",
      "        r += (distance * conversion)**2\n",
      "    D = (r/(2*len(np.loadtxt(fileofradialdistances))))/(2*deltt)#diffusion constant\n",
      "    k = (6*D*np.pi*9.125e-4*0.5e-6)/297    #Boltzmann constant\n",
      "    Na = 8.31457/k   #Avagadro's Number\n",
      "    \n",
      "    err = abs((Na - 6.022e23)/6.022e23) * 100\n",
      "    \n",
      "    print 'The estimated Avagadro\\'s number is %.4e' %(Na)\n",
      "    print 'with a percent error of %.4f' %(err)"
     ],
     "language": "python",
     "metadata": {},
     "outputs": [],
     "prompt_number": 5
    },
    {
     "cell_type": "code",
     "collapsed": false,
     "input": [
      "EstimateAvagadrosNumber('RadialDistancesmilk.txt')"
     ],
     "language": "python",
     "metadata": {},
     "outputs": [
      {
       "output_type": "stream",
       "stream": "stdout",
       "text": [
        "The estimated Avagadro's number is 1.2492e+23\n",
        "with a percent error of 79.2566\n"
       ]
      }
     ],
     "prompt_number": 28
    },
    {
     "cell_type": "code",
     "collapsed": false,
     "input": [],
     "language": "python",
     "metadata": {},
     "outputs": [],
     "prompt_number": 6
    }
   ],
   "metadata": {}
  }
 ]
}