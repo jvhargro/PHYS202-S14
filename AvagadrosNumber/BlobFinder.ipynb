{
 "metadata": {
  "name": "",
  "signature": "sha256:cfff18f628bdf438a076634dd15537fff206018f14ab55590cb1bfe83dc7aa86"
 },
 "nbformat": 3,
 "nbformat_minor": 0,
 "worksheets": [
  {
   "cells": [
    {
     "cell_type": "code",
     "collapsed": false,
     "input": [
      "#%%file Blobfinder.py\n",
      "\n",
      "class Blob():\n",
      "    def __init__(self): #construct an empty blob\n",
      "        self.blob = []\n",
      "    def add(self, i, j): # add a pixel (i, j) to the blob\n",
      "        self.blob.append((i,j))\n",
      "    def mass(self): # return number of pixels added = its mass\n",
      "        return len(self.blob)\n",
      "    def distanceTo(self, b): # return distance between centers of masses of this blob and b\n",
      "        x1 = self.centerOfMass()[0]\n",
      "        x2 = b.centerOfMass()[0]\n",
      "        y1 = self.centerOfMass()[1]\n",
      "        y2 = b.centerOfMass()[1]\n",
      "        distance = ((x2-x1)**2 + (y2-y1)**2)**0.5\n",
      "        return distance\n",
      "    def centerOfMass(self): # return tuple of (x,y) values for this blob's center of mass\n",
      "        x = 0            # format center-of-mass coordinates with 4 digits to right\n",
      "        y = 0            # of decimal point\n",
      "        for coord in self.blob:\n",
      "            x = x + coord[0]\n",
      "            y = y + coord[1]\n",
      "        xavg = (x)/(len(self.blob))\n",
      "        yavg = (y)/(len(self.blob))\n",
      "        return [xavg,yavg]\n",
      "\n",
      "def monochrome(picture, threshold): #from counting stars\n",
      "    black = (0, 0, 0)\n",
      "    white = (255, 255, 255)\n",
      "    xsize, ysize = picture.size\n",
      "    temp = picture.load()\n",
      "    for x in range(xsize):\n",
      "        for y in range(ysize):\n",
      "            r,g,b = temp[x,y]\n",
      "            if r+g+b >= threshold:\n",
      "                temp[x,y] = black\n",
      "            else:\n",
      "                temp[x,y] = white\n",
      "\n",
      "def fill(picture, xsize, ysize, xstart, ystart): #fill function from counting stars\n",
      "    queue = [(xstart,ystart)]\n",
      "    Blob_new = Blob()\n",
      "    while queue:\n",
      "        BLACK = (0,0,0)\n",
      "        RED = (255,0,0)\n",
      "        x,y,queue = queue[0][0], queue[0][1], queue[1:]\n",
      "        if picture[x,y] == BLACK:\n",
      "            picture[x,y] = RED\n",
      "            Blob_new.add(x,y)\n",
      "            if x > 0:\n",
      "                queue.append((x-1,y))\n",
      "            if x < (xsize-1):\n",
      "                queue.append((x+1,y))\n",
      "            if y > 0:\n",
      "                queue.append((x, y-1))\n",
      "            if y < (ysize-1):\n",
      "                queue.append((x, y+1))\n",
      "    return Blob_new\n",
      "\n",
      "\n",
      "def count(picture):   #count function from counting stars\n",
      "    xsize, ysize = picture.size\n",
      "    temp = picture.load()\n",
      "    ListBlob = []\n",
      "    result = 0\n",
      "    BLACK = (0,0,0)\n",
      "    RED = (255,0,0)\n",
      "    for x in range(xsize):\n",
      "        for y in range(ysize):\n",
      "            if temp[x,y] == BLACK:\n",
      "                fill(temp,xsize,ysize,x,y)\n",
      "                ListBlob.append(fill(temp,xsize,ysize,x,y))\n",
      "    return ListBlob\n",
      "\n",
      "                \n",
      "def BlobFinder(picture, tau): #180.0 works well for tau\n",
      "    '''find all blobs in the picture using the luminance threshold tau'''\n",
      "    float(tau)\n",
      "    monochrome(picture,tau)\n",
      "    return count(picture)\n",
      "    \n",
      "    \n",
      "    \n",
      "def countBeads(P,lst):\n",
      "    '''return the number of beads with >= P pixels,\n",
      "    scan the image top to bottom and left to right using a nested loop.\n",
      "    when black pixel is found, increment the count, then call the fill\n",
      "    function to fill in all the pixels connected to that one.'''\n",
      "    for blob in ListBlob:\n",
      "        if blob.mass() > P:\n",
      "            print blob\n",
      "                 \n",
      "\n",
      "def getBeads(P):\n",
      "    '''return all beads with >= P pixels'''"
     ],
     "language": "python",
     "metadata": {},
     "outputs": [],
     "prompt_number": 45
    },
    {
     "cell_type": "code",
     "collapsed": false,
     "input": [
      "b = Blob()\n",
      "b.add(4,90)\n",
      "b.add(5,5)\n",
      "c = Blob()\n",
      "c.add(10,10)\n",
      "c.add(15,30)\n",
      "print b.mass()\n",
      "print b.centerOfMass()\n",
      "print c.centerOfMass()\n",
      "print b.distanceTo(c)"
     ],
     "language": "python",
     "metadata": {},
     "outputs": [
      {
       "output_type": "stream",
       "stream": "stdout",
       "text": [
        "2\n",
        "[4, 47]\n",
        "[12, 20]\n",
        "28.1602556807\n"
       ]
      }
     ],
     "prompt_number": 31
    },
    {
     "cell_type": "code",
     "collapsed": false,
     "input": [
      "from PIL import Image\n",
      "\n",
      "import requests\n",
      "\n",
      "from StringIO import StringIO\n",
      "response = requests.get(\"http://imgsrc.hubblesite.org/hu/db/images/hs-1999-30-b-full_jpg.jpg\")\n",
      "pic = Image.open(StringIO(response.content))"
     ],
     "language": "python",
     "metadata": {},
     "outputs": [],
     "prompt_number": 5
    },
    {
     "cell_type": "code",
     "collapsed": false,
     "input": [
      "BlobFinder(pic, 600)"
     ],
     "language": "python",
     "metadata": {},
     "outputs": [
      {
       "metadata": {},
       "output_type": "pyout",
       "prompt_number": 46,
       "text": [
        "[<__main__.Blob instance at 0x104c5d128>]"
       ]
      }
     ],
     "prompt_number": 46
    },
    {
     "cell_type": "code",
     "collapsed": false,
     "input": [
      "countBeads(25, ListBlob)"
     ],
     "language": "python",
     "metadata": {},
     "outputs": [
      {
       "ename": "NameError",
       "evalue": "name 'ListBlob' is not defined",
       "output_type": "pyerr",
       "traceback": [
        "\u001b[0;31m---------------------------------------------------------------------------\u001b[0m\n\u001b[0;31mNameError\u001b[0m                                 Traceback (most recent call last)",
        "\u001b[0;32m<ipython-input-49-895a507bc087>\u001b[0m in \u001b[0;36m<module>\u001b[0;34m()\u001b[0m\n\u001b[0;32m----> 1\u001b[0;31m \u001b[0mcountBeads\u001b[0m\u001b[0;34m(\u001b[0m\u001b[0;36m25\u001b[0m\u001b[0;34m,\u001b[0m \u001b[0mListBlob\u001b[0m\u001b[0;34m)\u001b[0m\u001b[0;34m\u001b[0m\u001b[0m\n\u001b[0m",
        "\u001b[0;31mNameError\u001b[0m: name 'ListBlob' is not defined"
       ]
      }
     ],
     "prompt_number": 49
    },
    {
     "cell_type": "code",
     "collapsed": false,
     "input": [],
     "language": "python",
     "metadata": {},
     "outputs": []
    }
   ],
   "metadata": {}
  }
 ]
}