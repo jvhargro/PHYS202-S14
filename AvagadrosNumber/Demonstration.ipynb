{
 "metadata": {
  "name": "",
  "signature": "sha256:6272a8049cbc0f45ed2c69538ac09aba1e09fb32b3ee7b37d1fd04bbdf2f3691"
 },
 "nbformat": 3,
 "nbformat_minor": 0,
 "worksheets": [
  {
   "cells": [
    {
     "cell_type": "code",
     "collapsed": false,
     "input": [
      "import Blobfinder as BF\n",
      "import Blobfinder2 as BF2\n",
      "from PIL import Image\n",
      "import numpy as np"
     ],
     "language": "python",
     "metadata": {},
     "outputs": [],
     "prompt_number": 1
    },
    {
     "cell_type": "code",
     "collapsed": false,
     "input": [
      "im1 = Image.open('run3/frame00099.jpg')\n",
      "im1.show()\n",
      "im2 = Image.open('Hargrove/Hargrove_T0099.jpg')\n",
      "im2.show()"
     ],
     "language": "python",
     "metadata": {},
     "outputs": [],
     "prompt_number": 23
    },
    {
     "cell_type": "code",
     "collapsed": false,
     "input": [
      "BF.BlobFinder(im1, 600)"
     ],
     "language": "python",
     "metadata": {},
     "outputs": [
      {
       "metadata": {},
       "output_type": "pyout",
       "prompt_number": 17,
       "text": [
        "[<Blobfinder.Blob instance at 0x1064fa5a8>,\n",
        " <Blobfinder.Blob instance at 0x1064fa638>,\n",
        " <Blobfinder.Blob instance at 0x1064fa680>,\n",
        " <Blobfinder.Blob instance at 0x1064fa6c8>,\n",
        " <Blobfinder.Blob instance at 0x1064fa710>,\n",
        " <Blobfinder.Blob instance at 0x1064fa758>,\n",
        " <Blobfinder.Blob instance at 0x1064fa7a0>,\n",
        " <Blobfinder.Blob instance at 0x1064fa7e8>,\n",
        " <Blobfinder.Blob instance at 0x1064fa830>,\n",
        " <Blobfinder.Blob instance at 0x1064fa878>,\n",
        " <Blobfinder.Blob instance at 0x1064fa8c0>,\n",
        " <Blobfinder.Blob instance at 0x1064fa908>,\n",
        " <Blobfinder.Blob instance at 0x1064fa950>,\n",
        " <Blobfinder.Blob instance at 0x1064fa998>]"
       ]
      }
     ],
     "prompt_number": 17
    },
    {
     "cell_type": "code",
     "collapsed": false,
     "input": [
      "BF2.BlobFinder(im2,600)"
     ],
     "language": "python",
     "metadata": {},
     "outputs": [
      {
       "metadata": {},
       "output_type": "pyout",
       "prompt_number": 24,
       "text": [
        "[<Blobfinder2.Blob instance at 0x10662ab48>,\n",
        " <Blobfinder2.Blob instance at 0x10662aab8>,\n",
        " <Blobfinder2.Blob instance at 0x10662aa70>,\n",
        " <Blobfinder2.Blob instance at 0x10662a128>,\n",
        " <Blobfinder2.Blob instance at 0x10662a0e0>,\n",
        " <Blobfinder2.Blob instance at 0x10662a098>,\n",
        " <Blobfinder2.Blob instance at 0x10662a050>,\n",
        " <Blobfinder2.Blob instance at 0x10662a7e8>,\n",
        " <Blobfinder2.Blob instance at 0x10662a830>,\n",
        " <Blobfinder2.Blob instance at 0x106310fc8>,\n",
        " <Blobfinder2.Blob instance at 0x106310f80>,\n",
        " <Blobfinder2.Blob instance at 0x106310f38>,\n",
        " <Blobfinder2.Blob instance at 0x106310cf8>,\n",
        " <Blobfinder2.Blob instance at 0x106925c20>,\n",
        " <Blobfinder2.Blob instance at 0x10692d5f0>,\n",
        " <Blobfinder2.Blob instance at 0x10692db48>,\n",
        " <Blobfinder2.Blob instance at 0x10692db00>,\n",
        " <Blobfinder2.Blob instance at 0x10692dab8>,\n",
        " <Blobfinder2.Blob instance at 0x10651d1b8>,\n",
        " <Blobfinder2.Blob instance at 0x10651d320>,\n",
        " <Blobfinder2.Blob instance at 0x10651d6c8>,\n",
        " <Blobfinder2.Blob instance at 0x10651d710>,\n",
        " <Blobfinder2.Blob instance at 0x106655c20>,\n",
        " <Blobfinder2.Blob instance at 0x106655ef0>,\n",
        " <Blobfinder2.Blob instance at 0x106655f38>,\n",
        " <Blobfinder2.Blob instance at 0x105c2e560>,\n",
        " <Blobfinder2.Blob instance at 0x105c2e638>,\n",
        " <Blobfinder2.Blob instance at 0x10652ea70>,\n",
        " <Blobfinder2.Blob instance at 0x106931998>,\n",
        " <Blobfinder2.Blob instance at 0x106931c68>,\n",
        " <Blobfinder2.Blob instance at 0x106931fc8>,\n",
        " <Blobfinder2.Blob instance at 0x106931ab8>,\n",
        " <Blobfinder2.Blob instance at 0x106931a70>,\n",
        " <Blobfinder2.Blob instance at 0x106931a28>,\n",
        " <Blobfinder2.Blob instance at 0x106931950>,\n",
        " <Blobfinder2.Blob instance at 0x10653f170>,\n",
        " <Blobfinder2.Blob instance at 0x105c45710>,\n",
        " <Blobfinder2.Blob instance at 0x105c45758>,\n",
        " <Blobfinder2.Blob instance at 0x105c45878>,\n",
        " <Blobfinder2.Blob instance at 0x105c458c0>,\n",
        " <Blobfinder2.Blob instance at 0x105c45b48>,\n",
        " <Blobfinder2.Blob instance at 0x105c45b90>,\n",
        " <Blobfinder2.Blob instance at 0x105c45e60>,\n",
        " <Blobfinder2.Blob instance at 0x105c45fc8>,\n",
        " <Blobfinder2.Blob instance at 0x106548170>,\n",
        " <Blobfinder2.Blob instance at 0x106548440>,\n",
        " <Blobfinder2.Blob instance at 0x106550ea8>,\n",
        " <Blobfinder2.Blob instance at 0x106550ef0>,\n",
        " <Blobfinder2.Blob instance at 0x106550f38>,\n",
        " <Blobfinder2.Blob instance at 0x1076abdd0>,\n",
        " <Blobfinder2.Blob instance at 0x1076ab200>,\n",
        " <Blobfinder2.Blob instance at 0x1076ab248>,\n",
        " <Blobfinder2.Blob instance at 0x1076ab2d8>,\n",
        " <Blobfinder2.Blob instance at 0x101f2c878>,\n",
        " <Blobfinder2.Blob instance at 0x1065724d0>,\n",
        " <Blobfinder2.Blob instance at 0x106572ea8>,\n",
        " <Blobfinder2.Blob instance at 0x106572fc8>,\n",
        " <Blobfinder2.Blob instance at 0x1066771b8>,\n",
        " <Blobfinder2.Blob instance at 0x1066772d8>,\n",
        " <Blobfinder2.Blob instance at 0x1066779e0>,\n",
        " <Blobfinder2.Blob instance at 0x106677b00>,\n",
        " <Blobfinder2.Blob instance at 0x106677c68>,\n",
        " <Blobfinder2.Blob instance at 0x106677d88>,\n",
        " <Blobfinder2.Blob instance at 0x106677e18>,\n",
        " <Blobfinder2.Blob instance at 0x106677ea8>,\n",
        " <Blobfinder2.Blob instance at 0x106680440>,\n",
        " <Blobfinder2.Blob instance at 0x1063c0908>,\n",
        " <Blobfinder2.Blob instance at 0x1063c0a28>,\n",
        " <Blobfinder2.Blob instance at 0x101ead8c0>,\n",
        " <Blobfinder2.Blob instance at 0x1063c8128>,\n",
        " <Blobfinder2.Blob instance at 0x1063c81b8>,\n",
        " <Blobfinder2.Blob instance at 0x1063c8680>,\n",
        " <Blobfinder2.Blob instance at 0x1063c8710>,\n",
        " <Blobfinder2.Blob instance at 0x1063d16c8>,\n",
        " <Blobfinder2.Blob instance at 0x1063d1d88>,\n",
        " <Blobfinder2.Blob instance at 0x1063d1e18>,\n",
        " <Blobfinder2.Blob instance at 0x1063da1b8>,\n",
        " <Blobfinder2.Blob instance at 0x1063da248>,\n",
        " <Blobfinder2.Blob instance at 0x1063da2d8>,\n",
        " <Blobfinder2.Blob instance at 0x1063da440>,\n",
        " <Blobfinder2.Blob instance at 0x1066b34d0>,\n",
        " <Blobfinder2.Blob instance at 0x1066b3560>,\n",
        " <Blobfinder2.Blob instance at 0x1066b35f0>,\n",
        " <Blobfinder2.Blob instance at 0x1066b3680>,\n",
        " <Blobfinder2.Blob instance at 0x1063e2950>,\n",
        " <Blobfinder2.Blob instance at 0x1063e2dd0>,\n",
        " <Blobfinder2.Blob instance at 0x1063e2ef0>,\n",
        " <Blobfinder2.Blob instance at 0x1066bc368>,\n",
        " <Blobfinder2.Blob instance at 0x1066bc098>,\n",
        " <Blobfinder2.Blob instance at 0x1063eb518>,\n",
        " <Blobfinder2.Blob instance at 0x1063eb7e8>,\n",
        " <Blobfinder2.Blob instance at 0x1063ebab8>]"
       ]
      }
     ],
     "prompt_number": 24
    },
    {
     "cell_type": "code",
     "collapsed": false,
     "input": [
      "im1.show()\n",
      "im2.show()"
     ],
     "language": "python",
     "metadata": {},
     "outputs": [],
     "prompt_number": 25
    },
    {
     "cell_type": "code",
     "collapsed": false,
     "input": [
      "def EstimateAvagadrosNumber(fileofradialdistances):\n",
      "    r = 0\n",
      "    conversion = 0.175e-6\n",
      "    for distance in np.loadtxt(fileofradialdistances):\n",
      "        r += (distance * conversion)**2\n",
      "    D = r/(2*len(np.loadtxt(fileofradialdistances)))#diffusion constant\n",
      "    k = (6*D*np.pi*9.125e-4*0.5e-6)/297    #Boltzmann constant\n",
      "    Na = 8.31457/k   #Avagadro's Number\n",
      "    \n",
      "    err = abs((Na - 6.022e23)/6.022e23) * 100\n",
      "    \n",
      "    print 'The estimated Avagadro\\'s number is %.4e' %(Na)\n",
      "    print 'with a percent error of %.4f' %(err)"
     ],
     "language": "python",
     "metadata": {},
     "outputs": [],
     "prompt_number": 26
    },
    {
     "cell_type": "code",
     "collapsed": false,
     "input": [
      "def EstimateAvagadrosNumber2(fileofradialdistances):\n",
      "    r = 0\n",
      "    conversion = 0.175e-6\n",
      "    deltt = .025  #time frame in miliseconds\n",
      "    for distance in np.loadtxt(fileofradialdistances):\n",
      "        r += (distance * conversion)**2\n",
      "    D = (r/(2*len(np.loadtxt(fileofradialdistances))))/(2*deltt)#diffusion constant\n",
      "    k = (6*D*np.pi*9.125e-4*0.5e-6)/297    #Boltzmann constant\n",
      "    Na = 8.31457/k   #Avagadro's Number\n",
      "    \n",
      "    err = abs((Na - 6.022e23)/6.022e23) * 100\n",
      "    \n",
      "    print 'The estimated Avagadro\\'s number is %.4e' %(Na)\n",
      "    print 'with a percent error of %.4f' %(err)"
     ],
     "language": "python",
     "metadata": {},
     "outputs": [],
     "prompt_number": 27
    },
    {
     "cell_type": "code",
     "collapsed": false,
     "input": [
      "EstimateAvagadrosNumber('RadialDistances.txt')\n",
      "EstimateAvagadrosNumber2('RadialDistancesmilk.txt')"
     ],
     "language": "python",
     "metadata": {},
     "outputs": [
      {
       "output_type": "stream",
       "stream": "stdout",
       "text": [
        "The estimated Avagadro's number is 6.0704e+23\n",
        "with a percent error of 0.8033\n",
        "The estimated Avagadro's number is 1.2466e+23\n",
        "with a percent error of 79.2995\n"
       ]
      }
     ],
     "prompt_number": 28
    },
    {
     "cell_type": "code",
     "collapsed": false,
     "input": [],
     "language": "python",
     "metadata": {},
     "outputs": []
    }
   ],
   "metadata": {}
  }
 ]
}