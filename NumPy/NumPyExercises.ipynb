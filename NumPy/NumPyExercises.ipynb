{
 "metadata": {
  "name": "",
  "signature": "sha256:4c79373a54387389c00fca013879d2fc1930191b93d6b4aea8d34be85894ae0d"
 },
 "nbformat": 3,
 "nbformat_minor": 0,
 "worksheets": [
  {
   "cells": [
    {
     "cell_type": "heading",
     "level": 1,
     "metadata": {},
     "source": [
      "NumPy Exercises"
     ]
    },
    {
     "cell_type": "code",
     "collapsed": false,
     "input": [
      "%pylab inline"
     ],
     "language": "python",
     "metadata": {},
     "outputs": [
      {
       "output_type": "stream",
       "stream": "stdout",
       "text": [
        "Populating the interactive namespace from numpy and matplotlib\n"
       ]
      }
     ],
     "prompt_number": 1
    },
    {
     "cell_type": "markdown",
     "metadata": {},
     "source": [
      "1. Create the following arrays with correct data types:\n",
      "[[1, 1, 1, 1],\n",
      " [1, 1, 1, 1],\n",
      " [1, 1, 1, 2],\n",
      " [1, 6, 1, 1]]\n",
      " ```\n",
      " \n",
      "[[0., 0., 0., 0., 0.], [2., 0., 0., 0., 0.], [0., 3., 0., 0., 0.], [0., 0., 4., 0., 0.], [0., 0., 0., 5., 0.], [0., 0., 0., 0., 6.]] ```\n",
      "You should be able to accomplish this in 3 lines of code for each one. The documentation for the diag method may be helpful."
     ]
    },
    {
     "cell_type": "code",
     "collapsed": false,
     "input": [
      "arr1 = np.ones((4,4), dtype = int)\n",
      "arr1[2,3] = 2\n",
      "arr1[3,2] = 6\n",
      "print arr1"
     ],
     "language": "python",
     "metadata": {},
     "outputs": [
      {
       "output_type": "stream",
       "stream": "stdout",
       "text": [
        "[[1 1 1 1]\n",
        " [1 1 1 1]\n",
        " [1 1 1 2]\n",
        " [1 1 6 1]]\n"
       ]
      }
     ],
     "prompt_number": 8
    },
    {
     "cell_type": "code",
     "collapsed": false,
     "input": [],
     "language": "python",
     "metadata": {},
     "outputs": []
    }
   ],
   "metadata": {}
  }
 ]
}