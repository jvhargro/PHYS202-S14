{
 "metadata": {
  "name": "",
  "signature": "sha256:ded8aa430c4cb7ac3f947318fc8b1424ea92602380489b2bf62417f989c6f021"
 },
 "nbformat": 3,
 "nbformat_minor": 0,
 "worksheets": [
  {
   "cells": [
    {
     "cell_type": "heading",
     "level": 1,
     "metadata": {},
     "source": [
      "Counting Sundays"
     ]
    },
    {
     "cell_type": "heading",
     "level": 3,
     "metadata": {},
     "source": [
      "Problem 19"
     ]
    },
    {
     "cell_type": "markdown",
     "metadata": {},
     "source": [
      "\n",
      "\n",
      "You are given the following information, but you may prefer to do some research for yourself.\n",
      "\n",
      "    1 Jan 1900 was a Monday.\n",
      "    Thirty days has September,\n",
      "    April, June and November.\n",
      "    All the rest have thirty-one,\n",
      "    Saving February alone,\n",
      "    Which has twenty-eight, rain or shine.\n",
      "    And on leap years, twenty-nine.\n",
      "    A leap year occurs on any year evenly divisible by 4, but not on a century unless it is divisible by 400.\n",
      "\n",
      "How many Sundays fell on the first of the month during the twentieth century (1 Jan 1901 to 31 Dec 2000)?\n",
      "\n",
      "Jan 1 1901 was a Tuesday\n",
      "Dec 31 2000 was a Sunday"
     ]
    },
    {
     "cell_type": "markdown",
     "metadata": {},
     "source": [
      "answer should be 171"
     ]
    },
    {
     "cell_type": "code",
     "collapsed": false,
     "input": [
      "year = 1901\n",
      "Sunday = 2\n",
      "numSun = 0\n",
      "for x in range(100):\n",
      "    if year == 2000:\n",
      "        break\n",
      "    elif year % 4 == 0:  #Jan\n",
      "        if Sunday %7 ==0:\n",
      "            numSun += 1\n",
      "        Sunday += 31 #feb\n",
      "        if Sunday %7 ==0:\n",
      "            numSun += 1\n",
      "        Sunday += 29 #mar\n",
      "        if Sunday %7 ==0:\n",
      "            numSun += 1\n",
      "        Sunday += 31 #april\n",
      "        if Sunday %7 ==0:\n",
      "            numSun += 1\n",
      "        Sunday += 30 #may\n",
      "        if Sunday %7 ==0:\n",
      "            numSun += 1\n",
      "        Sunday += 31 #june\n",
      "        if Sunday %7 ==0:\n",
      "            numSun += 1\n",
      "        Sunday += 30 #july\n",
      "        if Sunday %7 ==0:\n",
      "            numSun += 1\n",
      "        Sunday += 31 #august\n",
      "        if Sunday %7 ==0:\n",
      "            numSun += 1\n",
      "        Sunday += 31#sept\n",
      "        if Sunday %7 ==0:\n",
      "            numSun += 1\n",
      "        Sunday += 30 #october\n",
      "        if Sunday %7 ==0:\n",
      "            numSun += 1\n",
      "        Sunday += 31 #novemver\n",
      "        if Sunday %7 ==0:\n",
      "            numSun += 1\n",
      "        Sunday += 30 #December\n",
      "        if Sunday %7 ==0:\n",
      "            numSun += 1\n",
      "        Sunday += 31\n",
      "        year += year + 1\n",
      "    else:  #Jan\n",
      "        if Sunday %7 ==0:\n",
      "            numSun += 1\n",
      "        Sunday += 31 #feb\n",
      "        if Sunday %7 ==0:\n",
      "            numSun += 1\n",
      "        Sunday += 28 #mar\n",
      "        if Sunday %7 ==0:\n",
      "            numSun += 1\n",
      "        Sunday += 31 #april\n",
      "        if Sunday %7 ==0:\n",
      "            numSun += 1\n",
      "        Sunday += 30 #may\n",
      "        if Sunday %7 ==0:\n",
      "            numSun += 1\n",
      "        Sunday += 31 #june\n",
      "        if Sunday %7 ==0:\n",
      "            numSun += 1\n",
      "        Sunday += 30 #july\n",
      "        if Sunday %7 ==0:\n",
      "            numSun += 1\n",
      "        Sunday += 31 #august\n",
      "        if Sunday %7 ==0:\n",
      "            numSun += 1\n",
      "        Sunday += 31#sept\n",
      "        if Sunday %7 ==0:\n",
      "            numSun += 1\n",
      "        Sunday += 30 #october\n",
      "        if Sunday %7 ==0:\n",
      "            numSun += 1\n",
      "        Sunday += 31 #novemver\n",
      "        if Sunday %7 ==0:\n",
      "            numSun += 1\n",
      "        Sunday += 30 #December\n",
      "        if Sunday %7 ==0:\n",
      "            numSun += 1\n",
      "        Sunday += 31\n",
      "        year += year + 1\n",
      "print numSun          "
     ],
     "language": "python",
     "metadata": {},
     "outputs": [
      {
       "output_type": "stream",
       "stream": "stdout",
       "text": [
        "171\n"
       ]
      }
     ],
     "prompt_number": 19
    }
   ],
   "metadata": {}
  }
 ]
}