{
 "metadata": {
  "name": "",
  "signature": "sha256:de24b1f0755ba0d11ba6931a38bd3ca7196323e8bd4158d249d04eef8b58f3c4"
 },
 "nbformat": 3,
 "nbformat_minor": 0,
 "worksheets": [
  {
   "cells": [
    {
     "cell_type": "heading",
     "level": 1,
     "metadata": {},
     "source": [
      "Number letter counts"
     ]
    },
    {
     "cell_type": "heading",
     "level": 3,
     "metadata": {},
     "source": [
      "Problem 17"
     ]
    },
    {
     "cell_type": "markdown",
     "metadata": {},
     "source": [
      "\n",
      "\n",
      "If the numbers 1 to 5 are written out in words: one, two, three, four, five, then there are 3 + 3 + 5 + 4 + 4 = 19 letters used in total.\n",
      "\n",
      "If all the numbers from 1 to 1000 (one thousand) inclusive were written out in words, how many letters would be used?\n",
      "\n",
      "NOTE: Do not count spaces or hyphens. For example, 342 (three hundred and forty-two) contains 23 letters and 115 (one hundred and fifteen) contains 20 letters. The use of \"and\" when writing out numbers is in compliance with British usage.\n"
     ]
    },
    {
     "cell_type": "code",
     "collapsed": false,
     "input": [
      "ones = { 1:'one', 2:'two', 6:'six', 4:'four', 5:'five', 9:'nine', 3:'three', 7:'seven', 8:'eight'}\n",
      "ten = {10:'ten', 11:'eleven', 12:'twelve', 13:'thirteen', 14:'fourteen', 15:'fifteen', 16:'sixteen', \n",
      "       17:'seventeen', 18:'eighteen', 19:'nineteen'}\n",
      "tens = {20:'twenty', 30:'thirty', 40:'forty', 50:'fifty', 60:'sixty', 70:'seventy', 80:'eighty', 90:'ninety'}\n",
      "hundred = {100:'onehundredand',200:'twohundredand',300:'threehundredand',400:'fourhundredand',500:'fivehundredand',\n",
      "           600:'sixhundredand',700:'sevenhundredand',800:'eighthundredand',900:'ninehundredand'}\n",
      "onethousand = {1000:'onethousand'}\n",
      "letters = 0\n",
      "for i in range(5):\n",
      "    letters += len(ones[i+1])\n",
      "print \"1 through 5 =\", letters\n",
      "print \"three hundred and forty-two\",len(hundred[300])  + len(tens[40]) + len(ones[2])\n",
      "print \"one hundred and fifteen\", len(hundred[100]) + len(ten[15])"
     ],
     "language": "python",
     "metadata": {},
     "outputs": [
      {
       "output_type": "stream",
       "stream": "stdout",
       "text": [
        "1 through 5 = 19\n",
        "three hundred and forty-two 23\n",
        "one hundred and fifteen 20\n"
       ]
      }
     ],
     "prompt_number": 19
    },
    {
     "cell_type": "code",
     "collapsed": false,
     "input": [
      "letters = 0\n",
      "for i in range(100):\n",
      "    if (i+1) < 10:\n",
      "        letters += len(ones[i+1])\n",
      "    elif (i+1) >= 10 and (i+1) < 20:\n",
      "        letters += len(ten[i+1])\n",
      "    elif (i+1) >= 20 and (i+1) < 100:\n",
      "        if (i+1)%10==0:\n",
      "            letters += len(tens[i+1])\n",
      "            for digit in range(9):\n",
      "                letters += len(ones[digit+1])                \n",
      "                \n",
      "for i in range(900):\n",
      "    if (i+100) >= 100 and (i+100) < 1000:\n",
      "        if (i+100)%100==0:\n",
      "            letters += len(hundred[i+100]) * 100 - 3 #100, 200, 300 etc. dont use 'and'\n",
      "            for g in range(100):\n",
      "                if (g+1) < 10:\n",
      "                    letters += len(ones[g+1])\n",
      "                elif (g+1) >= 10 and (g+1) < 20:\n",
      "                    letters += len(ten[g+1])\n",
      "                elif (g+1) >= 20 and (g+1) < 100:\n",
      "                    if (g+1)%10==0:\n",
      "                        letters += len(tens[g+1])\n",
      "                        for digit in range(9):\n",
      "                            letters += len(ones[digit+1])\n",
      "\n",
      "\n",
      "answer = letters + len(onethousand[1000])\n",
      "                \n",
      "print 'the sum of the letters from one to one thousand is =',answer\n",
      "print 'answer should be =', 21124\n"
     ],
     "language": "python",
     "metadata": {},
     "outputs": [
      {
       "output_type": "stream",
       "stream": "stdout",
       "text": [
        "the sum of the letters from one to one thousand is = 16984\n",
        "answer should be = 21124\n"
       ]
      }
     ],
     "prompt_number": 31
    },
    {
     "cell_type": "code",
     "collapsed": false,
     "input": [],
     "language": "python",
     "metadata": {},
     "outputs": []
    }
   ],
   "metadata": {}
  }
 ]
}