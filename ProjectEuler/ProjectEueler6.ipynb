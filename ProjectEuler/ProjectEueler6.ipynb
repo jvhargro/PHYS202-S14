{
 "metadata": {
  "name": "",
  "signature": "sha256:b524bf767496ee2e2d893c88177b93346032371c0543ebd8b5e5c165de349f7b"
 },
 "nbformat": 3,
 "nbformat_minor": 0,
 "worksheets": [
  {
   "cells": [
    {
     "cell_type": "heading",
     "level": 1,
     "metadata": {},
     "source": [
      "Sum Square Difference"
     ]
    },
    {
     "cell_type": "heading",
     "level": 3,
     "metadata": {},
     "source": [
      "Problem 6"
     ]
    },
    {
     "cell_type": "markdown",
     "metadata": {},
     "source": [
      "The sum of the squares of the first ten natural numbers is,\n",
      "\n",
      "1^2 + 2^2 + ... + 10^2 = 385\n",
      "The square of the sum of the first ten natural numbers is,\n",
      "\n",
      "(1 + 2 + ... + 10)^2 = 55^2 = 3025\n",
      "Hence the difference between the sum of the squares of the first ten natural numbers and the square of the sum is 3025 - 385 = 2640.\n",
      "\n",
      "Find the difference between the sum of the squares of the first one hundred natural numbers and the square of the sum."
     ]
    },
    {
     "cell_type": "code",
     "collapsed": false,
     "input": [
      "def square_sum(x):\n",
      "    sum = 0\n",
      "    for i in range(x+1):\n",
      "        sum = sum + i**2\n",
      "    return sum\n",
      "print square_sum(10)"
     ],
     "language": "python",
     "metadata": {},
     "outputs": [
      {
       "output_type": "stream",
       "stream": "stdout",
       "text": [
        "385\n"
       ]
      }
     ],
     "prompt_number": 1
    },
    {
     "cell_type": "code",
     "collapsed": false,
     "input": [
      "def sum_square(x):\n",
      "    sum = 0\n",
      "    for i in range(x+1):\n",
      "        sum = sum + i\n",
      "    return sum**2\n",
      "print sum_square(10)"
     ],
     "language": "python",
     "metadata": {},
     "outputs": [
      {
       "output_type": "stream",
       "stream": "stdout",
       "text": [
        "3025\n"
       ]
      }
     ],
     "prompt_number": 3
    },
    {
     "cell_type": "code",
     "collapsed": false,
     "input": [
      "def sum_square_diff(x):\n",
      "    return sum_square(x) - square_sum(x)"
     ],
     "language": "python",
     "metadata": {},
     "outputs": [],
     "prompt_number": 4
    },
    {
     "cell_type": "code",
     "collapsed": false,
     "input": [
      "print sum_square_diff(10)\n",
      "print sum_square_diff(100)"
     ],
     "language": "python",
     "metadata": {},
     "outputs": [
      {
       "output_type": "stream",
       "stream": "stdout",
       "text": [
        "2640\n",
        "25164150\n"
       ]
      }
     ],
     "prompt_number": 5
    },
    {
     "cell_type": "code",
     "collapsed": false,
     "input": [],
     "language": "python",
     "metadata": {},
     "outputs": []
    }
   ],
   "metadata": {}
  }
 ]
}