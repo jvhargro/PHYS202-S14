{
 "metadata": {
  "name": "",
  "signature": "sha256:f292b18673c830d864a136e0db69313ff703ec526b4787ca9dbf9ab778f9487f"
 },
 "nbformat": 3,
 "nbformat_minor": 0,
 "worksheets": [
  {
   "cells": [
    {
     "cell_type": "heading",
     "level": 1,
     "metadata": {},
     "source": [
      "Coin Sums"
     ]
    },
    {
     "cell_type": "heading",
     "level": 3,
     "metadata": {},
     "source": [
      "Problem 31"
     ]
    },
    {
     "cell_type": "markdown",
     "metadata": {},
     "source": [
      "In England the currency is made up of pound, \u00a3, and pence, p, and there are eight coins in general circulation:\n",
      "\n",
      "1p, 2p, 5p, 10p, 20p, 50p, \u00a31 (100p) and \u00a32 (200p).\n",
      "It is possible to make \u00a32 in the following way:\n",
      "\n",
      "1\u00d7\u00a31 + 1\u00d750p + 2\u00d720p + 1\u00d75p + 1\u00d72p + 3\u00d71p\n",
      "How many different ways can \u00a32 be made using any number of coins?"
     ]
    },
    {
     "cell_type": "code",
     "collapsed": false,
     "input": [
      "p1 = 1\n",
      "p2 = 2\n",
      "p3 = 5\n",
      "p4 = 10\n",
      "p5 = 20\n",
      "p6 = 50\n",
      "p7 = 100"
     ],
     "language": "python",
     "metadata": {},
     "outputs": [],
     "prompt_number": 35
    },
    {
     "cell_type": "code",
     "collapsed": false,
     "input": [
      "1*p7 + 1*p6 + 2*p5 + 1*p3 + 1*p2 + 3*p1 #test case"
     ],
     "language": "python",
     "metadata": {},
     "outputs": [
      {
       "metadata": {},
       "output_type": "pyout",
       "prompt_number": 36,
       "text": [
        "200"
       ]
      }
     ],
     "prompt_number": 36
    },
    {
     "cell_type": "code",
     "collapsed": false,
     "input": [
      "ways = 0\n",
      "total = 200\n",
      "for i in range(201):\n",
      "    for t in range(101):\n",
      "        for g in range(41):\n",
      "            for h in range(21):\n",
      "                for k in range(11):\n",
      "                    if i*p1 + t*p2 + g*p3 + h*p4 + k*p5 + 0 == total:\n",
      "                         ways = ways + 1\n",
      "                    elif i*p1 + t*p2 + g*p3 + h*p4 + k*p5 + 50 == total:\n",
      "                         ways = ways + 1\n",
      "                    elif i*p1 + t*p2 + g*p3 + h*p4 + k*p5 + 100 == total:\n",
      "                         ways = ways + 1\n",
      "                    elif i*p1 + t*p2 + g*p3 + h*p4 + k*p5 + 150 == total:\n",
      "                         ways = ways + 1     \n",
      "                \n",
      "\n",
      "for s in range(5):\n",
      "    for d in range(3):\n",
      "        if s*p6+d*p7 == total:\n",
      "            ways = ways + 1\n",
      "ways = ways + 2 #where p8 or p7 is used as the only coin\n",
      "print ways"
     ],
     "language": "python",
     "metadata": {},
     "outputs": [
      {
       "output_type": "stream",
       "stream": "stdout",
       "text": [
        "69122\n"
       ]
      }
     ],
     "prompt_number": 37
    },
    {
     "cell_type": "markdown",
     "metadata": {},
     "source": [
      "^^^^^ as close as I could get to the answer"
     ]
    },
    {
     "cell_type": "code",
     "collapsed": false,
     "input": [],
     "language": "python",
     "metadata": {},
     "outputs": []
    }
   ],
   "metadata": {}
  }
 ]
}