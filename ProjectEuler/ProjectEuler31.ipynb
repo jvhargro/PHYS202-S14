{
 "metadata": {
  "name": "",
  "signature": "sha256:f568aabb38983cb5b669f997baef0978240fdf9dd40b201f9ee08ea57ef88120"
 },
 "nbformat": 3,
 "nbformat_minor": 0,
 "worksheets": [
  {
   "cells": [
    {
     "cell_type": "heading",
     "level": 1,
     "metadata": {},
     "source": [
      "Coin Sums"
     ]
    },
    {
     "cell_type": "heading",
     "level": 3,
     "metadata": {},
     "source": [
      "Problem 31"
     ]
    },
    {
     "cell_type": "markdown",
     "metadata": {},
     "source": [
      "In England the currency is made up of pound, \u00a3, and pence, p, and there are eight coins in general circulation:\n",
      "\n",
      "1p, 2p, 5p, 10p, 20p, 50p, \u00a31 (100p) and \u00a32 (200p).\n",
      "It is possible to make \u00a32 in the following way:\n",
      "\n",
      "1\u00d7\u00a31 + 1\u00d750p + 2\u00d720p + 1\u00d75p + 1\u00d72p + 3\u00d71p\n",
      "How many different ways can \u00a32 be made using any number of coins?"
     ]
    },
    {
     "cell_type": "code",
     "collapsed": false,
     "input": [
      "ways = 0\n",
      "total = 200\n",
      "p1 = 1\n",
      "p2 = 2\n",
      "p3 = 5\n",
      "p4 = 10\n",
      "p5 = 20\n",
      "p6 = 50\n",
      "p7 = 100\n",
      "p8 = 200\n",
      "for i in range(201):\n",
      "    if i*p1 == total:\n",
      "        ways = ways + 1\n",
      "        continue\n",
      "    for t in range(101):\n",
      "            if t*p2 + i*p1 ==total:\n",
      "                ways = ways + 1\n",
      "                continue\n",
      "            for f in range(41):\n",
      "                if f*p3 + t*p2 + i*p1 == total:\n",
      "                    ways = ways +1\n",
      "                    continue\n",
      "                for x in range(21):\n",
      "                    if x*p4 + f*p3 + t*p2 + i*p1==total:\n",
      "                        ways=ways+1\n",
      "                        continue\n",
      "                    for y in range(11):\n",
      "                        if y*p5 +x*p4 + f*p3 + t*p2 + i*p1==total:\n",
      "                            ways = ways + 1\n",
      "                            continue\n",
      "                        for d in range(5):\n",
      "                            if d*p6 +y*p5 +x*p4 + f*p3 + t*p2 + i*p1==total:\n",
      "                                    ways = ways+1\n",
      "                                    continue\n",
      "                            for g in range(3):\n",
      "                                if g*p7+d*p6 +y*p5 +x*p4 + f*p3 + t*p2 + i*p1==total:\n",
      "                                    ways = ways +1\n",
      "                                    continue\n",
      "                                for j in range(2):\n",
      "                                    if j*p8==total:\n",
      "                                        ways=ways+1\n",
      "                                        break\n",
      "print ways"
     ],
     "language": "python",
     "metadata": {},
     "outputs": [
      {
       "ename": "KeyboardInterrupt",
       "evalue": "",
       "output_type": "pyerr",
       "traceback": [
        "\u001b[0;31m---------------------------------------------------------------------------\u001b[0m\n\u001b[0;31mKeyboardInterrupt\u001b[0m                         Traceback (most recent call last)",
        "\u001b[0;32m<ipython-input-20-fd176c23e0b2>\u001b[0m in \u001b[0;36m<module>\u001b[0;34m()\u001b[0m\n\u001b[1;32m     33\u001b[0m                                     \u001b[0mways\u001b[0m \u001b[0;34m=\u001b[0m \u001b[0mways\u001b[0m\u001b[0;34m+\u001b[0m\u001b[0;36m1\u001b[0m\u001b[0;34m\u001b[0m\u001b[0m\n\u001b[1;32m     34\u001b[0m                                     \u001b[0;32mcontinue\u001b[0m\u001b[0;34m\u001b[0m\u001b[0m\n\u001b[0;32m---> 35\u001b[0;31m                             \u001b[0;32mfor\u001b[0m \u001b[0mg\u001b[0m \u001b[0;32min\u001b[0m \u001b[0mrange\u001b[0m\u001b[0;34m(\u001b[0m\u001b[0;36m3\u001b[0m\u001b[0;34m)\u001b[0m\u001b[0;34m:\u001b[0m\u001b[0;34m\u001b[0m\u001b[0m\n\u001b[0m\u001b[1;32m     36\u001b[0m                                 \u001b[0;32mif\u001b[0m \u001b[0mg\u001b[0m\u001b[0;34m*\u001b[0m\u001b[0mp7\u001b[0m\u001b[0;34m+\u001b[0m\u001b[0md\u001b[0m\u001b[0;34m*\u001b[0m\u001b[0mp6\u001b[0m \u001b[0;34m+\u001b[0m\u001b[0my\u001b[0m\u001b[0;34m*\u001b[0m\u001b[0mp5\u001b[0m \u001b[0;34m+\u001b[0m\u001b[0mx\u001b[0m\u001b[0;34m*\u001b[0m\u001b[0mp4\u001b[0m \u001b[0;34m+\u001b[0m \u001b[0mf\u001b[0m\u001b[0;34m*\u001b[0m\u001b[0mp3\u001b[0m \u001b[0;34m+\u001b[0m \u001b[0mt\u001b[0m\u001b[0;34m*\u001b[0m\u001b[0mp2\u001b[0m \u001b[0;34m+\u001b[0m \u001b[0mi\u001b[0m\u001b[0;34m*\u001b[0m\u001b[0mp1\u001b[0m\u001b[0;34m==\u001b[0m\u001b[0mtotal\u001b[0m\u001b[0;34m:\u001b[0m\u001b[0;34m\u001b[0m\u001b[0m\n\u001b[1;32m     37\u001b[0m                                     \u001b[0mways\u001b[0m \u001b[0;34m=\u001b[0m \u001b[0mways\u001b[0m \u001b[0;34m+\u001b[0m\u001b[0;36m1\u001b[0m\u001b[0;34m\u001b[0m\u001b[0m\n",
        "\u001b[0;31mKeyboardInterrupt\u001b[0m: "
       ]
      }
     ],
     "prompt_number": 20
    },
    {
     "cell_type": "code",
     "collapsed": false,
     "input": [],
     "language": "python",
     "metadata": {},
     "outputs": []
    },
    {
     "cell_type": "code",
     "collapsed": false,
     "input": [],
     "language": "python",
     "metadata": {},
     "outputs": []
    }
   ],
   "metadata": {}
  }
 ]
}