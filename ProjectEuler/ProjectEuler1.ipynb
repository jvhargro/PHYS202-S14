{
 "metadata": {
  "name": "",
  "signature": "sha256:d602d805a3e9272cabee8526fe3104aab485ca13ffc96c02317645c35262c304"
 },
 "nbformat": 3,
 "nbformat_minor": 0,
 "worksheets": [
  {
   "cells": [
    {
     "cell_type": "heading",
     "level": 1,
     "metadata": {},
     "source": [
      "Multiples of 3 and 5"
     ]
    },
    {
     "cell_type": "heading",
     "level": 3,
     "metadata": {},
     "source": [
      "Problem 1"
     ]
    },
    {
     "cell_type": "markdown",
     "metadata": {},
     "source": [
      "If we list all the natural numbers below 10 that are multiples of 3 or 5, we get 3, 5, 6 and 9. The sum of these multiples is 23.\n",
      "\n",
      "Find the sum of all the multiples of 3 or 5 below 1000."
     ]
    },
    {
     "cell_type": "markdown",
     "metadata": {},
     "source": [
      "Driver: Jake\n",
      "\n",
      "Navigator: Kevin"
     ]
    },
    {
     "cell_type": "code",
     "collapsed": false,
     "input": [
      "def mult(x):\n",
      "    sum = 0\n",
      "    for i in range(x):\n",
      "        if i%3 == 0 or i%5 == 0:\n",
      "            sum = sum + i\n",
      "    return sum\n",
      "print mult(10)"
     ],
     "language": "python",
     "metadata": {},
     "outputs": [
      {
       "output_type": "stream",
       "stream": "stdout",
       "text": [
        "23\n"
       ]
      }
     ],
     "prompt_number": 5
    },
    {
     "cell_type": "code",
     "collapsed": false,
     "input": [
      "def mult(x):\n",
      "    sum = 0\n",
      "    for i in range(x):\n",
      "        if i%3 == 0 or i%5 == 0:\n",
      "            sum = sum + i\n",
      "    return sum\n",
      "print mult(1000)"
     ],
     "language": "python",
     "metadata": {},
     "outputs": [
      {
       "output_type": "stream",
       "stream": "stdout",
       "text": [
        "233168\n"
       ]
      }
     ],
     "prompt_number": 8
    },
    {
     "cell_type": "code",
     "collapsed": false,
     "input": [],
     "language": "python",
     "metadata": {},
     "outputs": []
    }
   ],
   "metadata": {}
  }
 ]
}