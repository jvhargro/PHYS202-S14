{
 "metadata": {
  "name": "",
  "signature": "sha256:22705c0b893dd985ca3f1e50b2affca4a265497626cf36807c12e6b877bd9e9c"
 },
 "nbformat": 3,
 "nbformat_minor": 0,
 "worksheets": [
  {
   "cells": [
    {
     "cell_type": "heading",
     "level": 1,
     "metadata": {},
     "source": [
      "Largest palindrome product"
     ]
    },
    {
     "cell_type": "heading",
     "level": 3,
     "metadata": {},
     "source": [
      "Problem 4"
     ]
    },
    {
     "cell_type": "markdown",
     "metadata": {},
     "source": [
      "\n",
      "\n",
      "A palindromic number reads the same both ways. The largest palindrome made from the product of two 2-digit numbers is 9009 = 91 \u00d7 99.\n",
      "\n",
      "Find the largest palindrome made from the product of two 3-digit numbers.\n"
     ]
    },
    {
     "cell_type": "code",
     "collapsed": false,
     "input": [
      "tot = 0\n",
      "for x in range(100):\n",
      "    for y in range(100):\n",
      "        pal1 = x*y\n",
      "        pal = str(pal1)\n",
      "        if pal[:] == pal[::-1]:\n",
      "            if pal1 > tot:\n",
      "                tot = pal1\n",
      "                ans1 = x\n",
      "                ans2 = y\n",
      "                \n",
      "print tot, \"=\", ans1, \"x\", ans2  ## test case"
     ],
     "language": "python",
     "metadata": {},
     "outputs": [
      {
       "output_type": "stream",
       "stream": "stdout",
       "text": [
        "9009 = 91 x 99\n"
       ]
      }
     ],
     "prompt_number": 1
    },
    {
     "cell_type": "code",
     "collapsed": false,
     "input": [
      "tot = 0\n",
      "for x in range(1000):\n",
      "    for y in range(1000):\n",
      "        pal1 = x*y\n",
      "        pal = str(pal1)\n",
      "        if pal[:] == pal[::-1]:\n",
      "            if pal1 > tot:\n",
      "                tot = pal1\n",
      "                a = x\n",
      "                b = y\n",
      "print tot, \"=\", a, \"x\", b"
     ],
     "language": "python",
     "metadata": {},
     "outputs": [
      {
       "output_type": "stream",
       "stream": "stdout",
       "text": [
        "906609 = 913 x 993\n"
       ]
      }
     ],
     "prompt_number": 2
    }
   ],
   "metadata": {}
  }
 ]
}