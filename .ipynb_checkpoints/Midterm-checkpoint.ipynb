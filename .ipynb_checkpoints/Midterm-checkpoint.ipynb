{
 "metadata": {
  "name": "",
  "signature": "sha256:bb3f648c442f17a14d74fb7b434e18bff3b28543065bef34f01ddfdeffd90a59"
 },
 "nbformat": 3,
 "nbformat_minor": 0,
 "worksheets": [
  {
   "cells": [
    {
     "cell_type": "heading",
     "level": 1,
     "metadata": {},
     "source": [
      "Midterm"
     ]
    },
    {
     "cell_type": "heading",
     "level": 3,
     "metadata": {},
     "source": [
      "Question 1"
     ]
    },
    {
     "cell_type": "markdown",
     "metadata": {},
     "source": [
      "In Robert McCloskey\u2019s book Make Way for Ducklings, the names of the ducklings are Jack, Kack, Lack, Mack, Nack, Ouack, Pack, and Quack. This loop outputs these names in order: \n",
      "The output is:\n",
      "Jack \n",
      "Kack \n",
      "Lack \n",
      "Mack \n",
      "Nack \n",
      "Oack \n",
      "Pack \n",
      "Qack\n",
      "Of course, that\u2019s not quite right because \u201cOuack\u201d and \u201cQuack\u201d are misspelled.\n",
      "Modify the program to fix this error."
     ]
    },
    {
     "cell_type": "code",
     "collapsed": false,
     "input": [
      "prefixes = 'JKLMNOPQ' \n",
      "suffix = 'ack'\n",
      "for letter in prefixes:\n",
      "    if letter == 'Q' or letter == 'O':\n",
      "        print letter + 'u' + suffix\n",
      "    else:\n",
      "        print letter + suffix"
     ],
     "language": "python",
     "metadata": {},
     "outputs": [
      {
       "output_type": "stream",
       "stream": "stdout",
       "text": [
        "Jack\n",
        "Kack\n",
        "Lack\n",
        "Mack\n",
        "Nack\n",
        "Ouack\n",
        "Pack\n",
        "Quack\n"
       ]
      }
     ],
     "prompt_number": 3
    },
    {
     "cell_type": "heading",
     "level": 3,
     "metadata": {},
     "source": [
      "Question 2"
     ]
    },
    {
     "cell_type": "markdown",
     "metadata": {},
     "source": [
      "\n",
      "Use ipythonblocks to create an 8x8 grid with the first initial of your last name embedded in it in a different color. Use slices and/or loops to set the values rather than setting each block by hand. Here is an example:"
     ]
    },
    {
     "cell_type": "code",
     "collapsed": false,
     "input": [
      "from ipythonblocks import BlockGrid\n",
      "from ipythonblocks import colors\n",
      "grid = BlockGrid(8,8, fill=(123, 234, 123))\n",
      "grid[:,1] = colors['Black']\n",
      "grid[:,6] = colors['Black']\n",
      "grid[3,2:6] = colors['Black']\n",
      "\n",
      "grid"
     ],
     "language": "python",
     "metadata": {},
     "outputs": [
      {
       "html": [
        "<style type=\"text/css\">table.blockgrid {border: none;} .blockgrid tr {border: none;} .blockgrid td {padding: 0px;} #blocks7ec778d5-a415-48d4-907b-324b413d3d73 td {border: 1px solid white;}</style><table id=\"blocks7ec778d5-a415-48d4-907b-324b413d3d73\" class=\"blockgrid\"><tbody><tr><td title=\"Index: [0, 0]&#10;Color: (123, 234, 123)\" style=\"width: 20px; height: 20px;background-color: rgb(123, 234, 123);\"></td><td title=\"Index: [0, 1]&#10;Color: (0, 0, 0)\" style=\"width: 20px; height: 20px;background-color: rgb(0, 0, 0);\"></td><td title=\"Index: [0, 2]&#10;Color: (123, 234, 123)\" style=\"width: 20px; height: 20px;background-color: rgb(123, 234, 123);\"></td><td title=\"Index: [0, 3]&#10;Color: (123, 234, 123)\" style=\"width: 20px; height: 20px;background-color: rgb(123, 234, 123);\"></td><td title=\"Index: [0, 4]&#10;Color: (123, 234, 123)\" style=\"width: 20px; height: 20px;background-color: rgb(123, 234, 123);\"></td><td title=\"Index: [0, 5]&#10;Color: (123, 234, 123)\" style=\"width: 20px; height: 20px;background-color: rgb(123, 234, 123);\"></td><td title=\"Index: [0, 6]&#10;Color: (0, 0, 0)\" style=\"width: 20px; height: 20px;background-color: rgb(0, 0, 0);\"></td><td title=\"Index: [0, 7]&#10;Color: (123, 234, 123)\" style=\"width: 20px; height: 20px;background-color: rgb(123, 234, 123);\"></td></tr><tr><td title=\"Index: [1, 0]&#10;Color: (123, 234, 123)\" style=\"width: 20px; height: 20px;background-color: rgb(123, 234, 123);\"></td><td title=\"Index: [1, 1]&#10;Color: (0, 0, 0)\" style=\"width: 20px; height: 20px;background-color: rgb(0, 0, 0);\"></td><td title=\"Index: [1, 2]&#10;Color: (123, 234, 123)\" style=\"width: 20px; height: 20px;background-color: rgb(123, 234, 123);\"></td><td title=\"Index: [1, 3]&#10;Color: (123, 234, 123)\" style=\"width: 20px; height: 20px;background-color: rgb(123, 234, 123);\"></td><td title=\"Index: [1, 4]&#10;Color: (123, 234, 123)\" style=\"width: 20px; height: 20px;background-color: rgb(123, 234, 123);\"></td><td title=\"Index: [1, 5]&#10;Color: (123, 234, 123)\" style=\"width: 20px; height: 20px;background-color: rgb(123, 234, 123);\"></td><td title=\"Index: [1, 6]&#10;Color: (0, 0, 0)\" style=\"width: 20px; height: 20px;background-color: rgb(0, 0, 0);\"></td><td title=\"Index: [1, 7]&#10;Color: (123, 234, 123)\" style=\"width: 20px; height: 20px;background-color: rgb(123, 234, 123);\"></td></tr><tr><td title=\"Index: [2, 0]&#10;Color: (123, 234, 123)\" style=\"width: 20px; height: 20px;background-color: rgb(123, 234, 123);\"></td><td title=\"Index: [2, 1]&#10;Color: (0, 0, 0)\" style=\"width: 20px; height: 20px;background-color: rgb(0, 0, 0);\"></td><td title=\"Index: [2, 2]&#10;Color: (123, 234, 123)\" style=\"width: 20px; height: 20px;background-color: rgb(123, 234, 123);\"></td><td title=\"Index: [2, 3]&#10;Color: (123, 234, 123)\" style=\"width: 20px; height: 20px;background-color: rgb(123, 234, 123);\"></td><td title=\"Index: [2, 4]&#10;Color: (123, 234, 123)\" style=\"width: 20px; height: 20px;background-color: rgb(123, 234, 123);\"></td><td title=\"Index: [2, 5]&#10;Color: (123, 234, 123)\" style=\"width: 20px; height: 20px;background-color: rgb(123, 234, 123);\"></td><td title=\"Index: [2, 6]&#10;Color: (0, 0, 0)\" style=\"width: 20px; height: 20px;background-color: rgb(0, 0, 0);\"></td><td title=\"Index: [2, 7]&#10;Color: (123, 234, 123)\" style=\"width: 20px; height: 20px;background-color: rgb(123, 234, 123);\"></td></tr><tr><td title=\"Index: [3, 0]&#10;Color: (123, 234, 123)\" style=\"width: 20px; height: 20px;background-color: rgb(123, 234, 123);\"></td><td title=\"Index: [3, 1]&#10;Color: (0, 0, 0)\" style=\"width: 20px; height: 20px;background-color: rgb(0, 0, 0);\"></td><td title=\"Index: [3, 2]&#10;Color: (0, 0, 0)\" style=\"width: 20px; height: 20px;background-color: rgb(0, 0, 0);\"></td><td title=\"Index: [3, 3]&#10;Color: (0, 0, 0)\" style=\"width: 20px; height: 20px;background-color: rgb(0, 0, 0);\"></td><td title=\"Index: [3, 4]&#10;Color: (0, 0, 0)\" style=\"width: 20px; height: 20px;background-color: rgb(0, 0, 0);\"></td><td title=\"Index: [3, 5]&#10;Color: (0, 0, 0)\" style=\"width: 20px; height: 20px;background-color: rgb(0, 0, 0);\"></td><td title=\"Index: [3, 6]&#10;Color: (0, 0, 0)\" style=\"width: 20px; height: 20px;background-color: rgb(0, 0, 0);\"></td><td title=\"Index: [3, 7]&#10;Color: (123, 234, 123)\" style=\"width: 20px; height: 20px;background-color: rgb(123, 234, 123);\"></td></tr><tr><td title=\"Index: [4, 0]&#10;Color: (123, 234, 123)\" style=\"width: 20px; height: 20px;background-color: rgb(123, 234, 123);\"></td><td title=\"Index: [4, 1]&#10;Color: (0, 0, 0)\" style=\"width: 20px; height: 20px;background-color: rgb(0, 0, 0);\"></td><td title=\"Index: [4, 2]&#10;Color: (123, 234, 123)\" style=\"width: 20px; height: 20px;background-color: rgb(123, 234, 123);\"></td><td title=\"Index: [4, 3]&#10;Color: (123, 234, 123)\" style=\"width: 20px; height: 20px;background-color: rgb(123, 234, 123);\"></td><td title=\"Index: [4, 4]&#10;Color: (123, 234, 123)\" style=\"width: 20px; height: 20px;background-color: rgb(123, 234, 123);\"></td><td title=\"Index: [4, 5]&#10;Color: (123, 234, 123)\" style=\"width: 20px; height: 20px;background-color: rgb(123, 234, 123);\"></td><td title=\"Index: [4, 6]&#10;Color: (0, 0, 0)\" style=\"width: 20px; height: 20px;background-color: rgb(0, 0, 0);\"></td><td title=\"Index: [4, 7]&#10;Color: (123, 234, 123)\" style=\"width: 20px; height: 20px;background-color: rgb(123, 234, 123);\"></td></tr><tr><td title=\"Index: [5, 0]&#10;Color: (123, 234, 123)\" style=\"width: 20px; height: 20px;background-color: rgb(123, 234, 123);\"></td><td title=\"Index: [5, 1]&#10;Color: (0, 0, 0)\" style=\"width: 20px; height: 20px;background-color: rgb(0, 0, 0);\"></td><td title=\"Index: [5, 2]&#10;Color: (123, 234, 123)\" style=\"width: 20px; height: 20px;background-color: rgb(123, 234, 123);\"></td><td title=\"Index: [5, 3]&#10;Color: (123, 234, 123)\" style=\"width: 20px; height: 20px;background-color: rgb(123, 234, 123);\"></td><td title=\"Index: [5, 4]&#10;Color: (123, 234, 123)\" style=\"width: 20px; height: 20px;background-color: rgb(123, 234, 123);\"></td><td title=\"Index: [5, 5]&#10;Color: (123, 234, 123)\" style=\"width: 20px; height: 20px;background-color: rgb(123, 234, 123);\"></td><td title=\"Index: [5, 6]&#10;Color: (0, 0, 0)\" style=\"width: 20px; height: 20px;background-color: rgb(0, 0, 0);\"></td><td title=\"Index: [5, 7]&#10;Color: (123, 234, 123)\" style=\"width: 20px; height: 20px;background-color: rgb(123, 234, 123);\"></td></tr><tr><td title=\"Index: [6, 0]&#10;Color: (123, 234, 123)\" style=\"width: 20px; height: 20px;background-color: rgb(123, 234, 123);\"></td><td title=\"Index: [6, 1]&#10;Color: (0, 0, 0)\" style=\"width: 20px; height: 20px;background-color: rgb(0, 0, 0);\"></td><td title=\"Index: [6, 2]&#10;Color: (123, 234, 123)\" style=\"width: 20px; height: 20px;background-color: rgb(123, 234, 123);\"></td><td title=\"Index: [6, 3]&#10;Color: (123, 234, 123)\" style=\"width: 20px; height: 20px;background-color: rgb(123, 234, 123);\"></td><td title=\"Index: [6, 4]&#10;Color: (123, 234, 123)\" style=\"width: 20px; height: 20px;background-color: rgb(123, 234, 123);\"></td><td title=\"Index: [6, 5]&#10;Color: (123, 234, 123)\" style=\"width: 20px; height: 20px;background-color: rgb(123, 234, 123);\"></td><td title=\"Index: [6, 6]&#10;Color: (0, 0, 0)\" style=\"width: 20px; height: 20px;background-color: rgb(0, 0, 0);\"></td><td title=\"Index: [6, 7]&#10;Color: (123, 234, 123)\" style=\"width: 20px; height: 20px;background-color: rgb(123, 234, 123);\"></td></tr><tr><td title=\"Index: [7, 0]&#10;Color: (123, 234, 123)\" style=\"width: 20px; height: 20px;background-color: rgb(123, 234, 123);\"></td><td title=\"Index: [7, 1]&#10;Color: (0, 0, 0)\" style=\"width: 20px; height: 20px;background-color: rgb(0, 0, 0);\"></td><td title=\"Index: [7, 2]&#10;Color: (123, 234, 123)\" style=\"width: 20px; height: 20px;background-color: rgb(123, 234, 123);\"></td><td title=\"Index: [7, 3]&#10;Color: (123, 234, 123)\" style=\"width: 20px; height: 20px;background-color: rgb(123, 234, 123);\"></td><td title=\"Index: [7, 4]&#10;Color: (123, 234, 123)\" style=\"width: 20px; height: 20px;background-color: rgb(123, 234, 123);\"></td><td title=\"Index: [7, 5]&#10;Color: (123, 234, 123)\" style=\"width: 20px; height: 20px;background-color: rgb(123, 234, 123);\"></td><td title=\"Index: [7, 6]&#10;Color: (0, 0, 0)\" style=\"width: 20px; height: 20px;background-color: rgb(0, 0, 0);\"></td><td title=\"Index: [7, 7]&#10;Color: (123, 234, 123)\" style=\"width: 20px; height: 20px;background-color: rgb(123, 234, 123);\"></td></tr></tbody></table>"
       ],
       "metadata": {},
       "output_type": "pyout",
       "prompt_number": 14,
       "text": [
        "<ipythonblocks.ipythonblocks.BlockGrid at 0x102f2c2d0>"
       ]
      }
     ],
     "prompt_number": 14
    },
    {
     "cell_type": "heading",
     "level": 3,
     "metadata": {},
     "source": [
      "Question 3"
     ]
    },
    {
     "cell_type": "markdown",
     "metadata": {},
     "source": [
      "\"99 Bottles of Beer\" is a traditional song in the United States and Canada. It is popular to sing on long trips, as it has a very repetitive format which is easy to memorize, and can take a long time to sing. The song's simple lyrics are as follows:\n",
      "99 bottles of beer on the wall, 99 bottles of beer.  \n",
      "Take one down, pass it around, 98 bottles of beer on the wall.\n",
      "The same verse is repeated, each time with one fewer bottle. The song is completed when the singer or singers reach zero.\n",
      "Your task here is to write a program capable of generating all the verses of the song."
     ]
    },
    {
     "cell_type": "code",
     "collapsed": false,
     "input": [
      "beer = 99\n",
      "for bottle in range(beer+1):\n",
      "    print beer, 'bottles of beer on the wall,', beer, 'bottles of beer. Take one down, pass it around,', beer - 1, 'bottles of beer'\n",
      "    print 'on the wall.'\n",
      "    beer = beer - 1\n",
      "    if beer == 0:\n",
      "        break"
     ],
     "language": "python",
     "metadata": {},
     "outputs": [
      {
       "output_type": "stream",
       "stream": "stdout",
       "text": [
        "99 bottles of beer on the wall, 99 bottles of beer. Take one down, pass it around, 98 bottles of beer\n",
        "on the wall.\n",
        "98 bottles of beer on the wall, 98 bottles of beer. Take one down, pass it around, 97 bottles of beer\n",
        "on the wall.\n",
        "97 bottles of beer on the wall, 97 bottles of beer. Take one down, pass it around, 96 bottles of beer\n",
        "on the wall.\n",
        "96 bottles of beer on the wall, 96 bottles of beer. Take one down, pass it around, 95 bottles of beer\n",
        "on the wall.\n",
        "95 bottles of beer on the wall, 95 bottles of beer. Take one down, pass it around, 94 bottles of beer\n",
        "on the wall.\n",
        "94 bottles of beer on the wall, 94 bottles of beer. Take one down, pass it around, 93 bottles of beer\n",
        "on the wall.\n",
        "93 bottles of beer on the wall, 93 bottles of beer. Take one down, pass it around, 92 bottles of beer\n",
        "on the wall.\n",
        "92 bottles of beer on the wall, 92 bottles of beer. Take one down, pass it around, 91 bottles of beer\n",
        "on the wall.\n",
        "91 bottles of beer on the wall, 91 bottles of beer. Take one down, pass it around, 90 bottles of beer\n",
        "on the wall.\n",
        "90 bottles of beer on the wall, 90 bottles of beer. Take one down, pass it around, 89 bottles of beer\n",
        "on the wall.\n",
        "89 bottles of beer on the wall, 89 bottles of beer. Take one down, pass it around, 88 bottles of beer\n",
        "on the wall.\n",
        "88 bottles of beer on the wall, 88 bottles of beer. Take one down, pass it around, 87 bottles of beer\n",
        "on the wall.\n",
        "87 bottles of beer on the wall, 87 bottles of beer. Take one down, pass it around, 86 bottles of beer\n",
        "on the wall.\n",
        "86 bottles of beer on the wall, 86 bottles of beer. Take one down, pass it around, 85 bottles of beer\n",
        "on the wall.\n",
        "85 bottles of beer on the wall, 85 bottles of beer. Take one down, pass it around, 84 bottles of beer\n",
        "on the wall.\n",
        "84 bottles of beer on the wall, 84 bottles of beer. Take one down, pass it around, 83 bottles of beer\n",
        "on the wall.\n",
        "83 bottles of beer on the wall, 83 bottles of beer. Take one down, pass it around, 82 bottles of beer\n",
        "on the wall.\n",
        "82 bottles of beer on the wall, 82 bottles of beer. Take one down, pass it around, 81 bottles of beer\n",
        "on the wall.\n",
        "81 bottles of beer on the wall, 81 bottles of beer. Take one down, pass it around, 80 bottles of beer\n",
        "on the wall.\n",
        "80 bottles of beer on the wall, 80 bottles of beer. Take one down, pass it around, 79 bottles of beer\n",
        "on the wall.\n",
        "79 bottles of beer on the wall, 79 bottles of beer. Take one down, pass it around, 78 bottles of beer\n",
        "on the wall.\n",
        "78 bottles of beer on the wall, 78 bottles of beer. Take one down, pass it around, 77 bottles of beer\n",
        "on the wall.\n",
        "77 bottles of beer on the wall, 77 bottles of beer. Take one down, pass it around, 76 bottles of beer\n",
        "on the wall.\n",
        "76 bottles of beer on the wall, 76 bottles of beer. Take one down, pass it around, 75 bottles of beer\n",
        "on the wall.\n",
        "75 bottles of beer on the wall, 75 bottles of beer. Take one down, pass it around, 74 bottles of beer\n",
        "on the wall.\n",
        "74 bottles of beer on the wall, 74 bottles of beer. Take one down, pass it around, 73 bottles of beer\n",
        "on the wall.\n",
        "73 bottles of beer on the wall, 73 bottles of beer. Take one down, pass it around, 72 bottles of beer\n",
        "on the wall.\n",
        "72 bottles of beer on the wall, 72 bottles of beer. Take one down, pass it around, 71 bottles of beer\n",
        "on the wall.\n",
        "71 bottles of beer on the wall, 71 bottles of beer. Take one down, pass it around, 70 bottles of beer\n",
        "on the wall.\n",
        "70 bottles of beer on the wall, 70 bottles of beer. Take one down, pass it around, 69 bottles of beer\n",
        "on the wall.\n",
        "69 bottles of beer on the wall, 69 bottles of beer. Take one down, pass it around, 68 bottles of beer\n",
        "on the wall.\n",
        "68 bottles of beer on the wall, 68 bottles of beer. Take one down, pass it around, 67 bottles of beer\n",
        "on the wall.\n",
        "67 bottles of beer on the wall, 67 bottles of beer. Take one down, pass it around, 66 bottles of beer\n",
        "on the wall.\n",
        "66 bottles of beer on the wall, 66 bottles of beer. Take one down, pass it around, 65 bottles of beer\n",
        "on the wall.\n",
        "65 bottles of beer on the wall, 65 bottles of beer. Take one down, pass it around, 64 bottles of beer\n",
        "on the wall.\n",
        "64 bottles of beer on the wall, 64 bottles of beer. Take one down, pass it around, 63 bottles of beer\n",
        "on the wall.\n",
        "63 bottles of beer on the wall, 63 bottles of beer. Take one down, pass it around, 62 bottles of beer\n",
        "on the wall.\n",
        "62 bottles of beer on the wall, 62 bottles of beer. Take one down, pass it around, 61 bottles of beer\n",
        "on the wall.\n",
        "61 bottles of beer on the wall, 61 bottles of beer. Take one down, pass it around, 60 bottles of beer\n",
        "on the wall.\n",
        "60 bottles of beer on the wall, 60 bottles of beer. Take one down, pass it around, 59 bottles of beer\n",
        "on the wall.\n",
        "59 bottles of beer on the wall, 59 bottles of beer. Take one down, pass it around, 58 bottles of beer\n",
        "on the wall.\n",
        "58 bottles of beer on the wall, 58 bottles of beer. Take one down, pass it around, 57 bottles of beer\n",
        "on the wall.\n",
        "57 bottles of beer on the wall, 57 bottles of beer. Take one down, pass it around, 56 bottles of beer\n",
        "on the wall.\n",
        "56 bottles of beer on the wall, 56 bottles of beer. Take one down, pass it around, 55 bottles of beer\n",
        "on the wall.\n",
        "55 bottles of beer on the wall, 55 bottles of beer. Take one down, pass it around, 54 bottles of beer\n",
        "on the wall.\n",
        "54 bottles of beer on the wall, 54 bottles of beer. Take one down, pass it around, 53 bottles of beer\n",
        "on the wall.\n",
        "53 bottles of beer on the wall, 53 bottles of beer. Take one down, pass it around, 52 bottles of beer\n",
        "on the wall.\n",
        "52 bottles of beer on the wall, 52 bottles of beer. Take one down, pass it around, 51 bottles of beer\n",
        "on the wall.\n",
        "51 bottles of beer on the wall, 51 bottles of beer. Take one down, pass it around, 50 bottles of beer\n",
        "on the wall.\n",
        "50 bottles of beer on the wall, 50 bottles of beer. Take one down, pass it around, 49 bottles of beer\n",
        "on the wall.\n",
        "49 bottles of beer on the wall, 49 bottles of beer. Take one down, pass it around, 48 bottles of beer\n",
        "on the wall.\n",
        "48 bottles of beer on the wall, 48 bottles of beer. Take one down, pass it around, 47 bottles of beer\n",
        "on the wall.\n",
        "47 bottles of beer on the wall, 47 bottles of beer. Take one down, pass it around, 46 bottles of beer\n",
        "on the wall.\n",
        "46 bottles of beer on the wall, 46 bottles of beer. Take one down, pass it around, 45 bottles of beer\n",
        "on the wall.\n",
        "45 bottles of beer on the wall, 45 bottles of beer. Take one down, pass it around, 44 bottles of beer\n",
        "on the wall.\n",
        "44 bottles of beer on the wall, 44 bottles of beer. Take one down, pass it around, 43 bottles of beer\n",
        "on the wall.\n",
        "43 bottles of beer on the wall, 43 bottles of beer. Take one down, pass it around, 42 bottles of beer\n",
        "on the wall.\n",
        "42 bottles of beer on the wall, 42 bottles of beer. Take one down, pass it around, 41 bottles of beer\n",
        "on the wall.\n",
        "41 bottles of beer on the wall, 41 bottles of beer. Take one down, pass it around, 40 bottles of beer\n",
        "on the wall.\n",
        "40 bottles of beer on the wall, 40 bottles of beer. Take one down, pass it around, 39 bottles of beer\n",
        "on the wall.\n",
        "39 bottles of beer on the wall, 39 bottles of beer. Take one down, pass it around, 38 bottles of beer\n",
        "on the wall.\n",
        "38 bottles of beer on the wall, 38 bottles of beer. Take one down, pass it around, 37 bottles of beer\n",
        "on the wall.\n",
        "37 bottles of beer on the wall, 37 bottles of beer. Take one down, pass it around, 36 bottles of beer\n",
        "on the wall.\n",
        "36 bottles of beer on the wall, 36 bottles of beer. Take one down, pass it around, 35 bottles of beer\n",
        "on the wall.\n",
        "35 bottles of beer on the wall, 35 bottles of beer. Take one down, pass it around, 34 bottles of beer\n",
        "on the wall.\n",
        "34 bottles of beer on the wall, 34 bottles of beer. Take one down, pass it around, 33 bottles of beer\n",
        "on the wall.\n",
        "33 bottles of beer on the wall, 33 bottles of beer. Take one down, pass it around, 32 bottles of beer\n",
        "on the wall.\n",
        "32 bottles of beer on the wall, 32 bottles of beer. Take one down, pass it around, 31 bottles of beer\n",
        "on the wall.\n",
        "31 bottles of beer on the wall, 31 bottles of beer. Take one down, pass it around, 30 bottles of beer\n",
        "on the wall.\n",
        "30 bottles of beer on the wall, 30 bottles of beer. Take one down, pass it around, 29 bottles of beer\n",
        "on the wall.\n",
        "29 bottles of beer on the wall, 29 bottles of beer. Take one down, pass it around, 28 bottles of beer\n",
        "on the wall.\n",
        "28 bottles of beer on the wall, 28 bottles of beer. Take one down, pass it around, 27 bottles of beer\n",
        "on the wall.\n",
        "27 bottles of beer on the wall, 27 bottles of beer. Take one down, pass it around, 26 bottles of beer\n",
        "on the wall.\n",
        "26 bottles of beer on the wall, 26 bottles of beer. Take one down, pass it around, 25 bottles of beer\n",
        "on the wall.\n",
        "25 bottles of beer on the wall, 25 bottles of beer. Take one down, pass it around, 24 bottles of beer\n",
        "on the wall.\n",
        "24 bottles of beer on the wall, 24 bottles of beer. Take one down, pass it around, 23 bottles of beer\n",
        "on the wall.\n",
        "23 bottles of beer on the wall, 23 bottles of beer. Take one down, pass it around, 22 bottles of beer\n",
        "on the wall.\n",
        "22 bottles of beer on the wall, 22 bottles of beer. Take one down, pass it around, 21 bottles of beer\n",
        "on the wall.\n",
        "21 bottles of beer on the wall, 21 bottles of beer. Take one down, pass it around, 20 bottles of beer\n",
        "on the wall.\n",
        "20 bottles of beer on the wall, 20 bottles of beer. Take one down, pass it around, 19 bottles of beer\n",
        "on the wall.\n",
        "19 bottles of beer on the wall, 19 bottles of beer. Take one down, pass it around, 18 bottles of beer\n",
        "on the wall.\n",
        "18 bottles of beer on the wall, 18 bottles of beer. Take one down, pass it around, 17 bottles of beer\n",
        "on the wall.\n",
        "17 bottles of beer on the wall, 17 bottles of beer. Take one down, pass it around, 16 bottles of beer\n",
        "on the wall.\n",
        "16 bottles of beer on the wall, 16 bottles of beer. Take one down, pass it around, 15 bottles of beer\n",
        "on the wall.\n",
        "15 bottles of beer on the wall, 15 bottles of beer. Take one down, pass it around, 14 bottles of beer\n",
        "on the wall.\n",
        "14 bottles of beer on the wall, 14 bottles of beer. Take one down, pass it around, 13 bottles of beer\n",
        "on the wall.\n",
        "13 bottles of beer on the wall, 13 bottles of beer. Take one down, pass it around, 12 bottles of beer\n",
        "on the wall.\n",
        "12 bottles of beer on the wall, 12 bottles of beer. Take one down, pass it around, 11 bottles of beer\n",
        "on the wall.\n",
        "11 bottles of beer on the wall, 11 bottles of beer. Take one down, pass it around, 10 bottles of beer\n",
        "on the wall.\n",
        "10 bottles of beer on the wall, 10 bottles of beer. Take one down, pass it around, 9 bottles of beer\n",
        "on the wall.\n",
        "9 bottles of beer on the wall, 9 bottles of beer. Take one down, pass it around, 8 bottles of beer\n",
        "on the wall.\n",
        "8 bottles of beer on the wall, 8 bottles of beer. Take one down, pass it around, 7 bottles of beer\n",
        "on the wall.\n",
        "7 bottles of beer on the wall, 7 bottles of beer. Take one down, pass it around, 6 bottles of beer\n",
        "on the wall.\n",
        "6 bottles of beer on the wall, 6 bottles of beer. Take one down, pass it around, 5 bottles of beer\n",
        "on the wall.\n",
        "5 bottles of beer on the wall, 5 bottles of beer. Take one down, pass it around, 4 bottles of beer\n",
        "on the wall.\n",
        "4 bottles of beer on the wall, 4 bottles of beer. Take one down, pass it around, 3 bottles of beer\n",
        "on the wall.\n",
        "3 bottles of beer on the wall, 3 bottles of beer. Take one down, pass it around, 2 bottles of beer\n",
        "on the wall.\n",
        "2 bottles of beer on the wall, 2 bottles of beer. Take one down, pass it around, 1 bottles of beer\n",
        "on the wall.\n",
        "1 bottles of beer on the wall, 1 bottles of beer. Take one down, pass it around, 0 bottles of beer\n",
        "on the wall.\n"
       ]
      }
     ],
     "prompt_number": 28
    },
    {
     "cell_type": "heading",
     "level": 3,
     "metadata": {},
     "source": [
      "Question 4"
     ]
    },
    {
     "cell_type": "markdown",
     "metadata": {},
     "source": [
      "Plot a simple graph of a sine function in the range 0 to 3 with a step size of 0.1.\n",
      "Make the line red.\n",
      "Add green diamond-shaped markers with size of 7.\n",
      "Include legible axis labels.\n",
      "Add a legend and a grid to the plot."
     ]
    },
    {
     "cell_type": "code",
     "collapsed": false,
     "input": [
      "%pylab inline\n",
      "plt.figure(figsize=(10,8), dpi=80)\n",
      "x = np.linspace(0,3)\n",
      "c = np.sin(x)\n",
      "s = np.cos(x)\n",
      "plt.xticks(np.linspace(0, 3, 31, endpoint=True))\n",
      "plt.plot(x, c, color='r', linewidth=3, label=\"sin(x)\")\n",
      "plt.xlabel(\"X\", fontsize = 15)\n",
      "plt.ylabel(\"Y\", fontsize = 15)\n",
      "plt.ylim(0,1.1)\n",
      "plt.plot(x, c, 'd', markersize=7, color='g', label=\"sin(x)\")\n",
      "plt.legend(loc='upper left', fontsize=15)\n",
      "plt.grid()\n",
      "plt.show()"
     ],
     "language": "python",
     "metadata": {},
     "outputs": [
      {
       "output_type": "stream",
       "stream": "stdout",
       "text": [
        "Populating the interactive namespace from numpy and matplotlib\n"
       ]
      },
      {
       "metadata": {},
       "output_type": "display_data",
       "png": "[encoded data removed]",
       "text": [
        "<matplotlib.figure.Figure at 0x106c6ddd0>"
       ]
      }
     ],
     "prompt_number": 117
    },
    {
     "cell_type": "heading",
     "level": 3,
     "metadata": {},
     "source": [
      "Question 5"
     ]
    },
    {
     "cell_type": "markdown",
     "metadata": {},
     "source": [
      "Create a 100x5 NumPy array called arr of random floating point numbers between 10.7 and 36.2.\n",
      "Write the array to a file called numbers.txt as 5 columns separated by 2 spaces and formatted with 3 places after the decimal.\n",
      "Include a 3-line header that lists the date and time on line 2 (hint: try !date).\n",
      "Show the first 10 lines of the file using the !head command.\n",
      "Read the data back in from the file to a new floating point NumPy array called arr2 and use a slice to print the first ten lines of the array."
     ]
    },
    {
     "cell_type": "code",
     "collapsed": false,
     "input": [
      "arr = np.random.normal(23.5, 6.4, 500)\n",
      "arr = arr.reshape(100,5)\n",
      "head = !date #didn't work\n",
      "np.savetxt('numbers.txt', arr, fmt=('%4.3f'), delimiter = '  ', header=\"\\n Tue April 29, 2014 3:26 PM \\n\" )\n",
      "!cat numbers.txt"
     ],
     "language": "python",
     "metadata": {},
     "outputs": [
      {
       "output_type": "stream",
       "stream": "stdout",
       "text": [
        "# \r\n",
        "#  Tue April 29, 2014 3:26 PM \r\n",
        "# \r\n",
        "19.416  18.416  15.877  22.285  18.335\r\n",
        "6.364  21.084  31.397  32.966  25.957\r\n",
        "29.268  20.678  28.185  21.017  23.071\r\n",
        "27.398  23.158  23.017  25.514  31.737\r\n",
        "5.305  26.099  17.458  38.824  26.801\r\n",
        "21.550  31.122  26.023  23.794  24.405\r\n",
        "25.241  19.235  22.030  23.615  20.583\r\n",
        "23.204  19.250  22.517  29.436  19.796\r\n",
        "28.199  11.557  13.610  14.535  38.338\r\n",
        "19.459  18.859  15.460  23.987  24.582\r\n",
        "21.971  26.391  21.395  21.170  34.935\r\n",
        "25.690  22.973  20.248  15.962  16.743\r\n",
        "31.852  26.455  26.145  30.208  25.139\r\n",
        "31.666  13.614  23.058  20.663  29.273\r\n",
        "22.329  29.748  20.801  21.390  4.100\r\n",
        "22.365  20.890  20.978  19.955  25.383\r\n",
        "30.154  27.104  18.717  25.404  22.919\r\n",
        "21.190  25.155  25.688  26.090  20.668\r\n",
        "27.317  22.194  22.773  24.891  13.690\r\n",
        "16.185  10.653  20.399  22.340  31.428\r\n",
        "31.274  31.393  25.754  17.569  25.001\r\n",
        "19.640  21.450  27.683  41.849  18.003\r\n",
        "25.413  34.539  24.677  23.629  10.906\r\n",
        "22.474  32.837  22.325  20.127  18.642\r\n",
        "30.068  13.680  11.273  20.972  22.283\r\n",
        "30.002  25.589  21.509  27.831  20.979\r\n",
        "21.941  18.512  18.668  33.220  25.558\r\n",
        "21.643  27.938  24.828  20.500  26.079\r\n",
        "26.727  24.306  22.762  33.069  27.963\r\n",
        "20.608  14.381  28.999  21.796  25.673\r\n",
        "25.220  25.962  23.453  20.758  21.003\r\n",
        "19.153  11.972  24.207  29.155  26.050\r\n",
        "10.030  36.501  24.880  12.177  27.833\r\n",
        "20.817  26.057  22.167  8.476  35.797\r\n",
        "31.823  15.556  23.816  30.008  33.334\r\n",
        "25.453  23.644  24.117  18.246  26.292\r\n",
        "12.781  20.732  27.821  24.816  32.910\r\n",
        "29.515  35.599  34.911  33.673  30.543\r\n",
        "19.336  29.227  37.184  27.137  28.234\r\n",
        "23.082  25.818  17.874  22.995  32.238\r\n",
        "35.753  17.226  20.549  30.649  24.923\r\n",
        "23.132  30.224  26.069  23.953  26.908\r\n",
        "27.991  20.507  31.556  14.845  10.270\r\n",
        "27.466  30.074  22.877  29.995  28.566\r\n",
        "21.532  7.195  20.416  18.794  24.311\r\n",
        "19.810  33.795  20.038  14.904  14.897\r\n",
        "22.629  28.117  23.583  27.432  13.918\r\n",
        "27.778  30.892  7.438  23.827  26.322\r\n",
        "17.535  18.725  32.284  19.260  20.276\r\n",
        "11.210  24.949  27.393  24.870  29.417\r\n",
        "27.703  19.700  27.329  29.552  27.985\r\n",
        "14.841  13.937  15.607  24.179  22.011\r\n",
        "13.726  17.836  20.002  15.290  28.190\r\n",
        "24.557  22.177  13.077  24.372  7.197\r\n",
        "21.320  22.804  27.312  24.868  29.110\r\n",
        "10.019  20.199  25.821  21.675  27.675\r\n",
        "16.327  26.271  24.644  35.346  18.669\r\n",
        "19.964  24.563  25.613  15.866  23.643\r\n",
        "26.163  19.660  32.367  14.809  17.411\r\n",
        "22.604  22.994  23.506  17.713  32.200\r\n",
        "20.153  13.405  26.135  21.741  17.928\r\n",
        "32.584  25.489  20.641  31.930  15.443\r\n",
        "9.801  28.177  24.397  18.904  22.822\r\n",
        "27.402  22.336  23.895  21.352  22.770\r\n",
        "22.821  14.673  26.836  13.488  37.000\r\n",
        "29.479  18.862  27.267  24.178  20.054\r\n",
        "26.306  31.771  26.542  29.504  22.481\r\n",
        "22.491  21.177  28.253  38.750  20.131\r\n",
        "29.283  23.077  21.219  19.077  21.576\r\n",
        "23.207  13.348  30.240  29.351  27.197\r\n",
        "33.662  34.727  18.215  11.560  21.043\r\n",
        "31.884  27.560  15.333  21.487  25.948\r\n",
        "19.419  26.695  21.015  19.196  14.889\r\n",
        "15.936  21.612  28.151  30.902  40.415\r\n",
        "24.457  32.713  25.862  13.292  26.430\r\n",
        "7.366  36.402  20.190  17.235  32.752\r\n",
        "16.746  22.844  22.431  11.155  27.748\r\n",
        "13.851  24.554  31.880  23.312  28.422\r\n",
        "22.101  28.730  21.232  33.386  24.836\r\n",
        "24.340  12.506  28.808  25.762  31.674\r\n",
        "16.964  35.577  13.461  20.229  31.375\r\n",
        "24.374  41.786  44.373  26.142  40.149\r\n",
        "21.162  22.182  26.495  21.693  19.522\r\n",
        "22.736  19.967  26.518  20.675  31.479\r\n",
        "31.589  32.133  25.987  16.629  20.067\r\n",
        "21.552  21.751  20.348  25.648  17.548\r\n",
        "24.585  14.773  22.070  25.463  19.060\r\n",
        "30.620  21.287  16.899  27.946  25.551\r\n",
        "18.548  33.809  26.192  23.604  20.478\r\n",
        "12.999  24.549  31.693  22.926  20.592\r\n",
        "15.965  22.765  13.538  29.849  23.458\r\n",
        "27.811  17.736  22.744  22.233  21.693\r\n",
        "18.025  19.924  19.829  23.295  17.521\r\n",
        "32.046  32.292  14.117  27.604  8.447\r\n",
        "30.331  26.181  10.057  22.437  35.904\r\n",
        "18.042  21.257  21.076  23.757  19.580\r\n",
        "24.346  30.437  20.689  33.559  21.913\r\n",
        "19.599  26.937  24.092  16.500  19.993\r\n",
        "31.623  8.063  27.371  17.002  28.450\r\n",
        "19.905  21.258  9.134  34.530  29.746\r\n"
       ]
      }
     ],
     "prompt_number": 134
    },
    {
     "cell_type": "code",
     "collapsed": false,
     "input": [
      "!date"
     ],
     "language": "python",
     "metadata": {},
     "outputs": [
      {
       "output_type": "stream",
       "stream": "stdout",
       "text": [
        "Tue Apr 29 15:31:31 PDT 2014\r\n"
       ]
      }
     ],
     "prompt_number": 120
    },
    {
     "cell_type": "code",
     "collapsed": false,
     "input": [
      "!head numbers.txt"
     ],
     "language": "python",
     "metadata": {},
     "outputs": [
      {
       "output_type": "stream",
       "stream": "stdout",
       "text": [
        "# \r\n",
        "#  Tue April 29, 2014 3:26 PM \r\n",
        "# \r\n",
        "19.416  18.416  15.877  22.285  18.335\r\n",
        "6.364  21.084  31.397  32.966  25.957\r\n",
        "29.268  20.678  28.185  21.017  23.071\r\n",
        "27.398  23.158  23.017  25.514  31.737\r\n",
        "5.305  26.099  17.458  38.824  26.801\r\n",
        "21.550  31.122  26.023  23.794  24.405\r\n",
        "25.241  19.235  22.030  23.615  20.583\r\n"
       ]
      }
     ],
     "prompt_number": 136
    },
    {
     "cell_type": "code",
     "collapsed": false,
     "input": [
      "arr2 = loadtxt('numbers.txt')\n",
      "arr2[:10,:]"
     ],
     "language": "python",
     "metadata": {},
     "outputs": [
      {
       "metadata": {},
       "output_type": "pyout",
       "prompt_number": 135,
       "text": [
        "array([[ 19.416,  18.416,  15.877,  22.285,  18.335],\n",
        "       [  6.364,  21.084,  31.397,  32.966,  25.957],\n",
        "       [ 29.268,  20.678,  28.185,  21.017,  23.071],\n",
        "       [ 27.398,  23.158,  23.017,  25.514,  31.737],\n",
        "       [  5.305,  26.099,  17.458,  38.824,  26.801],\n",
        "       [ 21.55 ,  31.122,  26.023,  23.794,  24.405],\n",
        "       [ 25.241,  19.235,  22.03 ,  23.615,  20.583],\n",
        "       [ 23.204,  19.25 ,  22.517,  29.436,  19.796],\n",
        "       [ 28.199,  11.557,  13.61 ,  14.535,  38.338],\n",
        "       [ 19.459,  18.859,  15.46 ,  23.987,  24.582]])"
       ]
      }
     ],
     "prompt_number": 135
    },
    {
     "cell_type": "code",
     "collapsed": false,
     "input": [],
     "language": "python",
     "metadata": {},
     "outputs": []
    }
   ],
   "metadata": {}
  }
 ]
}