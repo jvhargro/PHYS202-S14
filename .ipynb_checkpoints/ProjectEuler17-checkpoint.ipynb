{
 "metadata": {
  "name": "",
  "signature": "sha256:1eb5233a600974778e8cab070352718cb58d27c891e4aeeb98704d0e78bc6f31"
 },
 "nbformat": 3,
 "nbformat_minor": 0,
 "worksheets": [
  {
   "cells": [
    {
     "cell_type": "heading",
     "level": 1,
     "metadata": {},
     "source": [
      "Number letter counts"
     ]
    },
    {
     "cell_type": "heading",
     "level": 3,
     "metadata": {},
     "source": [
      "Problem 17"
     ]
    },
    {
     "cell_type": "markdown",
     "metadata": {},
     "source": [
      "\n",
      "\n",
      "If the numbers 1 to 5 are written out in words: one, two, three, four, five, then there are 3 + 3 + 5 + 4 + 4 = 19 letters used in total.\n",
      "\n",
      "If all the numbers from 1 to 1000 (one thousand) inclusive were written out in words, how many letters would be used?\n",
      "\n",
      "NOTE: Do not count spaces or hyphens. For example, 342 (three hundred and forty-two) contains 23 letters and 115 (one hundred and fifteen) contains 20 letters. The use of \"and\" when writing out numbers is in compliance with British usage.\n"
     ]
    },
    {
     "cell_type": "code",
     "collapsed": false,
     "input": [
      "ones = {0:0, 1:3, 2:3, 6:3, 4:4, 5:4, 9:4, 3:5, 7:5, 8:5}\n",
      "ten = {10:3, 11:6, 12:6, 13:8, 14:8, 15:7, 16:7, 17:9, 18:8, 19:8}\n",
      "tens = {20:6, 30:6, 40:5, 50:5, 60:5, 70:7, 80:6, 90:6}\n",
      "hundred = 7\n",
      "plus = 3\n",
      "onethousand = 11\n",
      "letters = 0\n",
      "for i in range(5):\n",
      "    letters +=ones[i+1]\n",
      "print \"1 through 5 =\", letters\n",
      "print \"three hundred and forty-two\",ones[3] + hundred + plus + tens[40] + ones[2]\n",
      "print \"one hundred and fifteen\", ones[1] + hundred + plus + ten[15]"
     ],
     "language": "python",
     "metadata": {},
     "outputs": [
      {
       "output_type": "stream",
       "stream": "stdout",
       "text": [
        "1 through 5 = 19\n",
        "three hundred and forty-two 23\n",
        "one hundred and fifteen 20\n"
       ]
      }
     ],
     "prompt_number": 48
    },
    {
     "cell_type": "code",
     "collapsed": false,
     "input": [
      "ones = {0:0, 1:3, 2:3, 6:3, 4:4, 5:4, 9:4, 3:5, 7:5, 8:5}\n",
      "ten = {10:3, 11:6, 12:6, 13:8, 14:8, 15:7, 16:7, 17:9, 18:8, 19:8}\n",
      "tens = {20:6, 30:6, 40:5, 50:5, 60:5, 70:7, 80:6, 90:6}\n",
      "hundred = 7\n",
      "plus = 3\n",
      "onethousand = 11\n",
      "letters = 0\n",
      "hundredspot = 0\n",
      "for i in range(100):\n",
      "    if (i+1) < 10:\n",
      "        letters += ones[i+1]\n",
      "    elif (i+1) >= 10 and (i+1) < 20:\n",
      "        letters += ten[i+1]\n",
      "    elif (i+1) >= 20 and (i+1) < 100:\n",
      "        if (i+1)%10==0:\n",
      "            letters += tens[i+1]\n",
      "            for digit in range(9):\n",
      "                letters += ones[digit+1]\n",
      "                \n",
      "letters = letters*10\n",
      "\n",
      "for i in range(1000):\n",
      "    if (i+1) >= 100 and (i+1) < 1000:\n",
      "        letters += hundred \n",
      "for i in range(9):\n",
      "    letters += ones[i+1] * 100\n",
      "    \n",
      "        \n",
      "\n",
      "\n",
      "letters += plus*990 #'and' is used 990 times\n",
      "answer = letters + onethousand\n",
      "                \n",
      "print 'the sum of the letters from one to one thousand is ',answer\n"
     ],
     "language": "python",
     "metadata": {},
     "outputs": [
      {
       "output_type": "stream",
       "stream": "stdout",
       "text": [
        "11000\n",
        "11300\n",
        "11800\n",
        "12200\n",
        "12600\n",
        "12900\n",
        "13400\n",
        "13900\n",
        "14300\n",
        "the sum of the letters from one to one thousand is  17281\n"
       ]
      }
     ],
     "prompt_number": 80
    },
    {
     "cell_type": "code",
     "collapsed": false,
     "input": [
      "answer = 21124\n"
     ],
     "language": "python",
     "metadata": {},
     "outputs": [],
     "prompt_number": 18
    }
   ],
   "metadata": {}
  }
 ]
}