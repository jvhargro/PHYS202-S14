{
 "metadata": {
  "name": "",
  "signature": "sha256:4a08e368bbe79015c0d667b4d5c4bd1dd0b63f8f818b106b75ed1b2b147be4c3"
 },
 "nbformat": 3,
 "nbformat_minor": 0,
 "worksheets": [
  {
   "cells": [
    {
     "cell_type": "code",
     "collapsed": false,
     "input": [
      "%%file Blobfinder.py\n",
      "\n",
      "class Blob():\n",
      "    def __init__(self): #construct an empty blob\n",
      "        self.blob = []\n",
      "    def add(self, i, j): # add a pixel (i, j) to the blob\n",
      "        self.blob.append((i,j))\n",
      "    def mass(self): # return number of pixels added = its mass\n",
      "        self.mass = len(self.blob)\n",
      "        return self.mass\n",
      "    def distanceTo(self, b): # return distance between centers of masses of this blob and b\n",
      "        x1 = self.centerOfMass()[0]\n",
      "        x2 = b.centerOfMass()[0]\n",
      "        y1 = self.centerOfMass()[1]\n",
      "        y2 = b.centerOfMass()[1]\n",
      "        distance = ((x2-x1)**2 + (y2-y1)**2)**0.5\n",
      "        return distance\n",
      "    def centerOfMass(self): # return tuple of (x,y) values for this blob's center of mass\n",
      "        x = 0            # format center-of-mass coordinates with 4 digits to right\n",
      "        y = 0            # of decimal point\n",
      "        for coord in self.blob:\n",
      "            x = x + coord[0]\n",
      "            y = y + coord[1]\n",
      "        xavg = (x)/(len(self.blob))\n",
      "        yavg = (y)/(len(self.blob))\n",
      "        return [xavg,yavg]\n",
      "\n",
      "def monochrome(picture, threshold): #copied from counting stars, makes the picture black and white to be\n",
      "    black = (0, 0, 0)               #used by the fill function\n",
      "    white = (255, 255, 255)\n",
      "    xsize, ysize = picture.size\n",
      "    temp = picture.load()\n",
      "    for x in range(xsize):\n",
      "        for y in range(ysize):\n",
      "            r,g,b = temp[x,y]\n",
      "            if r+g+b >= threshold:\n",
      "                temp[x,y] = black\n",
      "            else:\n",
      "                temp[x,y] = white\n",
      "\n",
      "def fill(picture, xsize, ysize, xstart, ystart): #fill function from counting stars, fills blob and \n",
      "    queue = [(xstart,ystart)]                    #appends pixels to blob\n",
      "    Blob_new = Blob()\n",
      "    while queue:\n",
      "        BLACK = (0,0,0)\n",
      "        RED = (255,0,0)\n",
      "        x,y,queue = queue[0][0], queue[0][1], queue[1:]\n",
      "        if picture[x,y] == BLACK:\n",
      "            picture[x,y] = RED\n",
      "            Blob_new.add(x,y)\n",
      "            if x > 0:\n",
      "                queue.append((x-1,y))\n",
      "            if x < (xsize-1):\n",
      "                queue.append((x+1,y))\n",
      "            if y > 0:\n",
      "                queue.append((x, y-1))\n",
      "            if y < (ysize-1):\n",
      "                queue.append((x, y+1))\n",
      "    return Blob_new\n",
      "\n",
      "\n",
      "def count(picture):   #count function from counting stars, finds all the blobs and returns a list of\n",
      "    xsize, ysize = picture.size #blobs in eache frame\n",
      "    temp = picture.load()\n",
      "    ListBlob = []\n",
      "    result = 0\n",
      "    BLACK = (0,0,0)\n",
      "    RED = (255,0,0)\n",
      "    for x in range(xsize):\n",
      "        for y in range(ysize):\n",
      "            if temp[x,y] == BLACK:\n",
      "                ListBlob.append(fill(temp,xsize,ysize,x,y))\n",
      "    return ListBlob\n",
      "\n",
      "                \n",
      "def BlobFinder(picture, tau): #600 works for run data, 180.0 works well for milk data\n",
      "    '''find all blobs in the picture using the luminance threshold tau'''\n",
      "    float(tau)\n",
      "    monochrome(picture,tau)\n",
      "    ListBlob = count(picture)\n",
      "    return ListBlob\n",
      "    \n",
      "    \n",
      "    \n",
      "def countBeads(P,lst):\n",
      "    '''return the number of beads with >= P pixels,\n",
      "    scan the image top to bottom and left to right using a nested loop.\n",
      "    when black pixel is found, increment the count, then call the fill\n",
      "    function to fill in all the pixels connected to that one.'''\n",
      "    Bigblobs = []\n",
      "    for blob in lst:\n",
      "        x = blob.mass()\n",
      "        if x >= P:\n",
      "            Bigblobs.append(blob)\n",
      "    print \"the number of blobs with\", P, \"or over pixels is\",\n",
      "    return len(Bigblobs)\n",
      "                 \n",
      "\n",
      "def getBeads(P,lst):\n",
      "    '''return all beads with >= P pixels'''\n",
      "    Beads = []\n",
      "    for blob in lst:\n",
      "        x = blob.mass()\n",
      "        if x >= P:\n",
      "            Beads.append(blob)\n",
      "    return Beads"
     ],
     "language": "python",
     "metadata": {},
     "outputs": [
      {
       "output_type": "stream",
       "stream": "stdout",
       "text": [
        "Overwriting Blobfinder.py\n"
       ]
      }
     ],
     "prompt_number": 24
    },
    {
     "cell_type": "heading",
     "level": 1,
     "metadata": {},
     "source": [
      "From this point all the remaining code was written to test the Blobfinder module"
     ]
    },
    {
     "cell_type": "code",
     "collapsed": false,
     "input": [
      "b = Blob()\n",
      "b.add(4,90)\n",
      "b.add(5,5)\n",
      "c = Blob()\n",
      "c.add(10,10)\n",
      "c.add(15,30)\n",
      "print b.mass()\n",
      "print b.centerOfMass()\n",
      "print c.centerOfMass()\n",
      "print b.distanceTo(c)"
     ],
     "language": "python",
     "metadata": {},
     "outputs": [
      {
       "output_type": "stream",
       "stream": "stdout",
       "text": [
        "2\n",
        "[4, 47]\n",
        "[12, 20]\n",
        "28.1602556807\n"
       ]
      }
     ],
     "prompt_number": 2
    },
    {
     "cell_type": "code",
     "collapsed": false,
     "input": [
      "from PIL import Image\n",
      "\n",
      "import requests\n",
      "\n",
      "from StringIO import StringIO\n",
      "response = requests.get(\"http://imgsrc.hubblesite.org/hu/db/images/hs-1999-30-b-full_jpg.jpg\")\n",
      "pic = Image.open(StringIO(response.content))"
     ],
     "language": "python",
     "metadata": {},
     "outputs": [],
     "prompt_number": 12
    },
    {
     "cell_type": "code",
     "collapsed": false,
     "input": [
      "ListBlob = BlobFinder(pic, 600)\n",
      "print ListBlob"
     ],
     "language": "python",
     "metadata": {},
     "outputs": [
      {
       "output_type": "stream",
       "stream": "stdout",
       "text": [
        "[<__main__.Blob instance at 0x104728c20>, <__main__.Blob instance at 0x104728c68>, <__main__.Blob instance at 0x104728cb0>, <__main__.Blob instance at 0x104728cf8>, <__main__.Blob instance at 0x104728d40>, <__main__.Blob instance at 0x10472a200>, <__main__.Blob instance at 0x10472a248>, <__main__.Blob instance at 0x10472a320>, <__main__.Blob instance at 0x104729bd8>, <__main__.Blob instance at 0x104729c20>, <__main__.Blob instance at 0x10472cc20>, <__main__.Blob instance at 0x10472cc68>, <__main__.Blob instance at 0x10472ccb0>, <__main__.Blob instance at 0x10472ccf8>, <__main__.Blob instance at 0x10472cf80>, <__main__.Blob instance at 0x10472cfc8>, <__main__.Blob instance at 0x10472d050>, <__main__.Blob instance at 0x10472d0e0>, <__main__.Blob instance at 0x10472d8c0>, <__main__.Blob instance at 0x10472da70>, <__main__.Blob instance at 0x10472e440>, <__main__.Blob instance at 0x10472e488>, <__main__.Blob instance at 0x10472e4d0>, <__main__.Blob instance at 0x10472e7a0>, <__main__.Blob instance at 0x10472ecb0>, <__main__.Blob instance at 0x10472ecf8>, <__main__.Blob instance at 0x10472f050>, <__main__.Blob instance at 0x10472f440>, <__main__.Blob instance at 0x1047309e0>, <__main__.Blob instance at 0x104730a28>, <__main__.Blob instance at 0x104730a70>, <__main__.Blob instance at 0x104730ab8>, <__main__.Blob instance at 0x104730b00>, <__main__.Blob instance at 0x104730dd0>, <__main__.Blob instance at 0x104730f80>, <__main__.Blob instance at 0x104731098>, <__main__.Blob instance at 0x1047310e0>, <__main__.Blob instance at 0x1047315f0>, <__main__.Blob instance at 0x104731638>, <__main__.Blob instance at 0x104731ef0>, <__main__.Blob instance at 0x104731f38>, <__main__.Blob instance at 0x104732248>, <__main__.Blob instance at 0x104732290>, <__main__.Blob instance at 0x1047322d8>, <__main__.Blob instance at 0x104732878>, <__main__.Blob instance at 0x1047328c0>, <__main__.Blob instance at 0x104732b00>, <__main__.Blob instance at 0x104732fc8>, <__main__.Blob instance at 0x1047334d0>, <__main__.Blob instance at 0x104733560>, <__main__.Blob instance at 0x1047337a0>, <__main__.Blob instance at 0x104733830>, <__main__.Blob instance at 0x1047338c0>, <__main__.Blob instance at 0x104733950>, <__main__.Blob instance at 0x104733ab8>, <__main__.Blob instance at 0x104734248>, <__main__.Blob instance at 0x1047347a0>, <__main__.Blob instance at 0x104734830>, <__main__.Blob instance at 0x1047348c0>, <__main__.Blob instance at 0x104736170>, <__main__.Blob instance at 0x104737710>, <__main__.Blob instance at 0x1047377a0>, <__main__.Blob instance at 0x104737830>, <__main__.Blob instance at 0x104737998>, <__main__.Blob instance at 0x104737a28>, <__main__.Blob instance at 0x104739830>, <__main__.Blob instance at 0x1047398c0>, <__main__.Blob instance at 0x104739b48>, <__main__.Blob instance at 0x104739bd8>, <__main__.Blob instance at 0x104739f38>, <__main__.Blob instance at 0x104739fc8>, <__main__.Blob instance at 0x10473a710>, <__main__.Blob instance at 0x10473a8c0>, <__main__.Blob instance at 0x10473a950>, <__main__.Blob instance at 0x10473a9e0>, <__main__.Blob instance at 0x10473aa70>, <__main__.Blob instance at 0x10473b7e8>, <__main__.Blob instance at 0x10473b908>, <__main__.Blob instance at 0x10473b998>, <__main__.Blob instance at 0x10473c0e0>, <__main__.Blob instance at 0x10473c170>, <__main__.Blob instance at 0x10473c200>, <__main__.Blob instance at 0x10473c290>, <__main__.Blob instance at 0x10473c320>, <__main__.Blob instance at 0x10473c710>, <__main__.Blob instance at 0x10473cb00>, <__main__.Blob instance at 0x10473f9e0>, <__main__.Blob instance at 0x10473fa70>, <__main__.Blob instance at 0x104740050>, <__main__.Blob instance at 0x1047400e0>, <__main__.Blob instance at 0x104740170>, <__main__.Blob instance at 0x104740758>, <__main__.Blob instance at 0x1047407e8>, <__main__.Blob instance at 0x104740878>, <__main__.Blob instance at 0x104740908>, <__main__.Blob instance at 0x104740998>, <__main__.Blob instance at 0x104741638>, <__main__.Blob instance at 0x104741998>, <__main__.Blob instance at 0x104742368>, <__main__.Blob instance at 0x1047423f8>, <__main__.Blob instance at 0x104742488>, <__main__.Blob instance at 0x105edffc8>, <__main__.Blob instance at 0x105ee0320>, <__main__.Blob instance at 0x105ee05f0>, <__main__.Blob instance at 0x105ee1710>, <__main__.Blob instance at 0x105ee3050>, <__main__.Blob instance at 0x105ee30e0>, <__main__.Blob instance at 0x105ee43b0>, <__main__.Blob instance at 0x105ee4440>, <__main__.Blob instance at 0x105ee46c8>, <__main__.Blob instance at 0x105ee4758>, <__main__.Blob instance at 0x105ee4a28>, <__main__.Blob instance at 0x105ee4ab8>, <__main__.Blob instance at 0x105ee4b48>, <__main__.Blob instance at 0x105ef0050>, <__main__.Blob instance at 0x105ef01b8>, <__main__.Blob instance at 0x105ef19e0>, <__main__.Blob instance at 0x105ef1d88>, <__main__.Blob instance at 0x105ef1e18>, <__main__.Blob instance at 0x105ef1f80>, <__main__.Blob instance at 0x105ef2050>, <__main__.Blob instance at 0x105ef20e0>, <__main__.Blob instance at 0x105ef2ab8>, <__main__.Blob instance at 0x105ef3440>, <__main__.Blob instance at 0x105ef3518>, <__main__.Blob instance at 0x105ef35a8>, <__main__.Blob instance at 0x105ef5098>, <__main__.Blob instance at 0x105ef58c0>, <__main__.Blob instance at 0x105ef5950>, <__main__.Blob instance at 0x105ef75a8>, <__main__.Blob instance at 0x105ef7638>, <__main__.Blob instance at 0x105ef7b00>, <__main__.Blob instance at 0x105ef7e18>, <__main__.Blob instance at 0x105ef9128>, <__main__.Blob instance at 0x105ef91b8>, <__main__.Blob instance at 0x105ef95f0>, <__main__.Blob instance at 0x105ef9b90>, <__main__.Blob instance at 0x105ef9c20>, <__main__.Blob instance at 0x105ef9cb0>, <__main__.Blob instance at 0x105ef9d40>, <__main__.Blob instance at 0x105efa488>, <__main__.Blob instance at 0x105efa950>, <__main__.Blob instance at 0x105efb908>, <__main__.Blob instance at 0x105f00638>, <__main__.Blob instance at 0x105f006c8>, <__main__.Blob instance at 0x105f00b00>, <__main__.Blob instance at 0x105f01248>, <__main__.Blob instance at 0x105f012d8>, <__main__.Blob instance at 0x105f01368>, <__main__.Blob instance at 0x105f031b8>, <__main__.Blob instance at 0x105f034d0>, <__main__.Blob instance at 0x105f03560>, <__main__.Blob instance at 0x105f035f0>, <__main__.Blob instance at 0x105f03710>, <__main__.Blob instance at 0x105f050e0>, <__main__.Blob instance at 0x105f05170>, <__main__.Blob instance at 0x105f06200>, <__main__.Blob instance at 0x105f06290>, <__main__.Blob instance at 0x105f065a8>, <__main__.Blob instance at 0x105f067a0>, <__main__.Blob instance at 0x105f07b00>, <__main__.Blob instance at 0x105f07b90>, <__main__.Blob instance at 0x105f08c20>, <__main__.Blob instance at 0x105f09128>, <__main__.Blob instance at 0x105f0ad40>, <__main__.Blob instance at 0x105f0add0>, <__main__.Blob instance at 0x105f0b320>, <__main__.Blob instance at 0x105f1bf38>, <__main__.Blob instance at 0x105f1d4d0>, <__main__.Blob instance at 0x105f1d560>, <__main__.Blob instance at 0x105f1d6c8>, <__main__.Blob instance at 0x1060e25f0>, <__main__.Blob instance at 0x1060e2680>, <__main__.Blob instance at 0x1060e2998>, <__main__.Blob instance at 0x1060e2a28>, <__main__.Blob instance at 0x1060e2b48>, <__main__.Blob instance at 0x1060e55a8>, <__main__.Blob instance at 0x1060e5710>, <__main__.Blob instance at 0x1060e57a0>, <__main__.Blob instance at 0x1060e5830>, <__main__.Blob instance at 0x1060e5998>, <__main__.Blob instance at 0x1060e5a28>, <__main__.Blob instance at 0x1060e5cb0>, <__main__.Blob instance at 0x1060e62d8>, <__main__.Blob instance at 0x1060e74d0>, <__main__.Blob instance at 0x1060e7560>, <__main__.Blob instance at 0x1060e8fc8>, <__main__.Blob instance at 0x1060e9098>, <__main__.Blob instance at 0x1060e9b48>, <__main__.Blob instance at 0x1060e9bd8>, <__main__.Blob instance at 0x1060e9c68>, <__main__.Blob instance at 0x1060e9cf8>, <__main__.Blob instance at 0x1060eaa70>, <__main__.Blob instance at 0x1060eab00>, <__main__.Blob instance at 0x1060eabd8>, <__main__.Blob instance at 0x1060eac68>, <__main__.Blob instance at 0x1060eacf8>, <__main__.Blob instance at 0x1060eaf80>, <__main__.Blob instance at 0x1060eb050>, <__main__.Blob instance at 0x1060eb170>, <__main__.Blob instance at 0x1060eb908>, <__main__.Blob instance at 0x1060ebb00>, <__main__.Blob instance at 0x1060ebbd8>, <__main__.Blob instance at 0x1060ec8c0>, <__main__.Blob instance at 0x1060ec950>, <__main__.Blob instance at 0x1060ecf80>, <__main__.Blob instance at 0x1060eedd0>, <__main__.Blob instance at 0x1060efa70>, <__main__.Blob instance at 0x1060efb00>, <__main__.Blob instance at 0x1060f0a70>, <__main__.Blob instance at 0x1060f0cf8>, <__main__.Blob instance at 0x1060f1c20>, <__main__.Blob instance at 0x1060f1cb0>, <__main__.Blob instance at 0x1060f2248>, <__main__.Blob instance at 0x1060f6a28>, <__main__.Blob instance at 0x1060f74d0>, <__main__.Blob instance at 0x1060f78c0>, <__main__.Blob instance at 0x1060f79e0>, <__main__.Blob instance at 0x1060f7b90>, <__main__.Blob instance at 0x1060f8950>, <__main__.Blob instance at 0x1060fc830>, <__main__.Blob instance at 0x1060fc8c0>, <__main__.Blob instance at 0x1060fc950>, <__main__.Blob instance at 0x1060fc9e0>, <__main__.Blob instance at 0x1060fca70>, <__main__.Blob instance at 0x1060fcb00>, <__main__.Blob instance at 0x1060fcf80>, <__main__.Blob instance at 0x1060fd050>, <__main__.Blob instance at 0x1060fd0e0>, <__main__.Blob instance at 0x1060fd2d8>, <__main__.Blob instance at 0x1060fd3f8>, <__main__.Blob instance at 0x1060fd488>, <__main__.Blob instance at 0x1060fd680>, <__main__.Blob instance at 0x1060fd830>, <__main__.Blob instance at 0x1060fd9e0>, <__main__.Blob instance at 0x1060fda70>, <__main__.Blob instance at 0x1060fdb48>, <__main__.Blob instance at 0x1060ff7e8>, <__main__.Blob instance at 0x1060ff878>, <__main__.Blob instance at 0x1060ff908>, <__main__.Blob instance at 0x1060ff998>, <__main__.Blob instance at 0x1060ffb90>, <__main__.Blob instance at 0x1060ffc20>, <__main__.Blob instance at 0x106100128>, <__main__.Blob instance at 0x1061001b8>, <__main__.Blob instance at 0x106100710>, <__main__.Blob instance at 0x106100a28>, <__main__.Blob instance at 0x106100ab8>, <__main__.Blob instance at 0x106100fc8>, <__main__.Blob instance at 0x106101098>, <__main__.Blob instance at 0x106101170>, <__main__.Blob instance at 0x106101368>, <__main__.Blob instance at 0x1061013f8>, <__main__.Blob instance at 0x1061015f0>, <__main__.Blob instance at 0x106101c20>, <__main__.Blob instance at 0x106101dd0>, <__main__.Blob instance at 0x1061020e0>, <__main__.Blob instance at 0x106102170>, <__main__.Blob instance at 0x106102440>, <__main__.Blob instance at 0x106102560>, <__main__.Blob instance at 0x106102bd8>, <__main__.Blob instance at 0x106102f38>, <__main__.Blob instance at 0x1061030e0>, <__main__.Blob instance at 0x106103170>, <__main__.Blob instance at 0x106103290>, <__main__.Blob instance at 0x106104e18>, <__main__.Blob instance at 0x106104ea8>, <__main__.Blob instance at 0x106105128>, <__main__.Blob instance at 0x1061051b8>, <__main__.Blob instance at 0x106105c20>, <__main__.Blob instance at 0x106105cb0>, <__main__.Blob instance at 0x106105d40>, <__main__.Blob instance at 0x106105dd0>, <__main__.Blob instance at 0x106105f38>, <__main__.Blob instance at 0x1061061b8>, <__main__.Blob instance at 0x106106248>, <__main__.Blob instance at 0x106106710>, <__main__.Blob instance at 0x106106c20>, <__main__.Blob instance at 0x106106cb0>, <__main__.Blob instance at 0x106106ea8>, <__main__.Blob instance at 0x1061071b8>, <__main__.Blob instance at 0x106107248>, <__main__.Blob instance at 0x1061075f0>, <__main__.Blob instance at 0x106107680>, <__main__.Blob instance at 0x106107758>, <__main__.Blob instance at 0x1061077e8>, <__main__.Blob instance at 0x106108b00>, <__main__.Blob instance at 0x106109f38>, <__main__.Blob instance at 0x106109fc8>, <__main__.Blob instance at 0x10610a098>, <__main__.Blob instance at 0x10610a128>, <__main__.Blob instance at 0x10610a1b8>, <__main__.Blob instance at 0x10610acb0>, <__main__.Blob instance at 0x10610ad40>, <__main__.Blob instance at 0x10610bcb0>, <__main__.Blob instance at 0x10610bd40>, <__main__.Blob instance at 0x10610bdd0>, <__main__.Blob instance at 0x10610c128>, <__main__.Blob instance at 0x10610c6c8>, <__main__.Blob instance at 0x10610d1b8>, <__main__.Blob instance at 0x10610d248>, <__main__.Blob instance at 0x10610d3f8>, <__main__.Blob instance at 0x10610d488>, <__main__.Blob instance at 0x10610dc68>, <__main__.Blob instance at 0x10610dcf8>, <__main__.Blob instance at 0x10610dd88>, <__main__.Blob instance at 0x10610de18>, <__main__.Blob instance at 0x10610dea8>, <__main__.Blob instance at 0x10610e170>, <__main__.Blob instance at 0x10610e3b0>, <__main__.Blob instance at 0x10610e440>, <__main__.Blob instance at 0x10610e4d0>, <__main__.Blob instance at 0x10610e560>, <__main__.Blob instance at 0x10610e7e8>, <__main__.Blob instance at 0x10610eea8>, <__main__.Blob instance at 0x10610ef38>, <__main__.Blob instance at 0x10610efc8>, <__main__.Blob instance at 0x10610f4d0>, <__main__.Blob instance at 0x10610f680>, <__main__.Blob instance at 0x10610f878>]\n"
       ]
      }
     ],
     "prompt_number": 22
    },
    {
     "cell_type": "code",
     "collapsed": false,
     "input": [
      "print countBeads(25, ListBlob)"
     ],
     "language": "python",
     "metadata": {},
     "outputs": [
      {
       "output_type": "stream",
       "stream": "stdout",
       "text": [
        "the number of blobs with 25 or over pixels is 57\n"
       ]
      }
     ],
     "prompt_number": 19
    },
    {
     "cell_type": "code",
     "collapsed": false,
     "input": [
      "print getBeads(25, ListBlob)"
     ],
     "language": "python",
     "metadata": {},
     "outputs": [
      {
       "output_type": "stream",
       "stream": "stdout",
       "text": [
        "[<__main__.Blob instance at 0x10472a320>, <__main__.Blob instance at 0x104729c20>, <__main__.Blob instance at 0x10472da70>, <__main__.Blob instance at 0x10472f440>, <__main__.Blob instance at 0x1047348c0>, <__main__.Blob instance at 0x104736170>, <__main__.Blob instance at 0x104737a28>, <__main__.Blob instance at 0x10473aa70>, <__main__.Blob instance at 0x10473cb00>, <__main__.Blob instance at 0x104740998>, <__main__.Blob instance at 0x104741998>, <__main__.Blob instance at 0x104742488>, <__main__.Blob instance at 0x105ee05f0>, <__main__.Blob instance at 0x105ee1710>, <__main__.Blob instance at 0x105ee30e0>, <__main__.Blob instance at 0x105ee4b48>, <__main__.Blob instance at 0x105ef01b8>, <__main__.Blob instance at 0x105ef20e0>, <__main__.Blob instance at 0x105ef2ab8>, <__main__.Blob instance at 0x105ef35a8>, <__main__.Blob instance at 0x105ef5098>, <__main__.Blob instance at 0x105ef5950>, <__main__.Blob instance at 0x105ef7e18>, <__main__.Blob instance at 0x105efa950>, <__main__.Blob instance at 0x105efb908>, <__main__.Blob instance at 0x105f00b00>, <__main__.Blob instance at 0x105f01368>, <__main__.Blob instance at 0x105f03710>, <__main__.Blob instance at 0x105f05170>, <__main__.Blob instance at 0x105f067a0>, <__main__.Blob instance at 0x105f07b90>, <__main__.Blob instance at 0x105f09128>, <__main__.Blob instance at 0x105f0b320>, <__main__.Blob instance at 0x105f1bf38>, <__main__.Blob instance at 0x105f1d6c8>, <__main__.Blob instance at 0x1060e2b48>, <__main__.Blob instance at 0x1060e62d8>, <__main__.Blob instance at 0x1060e7560>, <__main__.Blob instance at 0x1060e9098>, <__main__.Blob instance at 0x1060e9cf8>, <__main__.Blob instance at 0x1060ebbd8>, <__main__.Blob instance at 0x1060ecf80>, <__main__.Blob instance at 0x1060eedd0>, <__main__.Blob instance at 0x1060efb00>, <__main__.Blob instance at 0x1060f0cf8>, <__main__.Blob instance at 0x1060f2248>, <__main__.Blob instance at 0x1060f6a28>, <__main__.Blob instance at 0x1060f7b90>, <__main__.Blob instance at 0x1060f8950>, <__main__.Blob instance at 0x1060fdb48>, <__main__.Blob instance at 0x106103290>, <__main__.Blob instance at 0x1061051b8>, <__main__.Blob instance at 0x1061077e8>, <__main__.Blob instance at 0x106108b00>, <__main__.Blob instance at 0x10610a1b8>, <__main__.Blob instance at 0x10610ad40>, <__main__.Blob instance at 0x10610c6c8>]\n"
       ]
      }
     ],
     "prompt_number": 23
    },
    {
     "cell_type": "code",
     "collapsed": false,
     "input": [],
     "language": "python",
     "metadata": {},
     "outputs": []
    }
   ],
   "metadata": {}
  }
 ]
}