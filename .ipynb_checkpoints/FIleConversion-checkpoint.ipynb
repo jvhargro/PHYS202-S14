{
 "metadata": {
  "name": "",
  "signature": "sha256:4d930dd83ac67f63f63a485dc455ecdbeb6a1b09d7eae5ebccfa479c13948061"
 },
 "nbformat": 3,
 "nbformat_minor": 0,
 "worksheets": []
}