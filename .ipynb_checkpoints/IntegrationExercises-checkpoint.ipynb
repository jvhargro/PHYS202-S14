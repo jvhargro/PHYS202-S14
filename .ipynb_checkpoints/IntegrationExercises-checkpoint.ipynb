{
 "metadata": {
  "name": "",
  "signature": "sha256:384813d98128afc8aa02007bf63677ef3f14cd70c67b2a2a38351363702f86bf"
 },
 "nbformat": 3,
 "nbformat_minor": 0,
 "worksheets": [
  {
   "cells": [
    {
     "cell_type": "heading",
     "level": 1,
     "metadata": {},
     "source": [
      "Integration Exercises"
     ]
    },
    {
     "cell_type": "code",
     "collapsed": false,
     "input": [
      "%pylab inline\n",
      "import numpy as np\n",
      "import matplotlib.pyplot as plt"
     ],
     "language": "python",
     "metadata": {},
     "outputs": [
      {
       "output_type": "stream",
       "stream": "stdout",
       "text": [
        "Populating the interactive namespace from numpy and matplotlib\n"
       ]
      }
     ],
     "prompt_number": 1
    },
    {
     "cell_type": "heading",
     "level": 3,
     "metadata": {},
     "source": [
      "Question 1"
     ]
    },
    {
     "cell_type": "markdown",
     "metadata": {},
     "source": [
      "\n",
      "(a) Write two functions trapz(func,a,b,N) and simps(func,a,b,N) to compute the integral of the function func over the variable x using the trapezoidal rule and Simpson's rule to a file called Integrators.py. Do not use the scipy.integrate built-in functions. Include docstrings with each function that describe what they do. Then import the module and use the functions to answer the following questions. To avoid namespace conflicts, import your module as myint and then call the functions from that namespace. i.e.\n",
      "\n",
      "    import integrators as myint\n",
      "    #...your code...here\n",
      "    I = myint.trapz(func,a,b,N)\n",
      "Also, be sure that you import any needed modules inside your Integrators.py file."
     ]
    },
    {
     "cell_type": "code",
     "collapsed": false,
     "input": [
      "%%file Integrators.py\n",
      "\n",
      "import numpy as np\n",
      "\n",
      "def trapz(func,a,b,N):\n",
      "    '''takes a function, and integrates from imputed limits, a to b,\n",
      "    using N number of trapezoids'''\n",
      "    h = (b-a)/N\n",
      "    k = np.arange(1,N)\n",
      "    I = h*(0.5*func(a) + 0.5*func(b) + func(a+k*h).sum())\n",
      "    return I\n",
      "\n",
      "def simps(func,a,b,N):\n",
      "    '''takes a function, and integrates from imputed limits, a to b,\n",
      "    using N number of quadratic curves'''\n",
      "    h = (b-a)/N\n",
      "    k1 = np.arange(1, N/2+1)\n",
      "    k2 = np.arange(1, N/2)\n",
      "    I2 = (1./3.)*h*(func(a) + func(b) + 4.*func(a+(2*k1-1)*h).sum() + 2.*func(a+2*k2*h).sum())\n",
      "    return I2\n",
      "               "
     ],
     "language": "python",
     "metadata": {},
     "outputs": [
      {
       "output_type": "stream",
       "stream": "stdout",
       "text": [
        "Overwriting Integrators.py\n"
       ]
      }
     ],
     "prompt_number": 2
    },
    {
     "cell_type": "markdown",
     "metadata": {},
     "source": [
      "\n",
      "(b) Use your trapz and simps functions from part (a) to calculate the integral of x4\u22122x+1 from x = 0 to x = 2 with N = 10, N = 100, and N = 1000. Then compare your result to the known correct value of 4.4. What is the percent error in each case?"
     ]
    },
    {
     "cell_type": "code",
     "collapsed": false,
     "input": [
      "import Integrators as myint\n",
      "func = lambda x: x**4 - 2*x + 1\n",
      "\n",
      "print myint.trapz(func,0.,2.,10.),\"%error =\", (myint.trapz(func,0.,2.,10.) - 4.4)/4.4 * 100 #N = 10\n",
      "print myint.simps(func,0.,2.,10.),\"%error =\", (myint.simps(func,0.,2.,10.) - 4.4)/4.4 * 100\n",
      "print myint.trapz(func,0.,2.,100.),\"%error =\", (myint.trapz(func,0.,2.,100.) - 4.4)/4.4 * 100 #N = 100\n",
      "print myint.simps(func,0.,2.,100.),\"%error =\", (myint.simps(func,0.,2.,100.) - 4.4)/4.4 * 100\n",
      "print myint.trapz(func,0.,2.,1000.),\"%error =\", (myint.trapz(func,0.,2.,1000.) - 4.4)/4.4 * 100 #N = 1000\n",
      "print myint.simps(func,0.,2.,1000.),\"%error =\", (myint.simps(func,0.,2.,1000.) - 4.4)/4.4 * 100"
     ],
     "language": "python",
     "metadata": {},
     "outputs": [
      {
       "output_type": "stream",
       "stream": "stdout",
       "text": [
        "4.50656 %error = 2.42181818182\n",
        "4.40042666667 %error = 0.00969696969697\n",
        "4.401066656 %error = 0.0242421818182\n",
        "4.40000004267 %error = 9.69696969187e-07\n",
        "4.40001066667 %error = 0.000242424218175\n",
        "4.4 %error = 9.69729347327e-11\n"
       ]
      }
     ],
     "prompt_number": 3
    },
    {
     "cell_type": "heading",
     "level": 3,
     "metadata": {},
     "source": [
      "Question 2"
     ]
    },
    {
     "cell_type": "markdown",
     "metadata": {},
     "source": [
      "\n",
      "Consider the integral\n",
      "E(x)=\u222bx0e\u2212t2dt\n",
      "This is the error function, commonly seen in probability and statistics. There is no known way to perform this particular integral analytically, although the integrand can be expanded in a Taylor series and terms computed to arbitrary order. For most applications, numerical approaches are the only way forward."
     ]
    },
    {
     "cell_type": "markdown",
     "metadata": {},
     "source": [
      "(a) Use scipy.integrate.cumtrapz to calculate E(x) for values of x from 0 to 3 in steps of 0.1. Print the result."
     ]
    },
    {
     "cell_type": "code",
     "collapsed": false,
     "input": [
      "import scipy.integrate as integrate\n",
      "t = np.arange(0,3.1,.1)\n",
      "func = lambda x: np.exp(-(x**2.))\n",
      "\n",
      "v = integrate.cumtrapz(func(t),x=None, dx=0.1, axis=-1, initial=0)\n",
      "print v"
     ],
     "language": "python",
     "metadata": {},
     "outputs": [
      {
       "output_type": "stream",
       "stream": "stdout",
       "text": [
        "[ 0.          0.09950249  0.19704446  0.29078049  0.37908424  0.46063146\n",
        "  0.53445532  0.59997046  0.6569664   0.70557392  0.7462108   0.77951463\n",
        "  0.80627088  0.82734325  0.84361215  0.85592503  0.86506023  0.87170427\n",
        "  0.87644128  0.87975207  0.88202044  0.88354398  0.88454709  0.88519453\n",
        "  0.88560418  0.88585826  0.88601274  0.88610482  0.88615862  0.88618943\n",
        "  0.88620673]\n"
       ]
      }
     ],
     "prompt_number": 4
    },
    {
     "cell_type": "markdown",
     "metadata": {},
     "source": [
      "(b) Plot the integrand as a function of t and E(x) as a function of x (both ranging from 0 to 3) on the same graph."
     ]
    },
    {
     "cell_type": "code",
     "collapsed": false,
     "input": [
      "plt.plot(t,func(t), label=\"E(x)\")\n",
      "plt.plot(t,v, label=\"Integral\")\n",
      "plt.legend(loc=\"best\")"
     ],
     "language": "python",
     "metadata": {},
     "outputs": [
      {
       "metadata": {},
       "output_type": "pyout",
       "prompt_number": 5,
       "text": [
        "<matplotlib.legend.Legend at 0x1063fdbd0>"
       ]
      },
      {
       "metadata": {},
       "output_type": "display_data",
       "png": "[encoded data removed]",
       "text": [
        "<matplotlib.figure.Figure at 0x105f3efd0>"
       ]
      }
     ],
     "prompt_number": 5
    },
    {
     "cell_type": "heading",
     "level": 3,
     "metadata": {},
     "source": [
      "Question 3"
     ]
    },
    {
     "cell_type": "markdown",
     "metadata": {},
     "source": [
      "\n",
      "Consider a particle in a one-dimensional box of width L. The probability of finding the particle between a and b is given by\n",
      "P(a,b)=\u222bba|\u03c8(x)|2dx\n",
      "where\n",
      "\u03c8(x)=2L\u203e\u203e\u203e\u221asin(n\u03c0xL)\n",
      "is the wavefunction.\n"
     ]
    },
    {
     "cell_type": "markdown",
     "metadata": {},
     "source": [
      "a) What is the probability of finding the particle between L/3 and L/2 for the ground state (n = 1) and for the first excited state (n = 2)? Let L = 1. Perform the integral using both scipy.integrate.trapz and scipy.integrate.quad with an accuracy of 6 sig figs. How many slices did you need to use for scipy.integrate.trapz?"
     ]
    },
    {
     "cell_type": "code",
     "collapsed": false,
     "input": [
      "L = 1.\n",
      "t = np.linspace(L/3., L/2.,1000)\n",
      "x = np.arange(0,1,0.01)\n",
      "func = lambda x: abs(np.sqrt(2./L)*sin((n*np.pi*x)/L))**2.\n",
      "n = 1.\n",
      "print integrate.quad(func, L/3., L/2.) \n",
      "print integrate.trapz(func(t),t)\n",
      "n = 2.\n",
      "print integrate.trapz(func(t),t)\n",
      "print integrate.quad(func, L/3., L/2.)  "
     ],
     "language": "python",
     "metadata": {},
     "outputs": [
      {
       "output_type": "stream",
       "stream": "stdout",
       "text": [
        "(0.3044988905221147, 3.380616792304666e-15)\n",
        "0.304498877901\n",
        "0.0977505799811\n",
        "(0.09775055473894276, 1.0852491654105595e-15)\n"
       ]
      }
     ],
     "prompt_number": 6
    },
    {
     "cell_type": "markdown",
     "metadata": {},
     "source": [
      "\n",
      "\n",
      "(b) Make a plot of |\u03c8(x)|2 vs. x for the first two excited states with L=1.\n"
     ]
    },
    {
     "cell_type": "code",
     "collapsed": false,
     "input": [
      "n = 1\n",
      "plt.plot(x,func(x),label='n=1')\n",
      "n = 2\n",
      "plt.plot(x,func(x),label='n=2')\n",
      "plt.legend(loc='best')\n",
      "plt.show"
     ],
     "language": "python",
     "metadata": {},
     "outputs": [
      {
       "metadata": {},
       "output_type": "pyout",
       "prompt_number": 7,
       "text": [
        "<function matplotlib.pyplot.show>"
       ]
      },
      {
       "metadata": {},
       "output_type": "display_data",
       "png": "[encoded data removed]",
       "text": [
        "<matplotlib.figure.Figure at 0x105f3eb90>"
       ]
      }
     ],
     "prompt_number": 7
    },
    {
     "cell_type": "heading",
     "level": 3,
     "metadata": {},
     "source": [
      "Question 4"
     ]
    },
    {
     "cell_type": "markdown",
     "metadata": {},
     "source": [
      "\n",
      "\n",
      "Integrals of mass density lead to three interesting quantities:\n",
      "\n",
      "M=\u222b\u03c1dVr\u20d7 cm=(xcm,ycm,zcm)=1M\u222br\u20d7 \u03c1dVIcm=\u222b(r\u2212rcm)2\u03c1dV\n",
      "\n",
      "where M is the total mass (a scalar), r\u20d7 cm is the center of mass position (a vector of 3 components), Icm are the moments of inertia about the center of mass (diagonals of a 3x3 matrix), and the mass density, \u03c1, may be a function of the spatial variables.\n",
      "\n",
      "Consider a rectangular box: length (in x) = 0.2 m, width (in y) = 0.2 m, and height (in z) = 1.0 m centered on the origin, (0,0,0) and with a mass density, \u03c1(x,y,z) = (100 kg/m4)(y + 0.1) + (100 kg/m5)z2 for x, y, and z in meters.\n",
      "\n",
      "(a) Use numerical integration to find M, r\u20d7 cm, and Icm. Note that you need M to compute r\u20d7 cm and r\u20d7 cm to compute Icm. The moments of inertia Icm are Ixx, Iyy, and Izz, where e.g. Ixx=\u222b((y\u2212ycm)2+(z\u2212zcm)2)\u03c1dV, etc.\n"
     ]
    },
    {
     "cell_type": "code",
     "collapsed": false,
     "input": [
      "from scipy.integrate import tplquad\n",
      "\n",
      "#AGAIN: the order of arguments matters - inner to outer\n",
      "integrand = lambda z,y,x: 100.*((y+0.1)+(z**2.))\n",
      "\n",
      "xmin = -0.1\n",
      "xmax = 0.1\n",
      "\n",
      "ymin = lambda x: -0.1\n",
      "ymax = lambda x: 0.1\n",
      "\n",
      "#Note the order of these arguments:\n",
      "zmin = lambda x,y: -0.5\n",
      "zmax = lambda x,y: 0.5\n",
      "M, error = tplquad(integrand, xmin, xmax, ymin, ymax, zmin, zmax)\n",
      "print \"Mass =\", M\n",
      "\n",
      "rx = lambda z,y,x: x*100.*((y+0.1)+(z**2.))\n",
      "ry = lambda z,y,x: y*100.*((y+0.1)+(z**2.))\n",
      "rz = lambda z,y,x: z*100.*((y+0.1)+(z**2.))\n",
      "\n",
      "xmin = -0.1\n",
      "xmax = 0.1\n",
      "ymin = lambda x: -0.1\n",
      "ymax = lambda x: 0.1\n",
      "zmin = lambda x,y: -0.5\n",
      "zmax = lambda x,y: 0.5\n",
      "\n",
      "rx1, error = tplquad(rx, xmin, xmax, ymin, ymax, zmin, zmax)\n",
      "ry1, eroor = tplquad(ry, xmin, xmax, ymin, ymax, zmin, zmax)\n",
      "rz1, error = tplquad(rz, xmin, xmax, ymin, ymax, zmin, zmax)\n",
      "\n",
      "print \"rx\",rx1/M\n",
      "print \"ry\",ry1/M\n",
      "print \"rz\",rz1/M\n",
      "\n",
      "Ix = lambda z,x,y: ((y - ry1/M)**2 + (z - rz1/M)**2)*(100.*((y+0.1)+(z**2.)))\n",
      "Iy = lambda z,x,y: ((x - rx1/M)**2 + (z - rz1/M)**2)*(100.*((y+0.1)+(z**2.)))\n",
      "Iz = lambda z,x,y: ((y - ry1/M)**2 + (x - rx1/M)**2)*(100.*((y+0.1)+(z**2.)))\n",
      "Ix1, error = tplquad(Ix, xmin, xmax, ymin, ymax, zmin, zmax)\n",
      "Iy1, error = tplquad(Iy, xmin, xmax, ymin, ymax, zmin, zmax)\n",
      "Iz1, error = tplquad(Iz, xmin, xmax, ymin, ymax, zmin, zmax)\n",
      "#Here the order of limits is outer to inner\n",
      "print \"Ix = \", Ix1\n",
      "print \"Iy = \", Iy1\n",
      "print \"Iz = \", Iz1"
     ],
     "language": "python",
     "metadata": {},
     "outputs": [
      {
       "output_type": "stream",
       "stream": "stdout",
       "text": [
        "Mass = 0.733333333333\n",
        "rx 0.0\n",
        "ry 0.0181818181818\n",
        "rz 0.0\n",
        "Ix = "
       ]
      },
      {
       "output_type": "stream",
       "stream": "stdout",
       "text": [
        " 0.0855353535354\n",
        "Iy =  0.0857777777778\n",
        "Iz =  0.00464646464646\n"
       ]
      }
     ],
     "prompt_number": 8
    },
    {
     "cell_type": "markdown",
     "metadata": {},
     "source": [
      "\n",
      "\n",
      "(b) The mass, center of mass, and moments of inertia can be easily computed analytically for a rectangular box of uniform density. (Compute them yourself or look them up). Verify your algorithm from part (a) works by having it compute the result for this test case. How accurate (how many sig figs?) is the numerical result?\n"
     ]
    },
    {
     "cell_type": "code",
     "collapsed": false,
     "input": [
      "#AGAIN: the order of arguments matters - inner to outer\n",
      "integrand = lambda z,y,x: 1.\n",
      "\n",
      "xmin = -0.1\n",
      "xmax = 0.1\n",
      "\n",
      "ymin = lambda x: -0.1\n",
      "ymax = lambda x: 0.1\n",
      "\n",
      "#Note the order of these arguments:\n",
      "zmin = lambda x,y: -0.5\n",
      "zmax = lambda x,y: 0.5\n",
      "M, error = tplquad(integrand, xmin, xmax, ymin, ymax, zmin, zmax)\n",
      "print \"Mass =\", M\n",
      "\n",
      "rx = lambda z,y,x: x\n",
      "ry = lambda z,y,x: y\n",
      "rz = lambda z,y,x: z\n",
      "\n",
      "xmin = -0.1\n",
      "xmax = 0.1\n",
      "ymin = lambda x: -0.1\n",
      "ymax = lambda x: 0.1\n",
      "zmin = lambda x,y: -0.5\n",
      "zmax = lambda x,y: 0.5\n",
      "\n",
      "rx1, error = tplquad(rx, xmin, xmax, ymin, ymax, zmin, zmax)\n",
      "ry1, eroor = tplquad(ry, xmin, xmax, ymin, ymax, zmin, zmax)\n",
      "rz1, error = tplquad(rz, xmin, xmax, ymin, ymax, zmin, zmax)\n",
      "\n",
      "print \"rx\",rx1/M\n",
      "print \"ry\",ry1/M\n",
      "print \"rz\",rz1/M\n",
      "\n",
      "Ix = lambda z,x,y: ((y - ry1/M)**2 + (z - rz1/M)**2)\n",
      "Iy = lambda z,x,y: ((x - rx1/M)**2 + (z - rz1/M)**2)\n",
      "Iz = lambda z,x,y: ((y - ry1/M)**2 + (x - rx1/M)**2)\n",
      "Ix1, error = tplquad(Ix, xmin, xmax, ymin, ymax, zmin, zmax)\n",
      "Iy1, error = tplquad(Iy, xmin, xmax, ymin, ymax, zmin, zmax)\n",
      "Iz1, error = tplquad(Iz, xmin, xmax, ymin, ymax, zmin, zmax)\n",
      "#Here the order of limits is outer to inner\n",
      "print \"Ix = \", Ix1\n",
      "print \"Iy = \", Iy1\n",
      "print \"Iz = \", Iz1"
     ],
     "language": "python",
     "metadata": {},
     "outputs": [
      {
       "output_type": "stream",
       "stream": "stdout",
       "text": [
        "Mass = 0.04\n",
        "rx 0.0\n",
        "ry 0.0\n",
        "rz 0.0\n",
        "Ix = "
       ]
      },
      {
       "output_type": "stream",
       "stream": "stdout",
       "text": [
        " 0.00346666666667\n",
        "Iy =  0.00346666666667\n",
        "Iz =  0.000266666666667\n"
       ]
      }
     ],
     "prompt_number": 9
    },
    {
     "cell_type": "markdown",
     "metadata": {},
     "source": [
      "\n",
      "\n",
      "(c) Finally, change the density function to something of your choosing (different from that used in parts (a) and (b)) and recompute M, r\u20d7 cm and Icm for that case.\n"
     ]
    },
    {
     "cell_type": "code",
     "collapsed": false,
     "input": [
      "#AGAIN: the order of arguments matters - inner to outer\n",
      "integrand = lambda z,y,x: 100.*(x**2 + y**2 + z**2)\n",
      "\n",
      "xmin = -0.1\n",
      "xmax = 0.1\n",
      "\n",
      "ymin = lambda x: -0.1\n",
      "ymax = lambda x: 0.1\n",
      "\n",
      "#Note the order of these arguments:\n",
      "zmin = lambda x,y: -0.5\n",
      "zmax = lambda x,y: 0.5\n",
      "M, error = tplquad(integrand, xmin, xmax, ymin, ymax, zmin, zmax)\n",
      "print \"Mass =\", M\n",
      "\n",
      "rx = lambda z,y,x: x*100.*(x**2 + y**2 + z**2)\n",
      "ry = lambda z,y,x: y*100.*(x**2 + y**2 + z**2)\n",
      "rz = lambda z,y,x: z*100.*(x**2 + y**2 + z**2)\n",
      "\n",
      "xmin = -0.1\n",
      "xmax = 0.1\n",
      "ymin = lambda x: -0.1\n",
      "ymax = lambda x: 0.1\n",
      "zmin = lambda x,y: -0.5\n",
      "zmax = lambda x,y: 0.5\n",
      "\n",
      "rx1, error = tplquad(rx, xmin, xmax, ymin, ymax, zmin, zmax)\n",
      "ry1, eroor = tplquad(ry, xmin, xmax, ymin, ymax, zmin, zmax)\n",
      "rz1, error = tplquad(rz, xmin, xmax, ymin, ymax, zmin, zmax)\n",
      "\n",
      "print \"rx\",rx1/M\n",
      "print \"ry\",ry1/M\n",
      "print \"rz\",rz1/M\n",
      "\n",
      "Ix = lambda z,x,y: ((y - ry1/M)**2 + (z - rz1/M)**2)*(100.*(x**2 + y**2 + z**2))\n",
      "Iy = lambda z,x,y: ((x - rx1/M)**2 + (z - rz1/M)**2)*(100.*(x**2 + y**2 + z**2))\n",
      "Iz = lambda z,x,y: ((y - ry1/M)**2 + (x - rx1/M)**2)*(100.*(x**2 + y**2 + z**2))\n",
      "Ix1, error = tplquad(Ix, xmin, xmax, ymin, ymax, zmin, zmax)\n",
      "Iy1, error = tplquad(Iy, xmin, xmax, ymin, ymax, zmin, zmax)\n",
      "Iz1, error = tplquad(Iz, xmin, xmax, ymin, ymax, zmin, zmax)\n",
      "#Here the order of limits is outer to inner\n",
      "print \"Ix = \", Ix1\n",
      "print \"Iy = \", Iy1\n",
      "print \"Iz = \", Iz1"
     ],
     "language": "python",
     "metadata": {},
     "outputs": [
      {
       "output_type": "stream",
       "stream": "stdout",
       "text": [
        "Mass = 0.36\n",
        "rx"
       ]
      },
      {
       "output_type": "stream",
       "stream": "stdout",
       "text": [
        " 0.0\n",
        "ry 0.0\n",
        "rz 0.0\n",
        "Ix = "
       ]
      },
      {
       "output_type": "stream",
       "stream": "stdout",
       "text": [
        " 0.0534577777778\n",
        "Iy =  0.0534577777778\n",
        "Iz =  0.00247111111111\n"
       ]
      }
     ],
     "prompt_number": 10
    }
   ],
   "metadata": {}
  }
 ]
}