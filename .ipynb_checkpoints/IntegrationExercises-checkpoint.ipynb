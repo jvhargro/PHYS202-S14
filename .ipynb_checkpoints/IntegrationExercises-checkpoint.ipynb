{
 "metadata": {
  "name": "",
  "signature": "sha256:7819eb8ca3a3ad101fdee6331d38d89b76c97a640eb830bf6e107bc1b67d63d0"
 },
 "nbformat": 3,
 "nbformat_minor": 0,
 "worksheets": [
  {
   "cells": [
    {
     "cell_type": "heading",
     "level": 1,
     "metadata": {},
     "source": [
      "Integration Exercises"
     ]
    },
    {
     "cell_type": "code",
     "collapsed": false,
     "input": [
      "%pylab inline\n",
      "import numpy as np\n",
      "import matplotlib.pyplot as plt"
     ],
     "language": "python",
     "metadata": {},
     "outputs": [
      {
       "output_type": "stream",
       "stream": "stdout",
       "text": [
        "Populating the interactive namespace from numpy and matplotlib\n"
       ]
      }
     ],
     "prompt_number": 1
    },
    {
     "cell_type": "heading",
     "level": 3,
     "metadata": {},
     "source": [
      "Question 1"
     ]
    },
    {
     "cell_type": "markdown",
     "metadata": {},
     "source": [
      "\n",
      "(a) Write two functions trapz(func,a,b,N) and simps(func,a,b,N) to compute the integral of the function func over the variable x using the trapezoidal rule and Simpson's rule to a file called Integrators.py. Do not use the scipy.integrate built-in functions. Include docstrings with each function that describe what they do. Then import the module and use the functions to answer the following questions. To avoid namespace conflicts, import your module as myint and then call the functions from that namespace. i.e.\n",
      "\n",
      "    import integrators as myint\n",
      "    #...your code...here\n",
      "    I = myint.trapz(func,a,b,N)\n",
      "Also, be sure that you import any needed modules inside your Integrators.py file."
     ]
    },
    {
     "cell_type": "code",
     "collapsed": false,
     "input": [
      "%%file Integrators.py\n",
      "\n",
      "import numpy as np\n",
      "\n",
      "def trapz(func,a,b,N):\n",
      "    '''takes a function, and integrates from imputed limits, a to b,\n",
      "    using N number of trapezoids'''\n",
      "    h = (b-a)/N\n",
      "    k = np.arange(1,N)\n",
      "    I = h*(0.5*func(a) + 0.5*func(b) + func(a+k*h).sum())\n",
      "    return I\n",
      "\n",
      "def simps(func,a,b,N):\n",
      "    '''takes a function, and integrates from imputed limits, a to b,\n",
      "    using N number of quadratic curves'''\n",
      "    h = (b-a)/N\n",
      "    k1 = np.arange(1, N/2+1)\n",
      "    k2 = np.arange(1, N/2)\n",
      "    I2 = (1./3.)*h*(func(a) + func(b) + 4.*func(a+(2*k1-1)*h).sum() + 2.*func(a+2*k2*h).sum())\n",
      "    return I2\n",
      "               "
     ],
     "language": "python",
     "metadata": {},
     "outputs": [
      {
       "output_type": "stream",
       "stream": "stdout",
       "text": [
        "Overwriting Integrators.py\n"
       ]
      }
     ],
     "prompt_number": 2
    },
    {
     "cell_type": "markdown",
     "metadata": {},
     "source": [
      "\n",
      "(b) Use your trapz and simps functions from part (a) to calculate the integral of x4\u22122x+1 from x = 0 to x = 2 with N = 10, N = 100, and N = 1000. Then compare your result to the known correct value of 4.4. What is the percent error in each case?"
     ]
    },
    {
     "cell_type": "code",
     "collapsed": false,
     "input": [
      "import Integrators as myint\n",
      "func = lambda x: x**4 - 2*x + 1\n",
      "\n",
      "print myint.trapz(func,0.,2.,10.),\"%error =\", (myint.trapz(func,0.,2.,10.) - 4.4)/4.4 * 100 #N = 10\n",
      "print myint.simps(func,0.,2.,10.),\"%error =\", (myint.simps(func,0.,2.,10.) - 4.4)/4.4 * 100\n",
      "print myint.trapz(func,0.,2.,100.),\"%error =\", (myint.trapz(func,0.,2.,100.) - 4.4)/4.4 * 100 #N = 100\n",
      "print myint.simps(func,0.,2.,100.),\"%error =\", (myint.simps(func,0.,2.,100.) - 4.4)/4.4 * 100\n",
      "print myint.trapz(func,0.,2.,1000.),\"%error =\", (myint.trapz(func,0.,2.,1000.) - 4.4)/4.4 * 100 #N = 1000\n",
      "print myint.simps(func,0.,2.,1000.),\"%error =\", (myint.simps(func,0.,2.,1000.) - 4.4)/4.4 * 100"
     ],
     "language": "python",
     "metadata": {},
     "outputs": [
      {
       "output_type": "stream",
       "stream": "stdout",
       "text": [
        "4.50656 %error = 2.42181818182\n",
        "4.40042666667 %error = 0.00969696969697\n",
        "4.401066656 %error = 0.0242421818182\n",
        "4.40000004267 %error = 9.69696969187e-07\n",
        "4.40001066667 %error = 0.000242424218175\n",
        "4.4 %error = 9.69729347327e-11\n"
       ]
      }
     ],
     "prompt_number": 10
    },
    {
     "cell_type": "heading",
     "level": 3,
     "metadata": {},
     "source": [
      "Question 2"
     ]
    },
    {
     "cell_type": "markdown",
     "metadata": {},
     "source": [
      "\n",
      "Consider the integral\n",
      "E(x)=\u222bx0e\u2212t2dt\n",
      "This is the error function, commonly seen in probability and statistics. There is no known way to perform this particular integral analytically, although the integrand can be expanded in a Taylor series and terms computed to arbitrary order. For most applications, numerical approaches are the only way forward."
     ]
    },
    {
     "cell_type": "markdown",
     "metadata": {},
     "source": [
      "(a) Use scipy.integrate.cumtrapz to calculate E(x) for values of x from 0 to 3 in steps of 0.1. Print the result."
     ]
    },
    {
     "cell_type": "code",
     "collapsed": false,
     "input": [
      "import scipy.integrate as integrate\n",
      "t = np.arange(0,3.1,.1)\n",
      "func = lambda x: np.exp(-(x**2.))\n",
      "\n",
      "integrate.cumtrapz(func(t),x=None, dx=0.1, axis=-1, initial=None)"
     ],
     "language": "python",
     "metadata": {},
     "outputs": [
      {
       "metadata": {},
       "output_type": "pyout",
       "prompt_number": 19,
       "text": [
        "array([ 0.09950249,  0.19704446,  0.29078049,  0.37908424,  0.46063146,\n",
        "        0.53445532,  0.59997046,  0.6569664 ,  0.70557392,  0.7462108 ,\n",
        "        0.77951463,  0.80627088,  0.82734325,  0.84361215,  0.85592503,\n",
        "        0.86506023,  0.87170427,  0.87644128,  0.87975207,  0.88202044,\n",
        "        0.88354398,  0.88454709,  0.88519453,  0.88560418,  0.88585826,\n",
        "        0.88601274,  0.88610482,  0.88615862,  0.88618943,  0.88620673])"
       ]
      }
     ],
     "prompt_number": 19
    },
    {
     "cell_type": "code",
     "collapsed": false,
     "input": [],
     "language": "python",
     "metadata": {},
     "outputs": []
    }
   ],
   "metadata": {}
  }
 ]
}