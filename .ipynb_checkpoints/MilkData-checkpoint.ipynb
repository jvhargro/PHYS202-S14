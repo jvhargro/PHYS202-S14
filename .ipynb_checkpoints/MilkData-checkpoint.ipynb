{
 "metadata": {
  "name": "",
  "signature": "sha256:99f0950fb18c036528e7ce35c0f7a99c29a4783beab28b846782984c7eae741c"
 },
 "nbformat": 3,
 "nbformat_minor": 0,
 "worksheets": [
  {
   "cells": [
    {
     "cell_type": "code",
     "collapsed": false,
     "input": [],
     "language": "python",
     "metadata": {},
     "outputs": []
    }
   ],
   "metadata": {}
  }
 ]
}