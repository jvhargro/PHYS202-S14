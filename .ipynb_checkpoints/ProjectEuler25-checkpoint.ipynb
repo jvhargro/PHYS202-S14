{
 "metadata": {
  "name": "",
  "signature": "sha256:27b982a6c1362b430e623a55360b6de0337386883768ed037f6134922d0ba29c"
 },
 "nbformat": 3,
 "nbformat_minor": 0,
 "worksheets": [
  {
   "cells": [
    {
     "cell_type": "heading",
     "level": 1,
     "metadata": {},
     "source": [
      "1000-digit Fibonacci number"
     ]
    },
    {
     "cell_type": "heading",
     "level": 3,
     "metadata": {},
     "source": [
      "Problem 25"
     ]
    },
    {
     "cell_type": "markdown",
     "metadata": {},
     "source": [
      "\n",
      "\n",
      "The Fibonacci sequence is defined by the recurrence relation:\n",
      "\n",
      "    Fn = Fn\u22121 + Fn\u22122, where F1 = 1 and F2 = 1.\n",
      "\n",
      "Hence the first 12 terms will be:\n",
      "\n",
      "    F1 = 1\n",
      "    F2 = 1\n",
      "    F3 = 2\n",
      "    F4 = 3\n",
      "    F5 = 5\n",
      "    F6 = 8\n",
      "    F7 = 13\n",
      "    F8 = 21\n",
      "    F9 = 34\n",
      "    F10 = 55\n",
      "    F11 = 89\n",
      "    F12 = 144\n",
      "\n",
      "The 12th term, F12, is the first term to contain three digits.\n",
      "\n",
      "What is the first term in the Fibonacci sequence to contain 1000 digits?\n"
     ]
    },
    {
     "cell_type": "code",
     "collapsed": false,
     "input": [
      "def fibseq(x):\n",
      "    a = 1\n",
      "    b = 2\n",
      "    n = 3 # the first 3 numbers of the sequence are not covered by the following loop\n",
      "    for i in range(x**2):\n",
      "        i = a + b\n",
      "        a = b\n",
      "        b = i\n",
      "        z = str(i)\n",
      "        n = n+1\n",
      "        if len(z) == x:\n",
      "            print \"The\", n, \"number of the Fibonacci sequence is the first to have\", x, \"digits.\"\n",
      "            break"
     ],
     "language": "python",
     "metadata": {},
     "outputs": [],
     "prompt_number": 1
    },
    {
     "cell_type": "code",
     "collapsed": false,
     "input": [
      "fibseq(3)"
     ],
     "language": "python",
     "metadata": {},
     "outputs": [
      {
       "output_type": "stream",
       "stream": "stdout",
       "text": [
        "The 12 number of the Fibonacci sequence is the first to have 3 digits.\n"
       ]
      }
     ],
     "prompt_number": 2
    },
    {
     "cell_type": "code",
     "collapsed": false,
     "input": [
      "fibseq(1000)"
     ],
     "language": "python",
     "metadata": {},
     "outputs": [
      {
       "output_type": "stream",
       "stream": "stdout",
       "text": [
        "The 4782 number of the Fibonacci sequence is the first to have 1000 digits.\n"
       ]
      }
     ],
     "prompt_number": 3
    }
   ],
   "metadata": {}
  }
 ]
}