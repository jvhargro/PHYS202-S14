{
 "metadata": {
  "name": "",
  "signature": "sha256:994ba7e885a2c8a8cd263a035069de69e7e50708a1d674457cb4a2e1114cc879"
 },
 "nbformat": 3,
 "nbformat_minor": 0,
 "worksheets": [
  {
   "cells": [
    {
     "cell_type": "heading",
     "level": 1,
     "metadata": {},
     "source": [
      "Largest palindrome product"
     ]
    },
    {
     "cell_type": "heading",
     "level": 3,
     "metadata": {},
     "source": [
      "Problem 4"
     ]
    },
    {
     "cell_type": "markdown",
     "metadata": {},
     "source": [
      "\n",
      "\n",
      "A palindromic number reads the same both ways. The largest palindrome made from the product of two 2-digit numbers is 9009 = 91 \u00d7 99.\n",
      "\n",
      "Find the largest palindrome made from the product of two 3-digit numbers.\n"
     ]
    },
    {
     "cell_type": "code",
     "collapsed": false,
     "input": [
      "tot = 0\n",
      "for x in range(100):\n",
      "    for y in range(100):\n",
      "        pal1 = x*y\n",
      "        pal = str(pal1)\n",
      "        if len(pal) == 4:\n",
      "            if pal[0] == pal[-1]:\n",
      "                if pal[1] == pal[-2]:\n",
      "                    if pal1 > tot:\n",
      "                        tot = pal1\n",
      "                        ans1 = x\n",
      "                        ans2 = y\n",
      "print ans1\n",
      "print ans2  ## test case"
     ],
     "language": "python",
     "metadata": {},
     "outputs": [
      {
       "output_type": "stream",
       "stream": "stdout",
       "text": [
        "91\n",
        "99\n"
       ]
      }
     ],
     "prompt_number": 1
    },
    {
     "cell_type": "code",
     "collapsed": false,
     "input": [
      "print len(str(999*999))"
     ],
     "language": "python",
     "metadata": {},
     "outputs": [
      {
       "output_type": "stream",
       "stream": "stdout",
       "text": [
        "6\n"
       ]
      }
     ],
     "prompt_number": 2
    },
    {
     "cell_type": "code",
     "collapsed": false,
     "input": [
      "tot = 0\n",
      "for x in range(1000):\n",
      "    for y in range(1000):\n",
      "        pal1 = x*y\n",
      "        pal = str(pal1)\n",
      "        if len(pal) >= 6:\n",
      "            if pal[0] == pal[-1]:\n",
      "                if pal[1] == pal[4]:\n",
      "                    if pal[2] == pal[3]:\n",
      "                        if pal1 > tot:\n",
      "                            tot = pal1\n",
      "                            a = x\n",
      "                            b = y\n",
      "                        \n",
      "print a\n",
      "print b"
     ],
     "language": "python",
     "metadata": {},
     "outputs": [
      {
       "output_type": "stream",
       "stream": "stdout",
       "text": [
        "913\n",
        "993\n"
       ]
      }
     ],
     "prompt_number": 3
    }
   ],
   "metadata": {}
  }
 ]
}